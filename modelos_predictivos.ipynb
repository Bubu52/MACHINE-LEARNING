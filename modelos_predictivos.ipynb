{
 "cells": [
  {
   "cell_type": "markdown",
   "metadata": {},
   "source": [
    "### **Modelos predictivos**"
   ]
  },
  {
   "cell_type": "markdown",
   "metadata": {},
   "source": [
    "#### **Librerias:**"
   ]
  },
  {
   "cell_type": "code",
   "execution_count": 1,
   "metadata": {},
   "outputs": [],
   "source": [
    "import numpy as np\n",
    "import matplotlib.pyplot as plt\n",
    "import pandas as pd\n",
    "from sklearn.preprocessing import StandardScaler, MinMaxScaler, OrdinalEncoder, OneHotEncoder\n",
    "from sklearn.metrics import accuracy_score, confusion_matrix, precision_score, recall_score, f1_score\n",
    "from sklearn.linear_model import LogisticRegression\n",
    "from sklearn.tree import DecisionTreeClassifier\n",
    "from sklearn.ensemble import RandomForestClassifier\n",
    "from sklearn.model_selection import KFold\n",
    "from joblib import dump, load"
   ]
  },
  {
   "cell_type": "markdown",
   "metadata": {},
   "source": [
    "- Importamos el dataset"
   ]
  },
  {
   "cell_type": "code",
   "execution_count": 2,
   "metadata": {},
   "outputs": [],
   "source": [
    "original = pd.read_csv('coches-de-segunda-mano-sample.csv')\n",
    "df = original.copy()"
   ]
  },
  {
   "cell_type": "code",
   "execution_count": 3,
   "metadata": {},
   "outputs": [
    {
     "data": {
      "text/html": [
       "<div>\n",
       "<style scoped>\n",
       "    .dataframe tbody tr th:only-of-type {\n",
       "        vertical-align: middle;\n",
       "    }\n",
       "\n",
       "    .dataframe tbody tr th {\n",
       "        vertical-align: top;\n",
       "    }\n",
       "\n",
       "    .dataframe thead th {\n",
       "        text-align: right;\n",
       "    }\n",
       "</style>\n",
       "<table border=\"1\" class=\"dataframe\">\n",
       "  <thead>\n",
       "    <tr style=\"text-align: right;\">\n",
       "      <th></th>\n",
       "      <th>url</th>\n",
       "      <th>company</th>\n",
       "      <th>make</th>\n",
       "      <th>model</th>\n",
       "      <th>version</th>\n",
       "      <th>price</th>\n",
       "      <th>price_financed</th>\n",
       "      <th>fuel</th>\n",
       "      <th>year</th>\n",
       "      <th>kms</th>\n",
       "      <th>...</th>\n",
       "      <th>doors</th>\n",
       "      <th>shift</th>\n",
       "      <th>color</th>\n",
       "      <th>photos</th>\n",
       "      <th>is_professional</th>\n",
       "      <th>dealer</th>\n",
       "      <th>province</th>\n",
       "      <th>country</th>\n",
       "      <th>publish_date</th>\n",
       "      <th>insert_date</th>\n",
       "    </tr>\n",
       "  </thead>\n",
       "  <tbody>\n",
       "    <tr>\n",
       "      <th>24329</th>\n",
       "      <td>3640eae75e7a0f9cf48cf050f2b49403</td>\n",
       "      <td>9881bcdd5a0ad4733037b3fb25e69c3a</td>\n",
       "      <td>NISSAN</td>\n",
       "      <td>JUKE</td>\n",
       "      <td>NISSAN JUKE DIGT E6 140kW190CV XTRONIC 4x4i TE...</td>\n",
       "      <td>16990</td>\n",
       "      <td>15790.0</td>\n",
       "      <td>Gasolina</td>\n",
       "      <td>2017.0</td>\n",
       "      <td>5776</td>\n",
       "      <td>...</td>\n",
       "      <td>5</td>\n",
       "      <td>Automático</td>\n",
       "      <td>Gris / Plata</td>\n",
       "      <td>37</td>\n",
       "      <td>True</td>\n",
       "      <td>Flexicar Valencia</td>\n",
       "      <td>Valencia</td>\n",
       "      <td>Spain</td>\n",
       "      <td>2020-12-28 12:55:07</td>\n",
       "      <td>2021-01-15 00:00:00</td>\n",
       "    </tr>\n",
       "  </tbody>\n",
       "</table>\n",
       "<p>1 rows × 21 columns</p>\n",
       "</div>"
      ],
      "text/plain": [
       "                                    url                           company  \\\n",
       "24329  3640eae75e7a0f9cf48cf050f2b49403  9881bcdd5a0ad4733037b3fb25e69c3a   \n",
       "\n",
       "         make model                                            version  price  \\\n",
       "24329  NISSAN  JUKE  NISSAN JUKE DIGT E6 140kW190CV XTRONIC 4x4i TE...  16990   \n",
       "\n",
       "       price_financed      fuel    year   kms  ...  doors       shift  \\\n",
       "24329         15790.0  Gasolina  2017.0  5776  ...      5  Automático   \n",
       "\n",
       "              color photos  is_professional             dealer  province  \\\n",
       "24329  Gris / Plata     37             True  Flexicar Valencia  Valencia   \n",
       "\n",
       "      country         publish_date          insert_date  \n",
       "24329   Spain  2020-12-28 12:55:07  2021-01-15 00:00:00  \n",
       "\n",
       "[1 rows x 21 columns]"
      ]
     },
     "execution_count": 3,
     "metadata": {},
     "output_type": "execute_result"
    }
   ],
   "source": [
    "df.sample(1)"
   ]
  },
  {
   "cell_type": "markdown",
   "metadata": {},
   "source": [
    "**EDA**"
   ]
  },
  {
   "cell_type": "markdown",
   "metadata": {},
   "source": [
    "- Borramos las dos primeras columnas y las dos finales\n",
    "- Miramos duplicados limpiando la data \"dropeando\" cuatro columnas.\n",
    "- Las columnas eliminadas son columnas irrelevantes para el analisis ya que da erroneo el momento de mirar duplicados."
   ]
  },
  {
   "cell_type": "code",
   "execution_count": 4,
   "metadata": {},
   "outputs": [],
   "source": [
    "url_comp = [\"url\",\"company\",\"publish_date\",\"insert_date\"]"
   ]
  },
  {
   "cell_type": "code",
   "execution_count": 5,
   "metadata": {},
   "outputs": [
    {
     "data": {
      "text/html": [
       "<div>\n",
       "<style scoped>\n",
       "    .dataframe tbody tr th:only-of-type {\n",
       "        vertical-align: middle;\n",
       "    }\n",
       "\n",
       "    .dataframe tbody tr th {\n",
       "        vertical-align: top;\n",
       "    }\n",
       "\n",
       "    .dataframe thead th {\n",
       "        text-align: right;\n",
       "    }\n",
       "</style>\n",
       "<table border=\"1\" class=\"dataframe\">\n",
       "  <thead>\n",
       "    <tr style=\"text-align: right;\">\n",
       "      <th></th>\n",
       "      <th>make</th>\n",
       "      <th>model</th>\n",
       "      <th>version</th>\n",
       "      <th>price</th>\n",
       "      <th>price_financed</th>\n",
       "      <th>fuel</th>\n",
       "      <th>year</th>\n",
       "      <th>kms</th>\n",
       "      <th>power</th>\n",
       "      <th>doors</th>\n",
       "      <th>shift</th>\n",
       "      <th>color</th>\n",
       "      <th>photos</th>\n",
       "      <th>is_professional</th>\n",
       "      <th>dealer</th>\n",
       "      <th>province</th>\n",
       "      <th>country</th>\n",
       "    </tr>\n",
       "  </thead>\n",
       "  <tbody>\n",
       "    <tr>\n",
       "      <th>26999</th>\n",
       "      <td>SEAT</td>\n",
       "      <td>Tarraco</td>\n",
       "      <td>SEAT Tarraco 2.0 TDI 110kW 4Drive DSG SS FR GO...</td>\n",
       "      <td>39900</td>\n",
       "      <td>36900.0</td>\n",
       "      <td>Diésel</td>\n",
       "      <td>2020.0</td>\n",
       "      <td>14438</td>\n",
       "      <td>150.0</td>\n",
       "      <td>5</td>\n",
       "      <td>Automático</td>\n",
       "      <td>Blanco</td>\n",
       "      <td>28</td>\n",
       "      <td>True</td>\n",
       "      <td>Huelva Motor</td>\n",
       "      <td>Huelva</td>\n",
       "      <td>Spain</td>\n",
       "    </tr>\n",
       "    <tr>\n",
       "      <th>22042</th>\n",
       "      <td>VOLKSWAGEN</td>\n",
       "      <td>Passat</td>\n",
       "      <td>VOLKSWAGEN Passat BlueMotion 1.6 TDI 120CV 4p.</td>\n",
       "      <td>13900</td>\n",
       "      <td>13400.0</td>\n",
       "      <td>Diésel</td>\n",
       "      <td>2016.0</td>\n",
       "      <td>145000</td>\n",
       "      <td>120.0</td>\n",
       "      <td>4</td>\n",
       "      <td>Manual</td>\n",
       "      <td>Gris / Plata</td>\n",
       "      <td>11</td>\n",
       "      <td>True</td>\n",
       "      <td>Autos Huertas</td>\n",
       "      <td>Córdoba</td>\n",
       "      <td>Spain</td>\n",
       "    </tr>\n",
       "    <tr>\n",
       "      <th>20668</th>\n",
       "      <td>RENAULT</td>\n",
       "      <td>Laguna</td>\n",
       "      <td>RENAULT Laguna Limited dCi 110 eco2 5p.</td>\n",
       "      <td>7500</td>\n",
       "      <td>7500.0</td>\n",
       "      <td>Diésel</td>\n",
       "      <td>2015.0</td>\n",
       "      <td>210000</td>\n",
       "      <td>110.0</td>\n",
       "      <td>5</td>\n",
       "      <td>Manual</td>\n",
       "      <td>Blanco</td>\n",
       "      <td>11</td>\n",
       "      <td>True</td>\n",
       "      <td>Jose Antonio Munuera Soto</td>\n",
       "      <td>Murcia</td>\n",
       "      <td>Spain</td>\n",
       "    </tr>\n",
       "    <tr>\n",
       "      <th>48022</th>\n",
       "      <td>RENAULT</td>\n",
       "      <td>Laguna</td>\n",
       "      <td>RENAULT Laguna  5p.</td>\n",
       "      <td>1800</td>\n",
       "      <td>NaN</td>\n",
       "      <td>Gasolina</td>\n",
       "      <td>2001.0</td>\n",
       "      <td>175000</td>\n",
       "      <td>NaN</td>\n",
       "      <td>5</td>\n",
       "      <td>Automático</td>\n",
       "      <td>Verde</td>\n",
       "      <td>7</td>\n",
       "      <td>False</td>\n",
       "      <td>3b948865c68fbebbdfce382e5eb95169</td>\n",
       "      <td>A Coruña</td>\n",
       "      <td>Spain</td>\n",
       "    </tr>\n",
       "    <tr>\n",
       "      <th>36743</th>\n",
       "      <td>VOLKSWAGEN</td>\n",
       "      <td>Golf</td>\n",
       "      <td>VOLKSWAGEN Golf GTD 2.0 TDI 184cv BMT 5p.</td>\n",
       "      <td>18990</td>\n",
       "      <td>NaN</td>\n",
       "      <td>Diésel</td>\n",
       "      <td>2015.0</td>\n",
       "      <td>99980</td>\n",
       "      <td>184.0</td>\n",
       "      <td>5</td>\n",
       "      <td>Manual</td>\n",
       "      <td>Gris / Plata (carbon steel )</td>\n",
       "      <td>40</td>\n",
       "      <td>True</td>\n",
       "      <td>R&amp;R Sports</td>\n",
       "      <td>La Rioja</td>\n",
       "      <td>Spain</td>\n",
       "    </tr>\n",
       "  </tbody>\n",
       "</table>\n",
       "</div>"
      ],
      "text/plain": [
       "             make    model                                            version  \\\n",
       "26999        SEAT  Tarraco  SEAT Tarraco 2.0 TDI 110kW 4Drive DSG SS FR GO...   \n",
       "22042  VOLKSWAGEN   Passat     VOLKSWAGEN Passat BlueMotion 1.6 TDI 120CV 4p.   \n",
       "20668     RENAULT   Laguna            RENAULT Laguna Limited dCi 110 eco2 5p.   \n",
       "48022     RENAULT   Laguna                                RENAULT Laguna  5p.   \n",
       "36743  VOLKSWAGEN     Golf          VOLKSWAGEN Golf GTD 2.0 TDI 184cv BMT 5p.   \n",
       "\n",
       "       price  price_financed      fuel    year     kms  power  doors  \\\n",
       "26999  39900         36900.0    Diésel  2020.0   14438  150.0      5   \n",
       "22042  13900         13400.0    Diésel  2016.0  145000  120.0      4   \n",
       "20668   7500          7500.0    Diésel  2015.0  210000  110.0      5   \n",
       "48022   1800             NaN  Gasolina  2001.0  175000    NaN      5   \n",
       "36743  18990             NaN    Diésel  2015.0   99980  184.0      5   \n",
       "\n",
       "            shift                         color  photos  is_professional  \\\n",
       "26999  Automático                        Blanco      28             True   \n",
       "22042      Manual                  Gris / Plata      11             True   \n",
       "20668      Manual                        Blanco      11             True   \n",
       "48022  Automático                         Verde       7            False   \n",
       "36743      Manual  Gris / Plata (carbon steel )      40             True   \n",
       "\n",
       "                                 dealer  province country  \n",
       "26999                      Huelva Motor    Huelva   Spain  \n",
       "22042                     Autos Huertas   Córdoba   Spain  \n",
       "20668         Jose Antonio Munuera Soto    Murcia   Spain  \n",
       "48022  3b948865c68fbebbdfce382e5eb95169  A Coruña   Spain  \n",
       "36743                        R&R Sports  La Rioja   Spain  "
      ]
     },
     "execution_count": 5,
     "metadata": {},
     "output_type": "execute_result"
    }
   ],
   "source": [
    "df2 = df.drop(columns = url_comp, inplace = False)\n",
    "df2.sample(5)"
   ]
  },
  {
   "cell_type": "code",
   "execution_count": 6,
   "metadata": {},
   "outputs": [
    {
     "name": "stdout",
     "output_type": "stream",
     "text": [
      "Hay un total de 101 valores duplicados\n"
     ]
    }
   ],
   "source": [
    "# Primero almacenamos las columnas que no son importantes para el analisis\n",
    "columns_to_drop = ['url', 'company', 'publish_date', 'insert_date']\n",
    "# Almacenamos en a el df sin esas columnas\n",
    "\n",
    "# Utilizamos una funcion para eliminar los duplicados en base al df a\n",
    "def val_duplicated(df):\n",
    "    import pandas as pd\n",
    "    if df.duplicated().sum() != 0:\n",
    "        print(f\"Hay un total de {df.duplicated().sum()} valores duplicados\")\n",
    "        return df.drop_duplicates(inplace=True)\n",
    "    else:\n",
    "        print(\"No hay valores duplicados\")\n",
    "        return df\n",
    "#Llamamos a la funcion para saber cuantos duplicados tenemos\n",
    "val_duplicated(df2)"
   ]
  },
  {
   "cell_type": "code",
   "execution_count": 7,
   "metadata": {},
   "outputs": [
    {
     "data": {
      "text/plain": [
       "(49899, 17)"
      ]
     },
     "execution_count": 7,
     "metadata": {},
     "output_type": "execute_result"
    }
   ],
   "source": [
    "df2.shape"
   ]
  },
  {
   "cell_type": "markdown",
   "metadata": {},
   "source": [
    "- Los valores nulos de precio financiado los cambiamos a 0"
   ]
  },
  {
   "cell_type": "code",
   "execution_count": 8,
   "metadata": {},
   "outputs": [],
   "source": [
    "df2['price_financed'].fillna(0, inplace = True)"
   ]
  },
  {
   "cell_type": "code",
   "execution_count": 9,
   "metadata": {},
   "outputs": [
    {
     "data": {
      "text/plain": [
       "make                  2\n",
       "model                 5\n",
       "version               0\n",
       "price                 0\n",
       "price_financed        0\n",
       "fuel                 46\n",
       "year                  2\n",
       "kms                   0\n",
       "power              8513\n",
       "doors                 0\n",
       "shift               111\n",
       "color               594\n",
       "photos                0\n",
       "is_professional       0\n",
       "dealer                0\n",
       "province              6\n",
       "country               0\n",
       "dtype: int64"
      ]
     },
     "execution_count": 9,
     "metadata": {},
     "output_type": "execute_result"
    }
   ],
   "source": [
    "df2.isnull().sum()"
   ]
  },
  {
   "cell_type": "markdown",
   "metadata": {},
   "source": [
    "- Eliminamos todas las columnas con valores nulos menos la de \"power\""
   ]
  },
  {
   "cell_type": "code",
   "execution_count": 10,
   "metadata": {},
   "outputs": [],
   "source": [
    "df2.drop(['make', 'model', 'fuel','year','shift','color','province','country','dealer'], axis=1, inplace = True)"
   ]
  },
  {
   "cell_type": "code",
   "execution_count": 11,
   "metadata": {},
   "outputs": [
    {
     "data": {
      "text/plain": [
       "version               0\n",
       "price                 0\n",
       "price_financed        0\n",
       "kms                   0\n",
       "power              8513\n",
       "doors                 0\n",
       "photos                0\n",
       "is_professional       0\n",
       "dtype: int64"
      ]
     },
     "execution_count": 11,
     "metadata": {},
     "output_type": "execute_result"
    }
   ],
   "source": [
    "df2.isnull().sum()"
   ]
  },
  {
   "cell_type": "markdown",
   "metadata": {},
   "source": [
    "**Outliers**"
   ]
  },
  {
   "cell_type": "code",
   "execution_count": 12,
   "metadata": {},
   "outputs": [
    {
     "name": "stdout",
     "output_type": "stream",
     "text": [
      "Cantida de oultliers de la variable price : 2203\n",
      "Cantida de oultliers de la variable price_financed : 1489\n",
      "Cantida de oultliers de la variable kms : 479\n",
      "Cantida de oultliers de la variable power : 3273\n",
      "Cantida de oultliers de la variable doors : 2480\n"
     ]
    },
    {
     "name": "stderr",
     "output_type": "stream",
     "text": [
      "C:\\Users\\GuillemEdoBertran\\AppData\\Local\\Temp\\ipykernel_2304\\1543499220.py:19: UserWarning: Boolean Series key will be reindexed to match DataFrame index.\n",
      "  df2=df2[~outliers(df[i])]\n",
      "C:\\Users\\GuillemEdoBertran\\AppData\\Local\\Temp\\ipykernel_2304\\1543499220.py:19: UserWarning: Boolean Series key will be reindexed to match DataFrame index.\n",
      "  df2=df2[~outliers(df[i])]\n",
      "C:\\Users\\GuillemEdoBertran\\AppData\\Local\\Temp\\ipykernel_2304\\1543499220.py:19: UserWarning: Boolean Series key will be reindexed to match DataFrame index.\n",
      "  df2=df2[~outliers(df[i])]\n",
      "C:\\Users\\GuillemEdoBertran\\AppData\\Local\\Temp\\ipykernel_2304\\1543499220.py:19: UserWarning: Boolean Series key will be reindexed to match DataFrame index.\n",
      "  df2=df2[~outliers(df[i])]\n",
      "C:\\Users\\GuillemEdoBertran\\AppData\\Local\\Temp\\ipykernel_2304\\1543499220.py:19: UserWarning: Boolean Series key will be reindexed to match DataFrame index.\n",
      "  df2=df2[~outliers(df[i])]\n"
     ]
    },
    {
     "data": {
      "text/html": [
       "<div>\n",
       "<style scoped>\n",
       "    .dataframe tbody tr th:only-of-type {\n",
       "        vertical-align: middle;\n",
       "    }\n",
       "\n",
       "    .dataframe tbody tr th {\n",
       "        vertical-align: top;\n",
       "    }\n",
       "\n",
       "    .dataframe thead th {\n",
       "        text-align: right;\n",
       "    }\n",
       "</style>\n",
       "<table border=\"1\" class=\"dataframe\">\n",
       "  <thead>\n",
       "    <tr style=\"text-align: right;\">\n",
       "      <th></th>\n",
       "      <th>version</th>\n",
       "      <th>price</th>\n",
       "      <th>price_financed</th>\n",
       "      <th>kms</th>\n",
       "      <th>power</th>\n",
       "      <th>doors</th>\n",
       "      <th>photos</th>\n",
       "      <th>is_professional</th>\n",
       "    </tr>\n",
       "  </thead>\n",
       "  <tbody>\n",
       "    <tr>\n",
       "      <th>33330</th>\n",
       "      <td>KIA</td>\n",
       "      <td>2200</td>\n",
       "      <td>0.0</td>\n",
       "      <td>284000</td>\n",
       "      <td>NaN</td>\n",
       "      <td>5</td>\n",
       "      <td>7</td>\n",
       "      <td>False</td>\n",
       "    </tr>\n",
       "    <tr>\n",
       "      <th>567</th>\n",
       "      <td>OPEL Zafira Enjoy 1.9 CDTi 8v 120 CV 5p.</td>\n",
       "      <td>4000</td>\n",
       "      <td>0.0</td>\n",
       "      <td>145000</td>\n",
       "      <td>120.0</td>\n",
       "      <td>5</td>\n",
       "      <td>10</td>\n",
       "      <td>True</td>\n",
       "    </tr>\n",
       "    <tr>\n",
       "      <th>20603</th>\n",
       "      <td>NISSAN NOTE 5p. 1.6 ACENTA 5p.</td>\n",
       "      <td>2595</td>\n",
       "      <td>0.0</td>\n",
       "      <td>179000</td>\n",
       "      <td>110.0</td>\n",
       "      <td>5</td>\n",
       "      <td>20</td>\n",
       "      <td>True</td>\n",
       "    </tr>\n",
       "    <tr>\n",
       "      <th>41506</th>\n",
       "      <td>BMW Serie%205 530D AUTO 4p.</td>\n",
       "      <td>1500</td>\n",
       "      <td>0.0</td>\n",
       "      <td>180000</td>\n",
       "      <td>184.0</td>\n",
       "      <td>4</td>\n",
       "      <td>4</td>\n",
       "      <td>False</td>\n",
       "    </tr>\n",
       "    <tr>\n",
       "      <th>35591</th>\n",
       "      <td>SEAT Exeo ST 2.0 TDI CR 143 CV DPF Style 5p.</td>\n",
       "      <td>5850</td>\n",
       "      <td>0.0</td>\n",
       "      <td>125540</td>\n",
       "      <td>143.0</td>\n",
       "      <td>5</td>\n",
       "      <td>8</td>\n",
       "      <td>False</td>\n",
       "    </tr>\n",
       "  </tbody>\n",
       "</table>\n",
       "</div>"
      ],
      "text/plain": [
       "                                            version  price  price_financed  \\\n",
       "33330                                           KIA   2200             0.0   \n",
       "567        OPEL Zafira Enjoy 1.9 CDTi 8v 120 CV 5p.   4000             0.0   \n",
       "20603                NISSAN NOTE 5p. 1.6 ACENTA 5p.   2595             0.0   \n",
       "41506                   BMW Serie%205 530D AUTO 4p.   1500             0.0   \n",
       "35591  SEAT Exeo ST 2.0 TDI CR 143 CV DPF Style 5p.   5850             0.0   \n",
       "\n",
       "          kms  power  doors  photos  is_professional  \n",
       "33330  284000    NaN      5       7            False  \n",
       "567    145000  120.0      5      10             True  \n",
       "20603  179000  110.0      5      20             True  \n",
       "41506  180000  184.0      4       4            False  \n",
       "35591  125540  143.0      5       8            False  "
      ]
     },
     "execution_count": 12,
     "metadata": {},
     "output_type": "execute_result"
    }
   ],
   "source": [
    "# Tu código aquí debajo\n",
    "numericas=['price','price_financed','kms','power','doors']\n",
    "\n",
    "# FUNCIÓN QUE DEVUELVE LOS NÚMEROS DE FILA EN LOS QUE LA VARIABLE EN CUESTIÓN ES OULIER\n",
    "def outliers(var):\n",
    "    q1=var.quantile(0.25)\n",
    "    q3=var.quantile(0.75)\n",
    "    riq=q3-q1\n",
    "    sup=q3+1.5*(riq)\n",
    "    inf=q1-1.5*(riq)\n",
    "    outl=(var>sup) | (var<inf)\n",
    "    return outl\n",
    "\n",
    "for i in df2.loc[:,numericas]:\n",
    "    print(\"Cantida de oultliers de la variable\",i,\":\",outliers(df2[i]).sum())\n",
    "# Eliminar outliers\n",
    "# Tu código\n",
    "for i in df2.loc[:,numericas]:\n",
    "    df2=df2[~outliers(df[i])]\n",
    "df2.sample(5)"
   ]
  },
  {
   "cell_type": "code",
   "execution_count": 13,
   "metadata": {},
   "outputs": [
    {
     "data": {
      "text/plain": [
       "(43673, 8)"
      ]
     },
     "execution_count": 13,
     "metadata": {},
     "output_type": "execute_result"
    }
   ],
   "source": [
    "df2.shape"
   ]
  },
  {
   "cell_type": "markdown",
   "metadata": {},
   "source": [
    "## Creación modelo nº1"
   ]
  },
  {
   "cell_type": "code",
   "execution_count": null,
   "metadata": {},
   "outputs": [],
   "source": [
    "# Eliminamos valores nulos de \"power\"\n",
    "\n",
    "df2.dropna(df[\"power\"])"
   ]
  },
  {
   "cell_type": "markdown",
   "metadata": {},
   "source": [
    "**1.1 Variable a predecir = \"power\"**"
   ]
  },
  {
   "cell_type": "markdown",
   "metadata": {},
   "source": [
    "One Hot Encoding para la columna \"version\""
   ]
  },
  {
   "cell_type": "code",
   "execution_count": 14,
   "metadata": {},
   "outputs": [
    {
     "name": "stdout",
     "output_type": "stream",
     "text": [
      "(43673, 15057)\n"
     ]
    },
    {
     "data": {
      "text/html": [
       "<div>\n",
       "<style scoped>\n",
       "    .dataframe tbody tr th:only-of-type {\n",
       "        vertical-align: middle;\n",
       "    }\n",
       "\n",
       "    .dataframe tbody tr th {\n",
       "        vertical-align: top;\n",
       "    }\n",
       "\n",
       "    .dataframe thead th {\n",
       "        text-align: right;\n",
       "    }\n",
       "</style>\n",
       "<table border=\"1\" class=\"dataframe\">\n",
       "  <thead>\n",
       "    <tr style=\"text-align: right;\">\n",
       "      <th></th>\n",
       "      <th>price</th>\n",
       "      <th>price_financed</th>\n",
       "      <th>kms</th>\n",
       "      <th>power</th>\n",
       "      <th>doors</th>\n",
       "      <th>photos</th>\n",
       "      <th>is_professional</th>\n",
       "      <th>version_ D2S 27kW 3p.</th>\n",
       "      <th>version_ABARTH 500 1.4 16v 121kW Monster Energy Yamaha E6D 3p.</th>\n",
       "      <th>version_ABARTH 500 1.4 16v TJet 135cv 3p.</th>\n",
       "      <th>...</th>\n",
       "      <th>version_VOLVO XC90 2.5 T Momentum 5p.</th>\n",
       "      <th>version_VOLVO XC90 3.2 Summum 5p.</th>\n",
       "      <th>version_VOLVO XC90 D5 5p.</th>\n",
       "      <th>version_VOLVO XC90 D5 Executive 5p.</th>\n",
       "      <th>version_VOLVO XC90 D5 Kinetic 5p.</th>\n",
       "      <th>version_VOLVO XC90 D5 Momentum 5p.</th>\n",
       "      <th>version_VOLVO XC90 D5 RDesign Auto 7 Asientos 5p.</th>\n",
       "      <th>version_VOLVO XC90 D5 Summum 5p.</th>\n",
       "      <th>version_VOLVO XC90 D5 Summum Auto 7 Asientos 5p.</th>\n",
       "      <th>version_VOLVO XC90 D5 Volvo Ocean Race 5p.</th>\n",
       "    </tr>\n",
       "  </thead>\n",
       "  <tbody>\n",
       "    <tr>\n",
       "      <th>14935</th>\n",
       "      <td>16995</td>\n",
       "      <td>14995.0</td>\n",
       "      <td>20300</td>\n",
       "      <td>130.0</td>\n",
       "      <td>5</td>\n",
       "      <td>13</td>\n",
       "      <td>True</td>\n",
       "      <td>0.0</td>\n",
       "      <td>0.0</td>\n",
       "      <td>0.0</td>\n",
       "      <td>...</td>\n",
       "      <td>0.0</td>\n",
       "      <td>0.0</td>\n",
       "      <td>0.0</td>\n",
       "      <td>0.0</td>\n",
       "      <td>0.0</td>\n",
       "      <td>0.0</td>\n",
       "      <td>0.0</td>\n",
       "      <td>0.0</td>\n",
       "      <td>0.0</td>\n",
       "      <td>0.0</td>\n",
       "    </tr>\n",
       "    <tr>\n",
       "      <th>23012</th>\n",
       "      <td>23800</td>\n",
       "      <td>0.0</td>\n",
       "      <td>132000</td>\n",
       "      <td>190.0</td>\n",
       "      <td>5</td>\n",
       "      <td>27</td>\n",
       "      <td>True</td>\n",
       "      <td>0.0</td>\n",
       "      <td>0.0</td>\n",
       "      <td>0.0</td>\n",
       "      <td>...</td>\n",
       "      <td>0.0</td>\n",
       "      <td>0.0</td>\n",
       "      <td>0.0</td>\n",
       "      <td>0.0</td>\n",
       "      <td>0.0</td>\n",
       "      <td>0.0</td>\n",
       "      <td>0.0</td>\n",
       "      <td>0.0</td>\n",
       "      <td>0.0</td>\n",
       "      <td>0.0</td>\n",
       "    </tr>\n",
       "    <tr>\n",
       "      <th>28167</th>\n",
       "      <td>6900</td>\n",
       "      <td>0.0</td>\n",
       "      <td>152000</td>\n",
       "      <td>85.0</td>\n",
       "      <td>5</td>\n",
       "      <td>9</td>\n",
       "      <td>True</td>\n",
       "      <td>0.0</td>\n",
       "      <td>0.0</td>\n",
       "      <td>0.0</td>\n",
       "      <td>...</td>\n",
       "      <td>0.0</td>\n",
       "      <td>0.0</td>\n",
       "      <td>0.0</td>\n",
       "      <td>0.0</td>\n",
       "      <td>0.0</td>\n",
       "      <td>0.0</td>\n",
       "      <td>0.0</td>\n",
       "      <td>0.0</td>\n",
       "      <td>0.0</td>\n",
       "      <td>0.0</td>\n",
       "    </tr>\n",
       "    <tr>\n",
       "      <th>43624</th>\n",
       "      <td>6900</td>\n",
       "      <td>0.0</td>\n",
       "      <td>210000</td>\n",
       "      <td>218.0</td>\n",
       "      <td>5</td>\n",
       "      <td>8</td>\n",
       "      <td>False</td>\n",
       "      <td>0.0</td>\n",
       "      <td>0.0</td>\n",
       "      <td>0.0</td>\n",
       "      <td>...</td>\n",
       "      <td>0.0</td>\n",
       "      <td>0.0</td>\n",
       "      <td>0.0</td>\n",
       "      <td>0.0</td>\n",
       "      <td>0.0</td>\n",
       "      <td>0.0</td>\n",
       "      <td>0.0</td>\n",
       "      <td>0.0</td>\n",
       "      <td>0.0</td>\n",
       "      <td>0.0</td>\n",
       "    </tr>\n",
       "    <tr>\n",
       "      <th>20548</th>\n",
       "      <td>8490</td>\n",
       "      <td>0.0</td>\n",
       "      <td>148648</td>\n",
       "      <td>90.0</td>\n",
       "      <td>5</td>\n",
       "      <td>14</td>\n",
       "      <td>True</td>\n",
       "      <td>0.0</td>\n",
       "      <td>0.0</td>\n",
       "      <td>0.0</td>\n",
       "      <td>...</td>\n",
       "      <td>0.0</td>\n",
       "      <td>0.0</td>\n",
       "      <td>0.0</td>\n",
       "      <td>0.0</td>\n",
       "      <td>0.0</td>\n",
       "      <td>0.0</td>\n",
       "      <td>0.0</td>\n",
       "      <td>0.0</td>\n",
       "      <td>0.0</td>\n",
       "      <td>0.0</td>\n",
       "    </tr>\n",
       "  </tbody>\n",
       "</table>\n",
       "<p>5 rows × 15057 columns</p>\n",
       "</div>"
      ],
      "text/plain": [
       "       price  price_financed     kms  power  doors  photos  is_professional  \\\n",
       "14935  16995         14995.0   20300  130.0      5      13             True   \n",
       "23012  23800             0.0  132000  190.0      5      27             True   \n",
       "28167   6900             0.0  152000   85.0      5       9             True   \n",
       "43624   6900             0.0  210000  218.0      5       8            False   \n",
       "20548   8490             0.0  148648   90.0      5      14             True   \n",
       "\n",
       "       version_ D2S 27kW 3p.  \\\n",
       "14935                    0.0   \n",
       "23012                    0.0   \n",
       "28167                    0.0   \n",
       "43624                    0.0   \n",
       "20548                    0.0   \n",
       "\n",
       "       version_ABARTH 500 1.4 16v 121kW Monster Energy Yamaha E6D 3p.  \\\n",
       "14935                                                0.0                \n",
       "23012                                                0.0                \n",
       "28167                                                0.0                \n",
       "43624                                                0.0                \n",
       "20548                                                0.0                \n",
       "\n",
       "       version_ABARTH 500 1.4 16v TJet 135cv 3p.  ...  \\\n",
       "14935                                        0.0  ...   \n",
       "23012                                        0.0  ...   \n",
       "28167                                        0.0  ...   \n",
       "43624                                        0.0  ...   \n",
       "20548                                        0.0  ...   \n",
       "\n",
       "       version_VOLVO XC90 2.5 T Momentum 5p.  \\\n",
       "14935                                    0.0   \n",
       "23012                                    0.0   \n",
       "28167                                    0.0   \n",
       "43624                                    0.0   \n",
       "20548                                    0.0   \n",
       "\n",
       "       version_VOLVO XC90 3.2 Summum 5p.  version_VOLVO XC90 D5 5p.  \\\n",
       "14935                                0.0                        0.0   \n",
       "23012                                0.0                        0.0   \n",
       "28167                                0.0                        0.0   \n",
       "43624                                0.0                        0.0   \n",
       "20548                                0.0                        0.0   \n",
       "\n",
       "       version_VOLVO XC90 D5 Executive 5p.  version_VOLVO XC90 D5 Kinetic 5p.  \\\n",
       "14935                                  0.0                                0.0   \n",
       "23012                                  0.0                                0.0   \n",
       "28167                                  0.0                                0.0   \n",
       "43624                                  0.0                                0.0   \n",
       "20548                                  0.0                                0.0   \n",
       "\n",
       "       version_VOLVO XC90 D5 Momentum 5p.  \\\n",
       "14935                                 0.0   \n",
       "23012                                 0.0   \n",
       "28167                                 0.0   \n",
       "43624                                 0.0   \n",
       "20548                                 0.0   \n",
       "\n",
       "       version_VOLVO XC90 D5 RDesign Auto 7 Asientos 5p.  \\\n",
       "14935                                                0.0   \n",
       "23012                                                0.0   \n",
       "28167                                                0.0   \n",
       "43624                                                0.0   \n",
       "20548                                                0.0   \n",
       "\n",
       "       version_VOLVO XC90 D5 Summum 5p.  \\\n",
       "14935                               0.0   \n",
       "23012                               0.0   \n",
       "28167                               0.0   \n",
       "43624                               0.0   \n",
       "20548                               0.0   \n",
       "\n",
       "       version_VOLVO XC90 D5 Summum Auto 7 Asientos 5p.  \\\n",
       "14935                                               0.0   \n",
       "23012                                               0.0   \n",
       "28167                                               0.0   \n",
       "43624                                               0.0   \n",
       "20548                                               0.0   \n",
       "\n",
       "       version_VOLVO XC90 D5 Volvo Ocean Race 5p.  \n",
       "14935                                         0.0  \n",
       "23012                                         0.0  \n",
       "28167                                         0.0  \n",
       "43624                                         0.0  \n",
       "20548                                         0.0  \n",
       "\n",
       "[5 rows x 15057 columns]"
      ]
     },
     "execution_count": 14,
     "metadata": {},
     "output_type": "execute_result"
    }
   ],
   "source": [
    "onehot=OneHotEncoder()\n",
    "\n",
    "# Aplico el OneHot a la columna \"version\" y guardo el resultao en \"a\"\n",
    "a=onehot.fit_transform(df2[['version']])\n",
    "\n",
    "# Convierto el a en data frame y lo llamo encoded_df\n",
    "encoded_df2 = pd.DataFrame(a.toarray(), columns=onehot.get_feature_names_out(['version']))\n",
    "\n",
    "# Reseteo el índice de los dos data frames antes de concatenarlos\n",
    "df2.reset_index(drop = True, inplace = True)\n",
    "encoded_df2.reset_index(drop = True, inplace = True)\n",
    "\n",
    "# concateno los dos data frames y los guardo machacando el df\n",
    "df2 = pd.concat([df2,encoded_df2], axis = 1)\n",
    "\n",
    "# Elimino la columna \"version\" original antigua, la categórica\n",
    "df2.drop(columns = 'version',inplace=True)\n",
    "\n",
    "# Muestro tamaño y sample del data frame df2 transformado\n",
    "print(df2.shape)\n",
    "df2.sample(5)"
   ]
  },
  {
   "cell_type": "code",
   "execution_count": 15,
   "metadata": {},
   "outputs": [],
   "source": [
    "# Antes de dropear la columna, hay que borrar todos los nulos de \"power\" para que lo pueda predecir.\n",
    "\n",
    "X=df2.drop(columns=['power'],inplace=False)\n",
    "y=df2['power']"
   ]
  },
  {
   "cell_type": "code",
   "execution_count": 16,
   "metadata": {},
   "outputs": [],
   "source": [
    "my_kfold = KFold(n_splits = 30)"
   ]
  },
  {
   "cell_type": "code",
   "execution_count": 17,
   "metadata": {},
   "outputs": [
    {
     "ename": "ValueError",
     "evalue": "Input y contains NaN.",
     "output_type": "error",
     "traceback": [
      "\u001b[1;31m---------------------------------------------------------------------------\u001b[0m",
      "\u001b[1;31mValueError\u001b[0m                                Traceback (most recent call last)",
      "Cell \u001b[1;32mIn[17], line 14\u001b[0m\n\u001b[0;32m     12\u001b[0m X_train_std\u001b[38;5;241m=\u001b[39mestandarizador\u001b[38;5;241m.\u001b[39mtransform(X_train)\n\u001b[0;32m     13\u001b[0m X_test_std\u001b[38;5;241m=\u001b[39mestandarizador\u001b[38;5;241m.\u001b[39mtransform(X_test)\n\u001b[1;32m---> 14\u001b[0m \u001b[43mRF\u001b[49m\u001b[38;5;241;43m.\u001b[39;49m\u001b[43mfit\u001b[49m\u001b[43m(\u001b[49m\u001b[43mX_train\u001b[49m\u001b[43m,\u001b[49m\u001b[43my_train\u001b[49m\u001b[43m)\u001b[49m\n\u001b[0;32m     16\u001b[0m predictions \u001b[38;5;241m=\u001b[39m RF\u001b[38;5;241m.\u001b[39mpredict(X_test)\n\u001b[0;32m     17\u001b[0m accuracies\u001b[38;5;241m.\u001b[39mappend(accuracy_score(y_test, predictions))\n",
      "File \u001b[1;32mc:\\Users\\GuillemEdoBertran\\.conda\\envs\\ML_IMPELIA\\lib\\site-packages\\sklearn\\base.py:1351\u001b[0m, in \u001b[0;36m_fit_context.<locals>.decorator.<locals>.wrapper\u001b[1;34m(estimator, *args, **kwargs)\u001b[0m\n\u001b[0;32m   1344\u001b[0m     estimator\u001b[38;5;241m.\u001b[39m_validate_params()\n\u001b[0;32m   1346\u001b[0m \u001b[38;5;28;01mwith\u001b[39;00m config_context(\n\u001b[0;32m   1347\u001b[0m     skip_parameter_validation\u001b[38;5;241m=\u001b[39m(\n\u001b[0;32m   1348\u001b[0m         prefer_skip_nested_validation \u001b[38;5;129;01mor\u001b[39;00m global_skip_validation\n\u001b[0;32m   1349\u001b[0m     )\n\u001b[0;32m   1350\u001b[0m ):\n\u001b[1;32m-> 1351\u001b[0m     \u001b[38;5;28;01mreturn\u001b[39;00m fit_method(estimator, \u001b[38;5;241m*\u001b[39margs, \u001b[38;5;241m*\u001b[39m\u001b[38;5;241m*\u001b[39mkwargs)\n",
      "File \u001b[1;32mc:\\Users\\GuillemEdoBertran\\.conda\\envs\\ML_IMPELIA\\lib\\site-packages\\sklearn\\ensemble\\_forest.py:363\u001b[0m, in \u001b[0;36mBaseForest.fit\u001b[1;34m(self, X, y, sample_weight)\u001b[0m\n\u001b[0;32m    360\u001b[0m \u001b[38;5;28;01mif\u001b[39;00m issparse(y):\n\u001b[0;32m    361\u001b[0m     \u001b[38;5;28;01mraise\u001b[39;00m \u001b[38;5;167;01mValueError\u001b[39;00m(\u001b[38;5;124m\"\u001b[39m\u001b[38;5;124msparse multilabel-indicator for y is not supported.\u001b[39m\u001b[38;5;124m\"\u001b[39m)\n\u001b[1;32m--> 363\u001b[0m X, y \u001b[38;5;241m=\u001b[39m \u001b[38;5;28;43mself\u001b[39;49m\u001b[38;5;241;43m.\u001b[39;49m\u001b[43m_validate_data\u001b[49m\u001b[43m(\u001b[49m\n\u001b[0;32m    364\u001b[0m \u001b[43m    \u001b[49m\u001b[43mX\u001b[49m\u001b[43m,\u001b[49m\n\u001b[0;32m    365\u001b[0m \u001b[43m    \u001b[49m\u001b[43my\u001b[49m\u001b[43m,\u001b[49m\n\u001b[0;32m    366\u001b[0m \u001b[43m    \u001b[49m\u001b[43mmulti_output\u001b[49m\u001b[38;5;241;43m=\u001b[39;49m\u001b[38;5;28;43;01mTrue\u001b[39;49;00m\u001b[43m,\u001b[49m\n\u001b[0;32m    367\u001b[0m \u001b[43m    \u001b[49m\u001b[43maccept_sparse\u001b[49m\u001b[38;5;241;43m=\u001b[39;49m\u001b[38;5;124;43m\"\u001b[39;49m\u001b[38;5;124;43mcsc\u001b[39;49m\u001b[38;5;124;43m\"\u001b[39;49m\u001b[43m,\u001b[49m\n\u001b[0;32m    368\u001b[0m \u001b[43m    \u001b[49m\u001b[43mdtype\u001b[49m\u001b[38;5;241;43m=\u001b[39;49m\u001b[43mDTYPE\u001b[49m\u001b[43m,\u001b[49m\n\u001b[0;32m    369\u001b[0m \u001b[43m    \u001b[49m\u001b[43mforce_all_finite\u001b[49m\u001b[38;5;241;43m=\u001b[39;49m\u001b[38;5;28;43;01mFalse\u001b[39;49;00m\u001b[43m,\u001b[49m\n\u001b[0;32m    370\u001b[0m \u001b[43m\u001b[49m\u001b[43m)\u001b[49m\n\u001b[0;32m    371\u001b[0m \u001b[38;5;66;03m# _compute_missing_values_in_feature_mask checks if X has missing values and\u001b[39;00m\n\u001b[0;32m    372\u001b[0m \u001b[38;5;66;03m# will raise an error if the underlying tree base estimator can't handle missing\u001b[39;00m\n\u001b[0;32m    373\u001b[0m \u001b[38;5;66;03m# values. Only the criterion is required to determine if the tree supports\u001b[39;00m\n\u001b[0;32m    374\u001b[0m \u001b[38;5;66;03m# missing values.\u001b[39;00m\n\u001b[0;32m    375\u001b[0m estimator \u001b[38;5;241m=\u001b[39m \u001b[38;5;28mtype\u001b[39m(\u001b[38;5;28mself\u001b[39m\u001b[38;5;241m.\u001b[39mestimator)(criterion\u001b[38;5;241m=\u001b[39m\u001b[38;5;28mself\u001b[39m\u001b[38;5;241m.\u001b[39mcriterion)\n",
      "File \u001b[1;32mc:\\Users\\GuillemEdoBertran\\.conda\\envs\\ML_IMPELIA\\lib\\site-packages\\sklearn\\base.py:650\u001b[0m, in \u001b[0;36mBaseEstimator._validate_data\u001b[1;34m(self, X, y, reset, validate_separately, cast_to_ndarray, **check_params)\u001b[0m\n\u001b[0;32m    648\u001b[0m         y \u001b[38;5;241m=\u001b[39m check_array(y, input_name\u001b[38;5;241m=\u001b[39m\u001b[38;5;124m\"\u001b[39m\u001b[38;5;124my\u001b[39m\u001b[38;5;124m\"\u001b[39m, \u001b[38;5;241m*\u001b[39m\u001b[38;5;241m*\u001b[39mcheck_y_params)\n\u001b[0;32m    649\u001b[0m     \u001b[38;5;28;01melse\u001b[39;00m:\n\u001b[1;32m--> 650\u001b[0m         X, y \u001b[38;5;241m=\u001b[39m check_X_y(X, y, \u001b[38;5;241m*\u001b[39m\u001b[38;5;241m*\u001b[39mcheck_params)\n\u001b[0;32m    651\u001b[0m     out \u001b[38;5;241m=\u001b[39m X, y\n\u001b[0;32m    653\u001b[0m \u001b[38;5;28;01mif\u001b[39;00m \u001b[38;5;129;01mnot\u001b[39;00m no_val_X \u001b[38;5;129;01mand\u001b[39;00m check_params\u001b[38;5;241m.\u001b[39mget(\u001b[38;5;124m\"\u001b[39m\u001b[38;5;124mensure_2d\u001b[39m\u001b[38;5;124m\"\u001b[39m, \u001b[38;5;28;01mTrue\u001b[39;00m):\n",
      "File \u001b[1;32mc:\\Users\\GuillemEdoBertran\\.conda\\envs\\ML_IMPELIA\\lib\\site-packages\\sklearn\\utils\\validation.py:1208\u001b[0m, in \u001b[0;36mcheck_X_y\u001b[1;34m(X, y, accept_sparse, accept_large_sparse, dtype, order, copy, force_all_finite, ensure_2d, allow_nd, multi_output, ensure_min_samples, ensure_min_features, y_numeric, estimator)\u001b[0m\n\u001b[0;32m   1188\u001b[0m     \u001b[38;5;28;01mraise\u001b[39;00m \u001b[38;5;167;01mValueError\u001b[39;00m(\n\u001b[0;32m   1189\u001b[0m         \u001b[38;5;124mf\u001b[39m\u001b[38;5;124m\"\u001b[39m\u001b[38;5;132;01m{\u001b[39;00mestimator_name\u001b[38;5;132;01m}\u001b[39;00m\u001b[38;5;124m requires y to be passed, but the target y is None\u001b[39m\u001b[38;5;124m\"\u001b[39m\n\u001b[0;32m   1190\u001b[0m     )\n\u001b[0;32m   1192\u001b[0m X \u001b[38;5;241m=\u001b[39m check_array(\n\u001b[0;32m   1193\u001b[0m     X,\n\u001b[0;32m   1194\u001b[0m     accept_sparse\u001b[38;5;241m=\u001b[39maccept_sparse,\n\u001b[1;32m   (...)\u001b[0m\n\u001b[0;32m   1205\u001b[0m     input_name\u001b[38;5;241m=\u001b[39m\u001b[38;5;124m\"\u001b[39m\u001b[38;5;124mX\u001b[39m\u001b[38;5;124m\"\u001b[39m,\n\u001b[0;32m   1206\u001b[0m )\n\u001b[1;32m-> 1208\u001b[0m y \u001b[38;5;241m=\u001b[39m \u001b[43m_check_y\u001b[49m\u001b[43m(\u001b[49m\u001b[43my\u001b[49m\u001b[43m,\u001b[49m\u001b[43m \u001b[49m\u001b[43mmulti_output\u001b[49m\u001b[38;5;241;43m=\u001b[39;49m\u001b[43mmulti_output\u001b[49m\u001b[43m,\u001b[49m\u001b[43m \u001b[49m\u001b[43my_numeric\u001b[49m\u001b[38;5;241;43m=\u001b[39;49m\u001b[43my_numeric\u001b[49m\u001b[43m,\u001b[49m\u001b[43m \u001b[49m\u001b[43mestimator\u001b[49m\u001b[38;5;241;43m=\u001b[39;49m\u001b[43mestimator\u001b[49m\u001b[43m)\u001b[49m\n\u001b[0;32m   1210\u001b[0m check_consistent_length(X, y)\n\u001b[0;32m   1212\u001b[0m \u001b[38;5;28;01mreturn\u001b[39;00m X, y\n",
      "File \u001b[1;32mc:\\Users\\GuillemEdoBertran\\.conda\\envs\\ML_IMPELIA\\lib\\site-packages\\sklearn\\utils\\validation.py:1218\u001b[0m, in \u001b[0;36m_check_y\u001b[1;34m(y, multi_output, y_numeric, estimator)\u001b[0m\n\u001b[0;32m   1216\u001b[0m \u001b[38;5;250m\u001b[39m\u001b[38;5;124;03m\"\"\"Isolated part of check_X_y dedicated to y validation\"\"\"\u001b[39;00m\n\u001b[0;32m   1217\u001b[0m \u001b[38;5;28;01mif\u001b[39;00m multi_output:\n\u001b[1;32m-> 1218\u001b[0m     y \u001b[38;5;241m=\u001b[39m \u001b[43mcheck_array\u001b[49m\u001b[43m(\u001b[49m\n\u001b[0;32m   1219\u001b[0m \u001b[43m        \u001b[49m\u001b[43my\u001b[49m\u001b[43m,\u001b[49m\n\u001b[0;32m   1220\u001b[0m \u001b[43m        \u001b[49m\u001b[43maccept_sparse\u001b[49m\u001b[38;5;241;43m=\u001b[39;49m\u001b[38;5;124;43m\"\u001b[39;49m\u001b[38;5;124;43mcsr\u001b[39;49m\u001b[38;5;124;43m\"\u001b[39;49m\u001b[43m,\u001b[49m\n\u001b[0;32m   1221\u001b[0m \u001b[43m        \u001b[49m\u001b[43mforce_all_finite\u001b[49m\u001b[38;5;241;43m=\u001b[39;49m\u001b[38;5;28;43;01mTrue\u001b[39;49;00m\u001b[43m,\u001b[49m\n\u001b[0;32m   1222\u001b[0m \u001b[43m        \u001b[49m\u001b[43mensure_2d\u001b[49m\u001b[38;5;241;43m=\u001b[39;49m\u001b[38;5;28;43;01mFalse\u001b[39;49;00m\u001b[43m,\u001b[49m\n\u001b[0;32m   1223\u001b[0m \u001b[43m        \u001b[49m\u001b[43mdtype\u001b[49m\u001b[38;5;241;43m=\u001b[39;49m\u001b[38;5;28;43;01mNone\u001b[39;49;00m\u001b[43m,\u001b[49m\n\u001b[0;32m   1224\u001b[0m \u001b[43m        \u001b[49m\u001b[43minput_name\u001b[49m\u001b[38;5;241;43m=\u001b[39;49m\u001b[38;5;124;43m\"\u001b[39;49m\u001b[38;5;124;43my\u001b[39;49m\u001b[38;5;124;43m\"\u001b[39;49m\u001b[43m,\u001b[49m\n\u001b[0;32m   1225\u001b[0m \u001b[43m        \u001b[49m\u001b[43mestimator\u001b[49m\u001b[38;5;241;43m=\u001b[39;49m\u001b[43mestimator\u001b[49m\u001b[43m,\u001b[49m\n\u001b[0;32m   1226\u001b[0m \u001b[43m    \u001b[49m\u001b[43m)\u001b[49m\n\u001b[0;32m   1227\u001b[0m \u001b[38;5;28;01melse\u001b[39;00m:\n\u001b[0;32m   1228\u001b[0m     estimator_name \u001b[38;5;241m=\u001b[39m _check_estimator_name(estimator)\n",
      "File \u001b[1;32mc:\\Users\\GuillemEdoBertran\\.conda\\envs\\ML_IMPELIA\\lib\\site-packages\\sklearn\\utils\\validation.py:1003\u001b[0m, in \u001b[0;36mcheck_array\u001b[1;34m(array, accept_sparse, accept_large_sparse, dtype, order, copy, force_all_finite, ensure_2d, allow_nd, ensure_min_samples, ensure_min_features, estimator, input_name)\u001b[0m\n\u001b[0;32m    997\u001b[0m     \u001b[38;5;28;01mraise\u001b[39;00m \u001b[38;5;167;01mValueError\u001b[39;00m(\n\u001b[0;32m    998\u001b[0m         \u001b[38;5;124m\"\u001b[39m\u001b[38;5;124mFound array with dim \u001b[39m\u001b[38;5;132;01m%d\u001b[39;00m\u001b[38;5;124m. \u001b[39m\u001b[38;5;132;01m%s\u001b[39;00m\u001b[38;5;124m expected <= 2.\u001b[39m\u001b[38;5;124m\"\u001b[39m\n\u001b[0;32m    999\u001b[0m         \u001b[38;5;241m%\u001b[39m (array\u001b[38;5;241m.\u001b[39mndim, estimator_name)\n\u001b[0;32m   1000\u001b[0m     )\n\u001b[0;32m   1002\u001b[0m \u001b[38;5;28;01mif\u001b[39;00m force_all_finite:\n\u001b[1;32m-> 1003\u001b[0m     \u001b[43m_assert_all_finite\u001b[49m\u001b[43m(\u001b[49m\n\u001b[0;32m   1004\u001b[0m \u001b[43m        \u001b[49m\u001b[43marray\u001b[49m\u001b[43m,\u001b[49m\n\u001b[0;32m   1005\u001b[0m \u001b[43m        \u001b[49m\u001b[43minput_name\u001b[49m\u001b[38;5;241;43m=\u001b[39;49m\u001b[43minput_name\u001b[49m\u001b[43m,\u001b[49m\n\u001b[0;32m   1006\u001b[0m \u001b[43m        \u001b[49m\u001b[43mestimator_name\u001b[49m\u001b[38;5;241;43m=\u001b[39;49m\u001b[43mestimator_name\u001b[49m\u001b[43m,\u001b[49m\n\u001b[0;32m   1007\u001b[0m \u001b[43m        \u001b[49m\u001b[43mallow_nan\u001b[49m\u001b[38;5;241;43m=\u001b[39;49m\u001b[43mforce_all_finite\u001b[49m\u001b[43m \u001b[49m\u001b[38;5;241;43m==\u001b[39;49m\u001b[43m \u001b[49m\u001b[38;5;124;43m\"\u001b[39;49m\u001b[38;5;124;43mallow-nan\u001b[39;49m\u001b[38;5;124;43m\"\u001b[39;49m\u001b[43m,\u001b[49m\n\u001b[0;32m   1008\u001b[0m \u001b[43m    \u001b[49m\u001b[43m)\u001b[49m\n\u001b[0;32m   1010\u001b[0m \u001b[38;5;28;01mif\u001b[39;00m copy:\n\u001b[0;32m   1011\u001b[0m     \u001b[38;5;28;01mif\u001b[39;00m _is_numpy_namespace(xp):\n\u001b[0;32m   1012\u001b[0m         \u001b[38;5;66;03m# only make a copy if `array` and `array_orig` may share memory`\u001b[39;00m\n",
      "File \u001b[1;32mc:\\Users\\GuillemEdoBertran\\.conda\\envs\\ML_IMPELIA\\lib\\site-packages\\sklearn\\utils\\validation.py:126\u001b[0m, in \u001b[0;36m_assert_all_finite\u001b[1;34m(X, allow_nan, msg_dtype, estimator_name, input_name)\u001b[0m\n\u001b[0;32m    123\u001b[0m \u001b[38;5;28;01mif\u001b[39;00m first_pass_isfinite:\n\u001b[0;32m    124\u001b[0m     \u001b[38;5;28;01mreturn\u001b[39;00m\n\u001b[1;32m--> 126\u001b[0m \u001b[43m_assert_all_finite_element_wise\u001b[49m\u001b[43m(\u001b[49m\n\u001b[0;32m    127\u001b[0m \u001b[43m    \u001b[49m\u001b[43mX\u001b[49m\u001b[43m,\u001b[49m\n\u001b[0;32m    128\u001b[0m \u001b[43m    \u001b[49m\u001b[43mxp\u001b[49m\u001b[38;5;241;43m=\u001b[39;49m\u001b[43mxp\u001b[49m\u001b[43m,\u001b[49m\n\u001b[0;32m    129\u001b[0m \u001b[43m    \u001b[49m\u001b[43mallow_nan\u001b[49m\u001b[38;5;241;43m=\u001b[39;49m\u001b[43mallow_nan\u001b[49m\u001b[43m,\u001b[49m\n\u001b[0;32m    130\u001b[0m \u001b[43m    \u001b[49m\u001b[43mmsg_dtype\u001b[49m\u001b[38;5;241;43m=\u001b[39;49m\u001b[43mmsg_dtype\u001b[49m\u001b[43m,\u001b[49m\n\u001b[0;32m    131\u001b[0m \u001b[43m    \u001b[49m\u001b[43mestimator_name\u001b[49m\u001b[38;5;241;43m=\u001b[39;49m\u001b[43mestimator_name\u001b[49m\u001b[43m,\u001b[49m\n\u001b[0;32m    132\u001b[0m \u001b[43m    \u001b[49m\u001b[43minput_name\u001b[49m\u001b[38;5;241;43m=\u001b[39;49m\u001b[43minput_name\u001b[49m\u001b[43m,\u001b[49m\n\u001b[0;32m    133\u001b[0m \u001b[43m\u001b[49m\u001b[43m)\u001b[49m\n",
      "File \u001b[1;32mc:\\Users\\GuillemEdoBertran\\.conda\\envs\\ML_IMPELIA\\lib\\site-packages\\sklearn\\utils\\validation.py:175\u001b[0m, in \u001b[0;36m_assert_all_finite_element_wise\u001b[1;34m(X, xp, allow_nan, msg_dtype, estimator_name, input_name)\u001b[0m\n\u001b[0;32m    158\u001b[0m \u001b[38;5;28;01mif\u001b[39;00m estimator_name \u001b[38;5;129;01mand\u001b[39;00m input_name \u001b[38;5;241m==\u001b[39m \u001b[38;5;124m\"\u001b[39m\u001b[38;5;124mX\u001b[39m\u001b[38;5;124m\"\u001b[39m \u001b[38;5;129;01mand\u001b[39;00m has_nan_error:\n\u001b[0;32m    159\u001b[0m     \u001b[38;5;66;03m# Improve the error message on how to handle missing values in\u001b[39;00m\n\u001b[0;32m    160\u001b[0m     \u001b[38;5;66;03m# scikit-learn.\u001b[39;00m\n\u001b[0;32m    161\u001b[0m     msg_err \u001b[38;5;241m+\u001b[39m\u001b[38;5;241m=\u001b[39m (\n\u001b[0;32m    162\u001b[0m         \u001b[38;5;124mf\u001b[39m\u001b[38;5;124m\"\u001b[39m\u001b[38;5;130;01m\\n\u001b[39;00m\u001b[38;5;132;01m{\u001b[39;00mestimator_name\u001b[38;5;132;01m}\u001b[39;00m\u001b[38;5;124m does not accept missing values\u001b[39m\u001b[38;5;124m\"\u001b[39m\n\u001b[0;32m    163\u001b[0m         \u001b[38;5;124m\"\u001b[39m\u001b[38;5;124m encoded as NaN natively. For supervised learning, you might want\u001b[39m\u001b[38;5;124m\"\u001b[39m\n\u001b[1;32m   (...)\u001b[0m\n\u001b[0;32m    173\u001b[0m         \u001b[38;5;124m\"\u001b[39m\u001b[38;5;124m#estimators-that-handle-nan-values\u001b[39m\u001b[38;5;124m\"\u001b[39m\n\u001b[0;32m    174\u001b[0m     )\n\u001b[1;32m--> 175\u001b[0m \u001b[38;5;28;01mraise\u001b[39;00m \u001b[38;5;167;01mValueError\u001b[39;00m(msg_err)\n",
      "\u001b[1;31mValueError\u001b[0m: Input y contains NaN."
     ]
    }
   ],
   "source": [
    "RF = RandomForestClassifier(n_estimators = 100)\n",
    "estandarizador = StandardScaler()\n",
    "accuracies=[]\n",
    "precisions=[]\n",
    "recalls=[]\n",
    "f1s=[]\n",
    "\n",
    "for train_index, test_index in my_kfold.split(df2):\n",
    "    X_train, X_test = X.iloc[train_index], X.iloc[test_index]\n",
    "    y_train, y_test = y.iloc[train_index], y.iloc[test_index]\n",
    "    estandarizador.fit(X_train)\n",
    "    X_train_std=estandarizador.transform(X_train)\n",
    "    X_test_std=estandarizador.transform(X_test)\n",
    "    RF.fit(X_train,y_train)\n",
    "    \n",
    "    predictions = RF.predict(X_test)\n",
    "    accuracies.append(accuracy_score(y_test, predictions))\n",
    "    precisions.append(precision_score(y_test, predictions))\n",
    "    recalls.append(recall_score(y_test, predictions))\n",
    "    f1s.append(f1_score(y_test, predictions))"
   ]
  },
  {
   "cell_type": "code",
   "execution_count": null,
   "metadata": {},
   "outputs": [],
   "source": [
    "metricas_RF=[]\n",
    "metricas_RF.append(sum(accuracies)/len(accuracies))\n",
    "metricas_RF.append(sum(precisions)/len(precisions))\n",
    "metricas_RF.append(sum(recalls)/len(recalls))\n",
    "metricas_RF.append(sum(f1s)/len(f1s))\n",
    "metricas_RF"
   ]
  },
  {
   "cell_type": "code",
   "execution_count": null,
   "metadata": {},
   "outputs": [],
   "source": [
    "dict={\"RandomForest\":metricas_RF}\n",
    "Resultados=pd.DataFrame(dict,index=[\"Acuracy\",\"Precision\",\"Recall\",\"F1\"])\n",
    "Resultados"
   ]
  }
 ],
 "metadata": {
  "kernelspec": {
   "display_name": "ML_IMPELIA",
   "language": "python",
   "name": "python3"
  },
  "language_info": {
   "codemirror_mode": {
    "name": "ipython",
    "version": 3
   },
   "file_extension": ".py",
   "mimetype": "text/x-python",
   "name": "python",
   "nbconvert_exporter": "python",
   "pygments_lexer": "ipython3",
   "version": "3.10.13"
  }
 },
 "nbformat": 4,
 "nbformat_minor": 2
}
