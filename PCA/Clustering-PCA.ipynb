{
 "cells": [
  {
   "cell_type": "code",
   "execution_count": null,
   "metadata": {},
   "outputs": [],
   "source": [
    "from sklearn.decomposition import PCA\n",
    "\n",
    "# Reducción de dimensionalidad utilizando PCA\n",
    "pca = PCA(n_components=2)\n",
    "df_pca = pca.fit_transform(df_train.drop('Cluster', axis=1))\n",
    "\n",
    "# Visualizar los resultados del clustering en un gráfico de dispersión\n",
    "plt.figure(figsize=(10, 6))\n",
    "plt.scatter(df_train['edad'], df_train['saldo'], c=df_train['Cluster'], cmap='viridis', alpha=0.5)\n",
    "plt.title('Resultados del Clustering')\n",
    "plt.xlabel('edad')\n",
    "plt.ylabel('saldo')\n",
    "plt.colorbar(label='Cluster')\n",
    "plt.show()\n"
   ]
  },
  {
   "cell_type": "code",
   "execution_count": null,
   "metadata": {},
   "outputs": [],
   "source": [
    "# from sklearn.compose import ColumnTransformer\n",
    "# from sklearn.pipeline import Pipeline\n",
    "\n",
    "# # Suponiendo que tienes tu DataFrame llamado 'df' con 50000 personas y diferentes columnas\n",
    "\n",
    "# # Separar las características categóricas y numéricas\n",
    "# categorical_features = df_train.select_dtypes(include=['object']).columns\n",
    "# numeric_features = df_train.select_dtypes(include=['int', 'float']).columns\n",
    "\n",
    "# # Construir el preprocesamiento de datos con codificación one-hot para características categóricas\n",
    "# preprocessor = ColumnTransformer(\n",
    "#     transformers=[\n",
    "#         ('num', StandardScaler(), numeric_features),\n",
    "#         ('cat', OneHotEncoder(), categorical_features)])\n",
    "\n",
    "# # Crear el pipeline de preprocesamiento y modelado\n",
    "# pipeline = Pipeline(steps=[('preprocessor', preprocessor),\n",
    "#                         ('kmeans', KMeans(n_clusters=5, random_state=42))])\n",
    "\n",
    "# # Ajustar el pipeline al DataFrame\n",
    "# pipeline.fit(df_train)\n",
    "\n",
    "# # Obtener las etiquetas de los clústeres asignadas a cada muestra\n",
    "# cluster_labels = pipeline.named_steps['kmeans'].labels_\n",
    "\n",
    "# # Agregar las etiquetas de los clústeres al DataFrame original\n",
    "# df_train['Cluster'] = cluster_labels\n",
    "\n",
    "# # Analizar los resultados del clustering\n",
    "# print(df_train['Cluster'].value_counts())"
   ]
  },
  {
   "cell_type": "code",
   "execution_count": null,
   "metadata": {},
   "outputs": [],
   "source": [
    "from sklearn.decomposition import PCA\n",
    "\n",
    "# Reducción de dimensionalidad utilizando PCA\n",
    "pca = PCA(n_components=2)\n",
    "df_pca = pca.fit_transform(df_train.drop('Cluster', axis=1))\n",
    "\n",
    "# Visualizar los resultados del clustering en un gráfico de dispersión\n",
    "plt.figure(figsize=(10, 6))\n",
    "plt.scatter(df_pca[:, 0], df_pca[:, 1], c=df_train['Cluster'], cmap='tab10', alpha=0.8, edgecolor='k', linewidth=0.5)\n",
    "plt.title('Resultados del Clustering (PCA)')\n",
    "plt.xlabel('Componente Principal 1')\n",
    "plt.ylabel('Componente Principal 2')\n",
    "plt.colorbar(label='Cluster')\n",
    "plt.xlim(df_pca[:, 0].min() - 0.1, df_pca[:, 0].max() + 0.1)  # Ajustar límites de eje x\n",
    "plt.ylim(df_pca[:, 1].min() - 0.1, df_pca[:, 1].max() + 0.1)  # Ajustar límites de eje y\n",
    "plt.grid(True, linestyle='--', alpha=0.5)  # Agregar cuadrícula de fondo\n",
    "plt.show()\n"
   ]
  },
  {
   "cell_type": "code",
   "execution_count": null,
   "metadata": {},
   "outputs": [],
   "source": [
    "import pandas as pd\n",
    "import seaborn as sns\n",
    "\n",
    "# Calcular estadísticas descriptivas para cada grupo\n",
    "cluster_stats = df.groupby('Cluster').describe()\n",
    "\n",
    "# Visualizar las distribuciones de características en cada grupo\n",
    "sns.pairplot(df, hue='Cluster', diag_kind='kde')\n",
    "plt.show()\n",
    "\n",
    "# Imprimir estadísticas descriptivas\n",
    "print(cluster_stats)\n"
   ]
  },
  {
   "cell_type": "code",
   "execution_count": null,
   "metadata": {},
   "outputs": [],
   "source": [
    "# Suponiendo que ya has asignado etiquetas de cluster al DataFrame df\n",
    "\n",
    "# Dividir el DataFrame en subconjuntos para cada grupo de cluster\n",
    "grupos = {}\n",
    "for grupo, datos_grupo in df.groupby('Cluster'):\n",
    "    grupos[grupo] = datos_grupo.copy()  # Copia los datos para evitar modificar el DataFrame original\n",
    "\n",
    "# Visualizar los primeros registros de cada grupo\n",
    "for grupo, datos_grupo in grupos.items():\n",
    "    print(f\"Grupo {grupo}:\")\n",
    "    print(datos_grupo.head())\n",
    "    print(\"\\n\")\n"
   ]
  },
  {
   "cell_type": "code",
   "execution_count": null,
   "metadata": {},
   "outputs": [],
   "source": [
    "from sklearn.decomposition import PCA\n",
    "\n",
    "# Suponiendo que ya has asignado etiquetas de cluster al DataFrame df\n",
    "\n",
    "# Aplicar PCA para reducir la dimensionalidad de los datos a 2 dimensiones\n",
    "pca = PCA(n_components=2)\n",
    "X_pca = pca.fit_transform(df.drop(columns=['Clusters']))  # Excluye la columna del clúster\n",
    "\n",
    "# Visualizar los datos en un gráfico de dispersión\n",
    "plt.figure(figsize=(10, 6))\n",
    "for grupo, datos_grupo in grupos.items():\n",
    "    indices_grupo = datos_grupo.index\n",
    "    plt.scatter(X_pca[indices_grupo, 0], X_pca[indices_grupo, 1], label=f\"Grupo {grupo}\", alpha=0.5)\n",
    "plt.title('Visualización de Grupos del Clúster (PCA)')\n",
    "plt.xlabel('Componente Principal 1')\n",
    "plt.ylabel('Componente Principal 2')\n",
    "plt.legend()\n",
    "plt.show()"
   ]
  }
 ],
 "metadata": {
  "language_info": {
   "name": "python"
  }
 },
 "nbformat": 4,
 "nbformat_minor": 2
}
