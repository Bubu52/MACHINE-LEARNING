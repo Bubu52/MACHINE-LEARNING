{
 "cells": [
  {
   "cell_type": "code",
   "execution_count": 3,
   "metadata": {},
   "outputs": [
    {
     "ename": "TypeError",
     "evalue": "WebDriver.__init__() got an unexpected keyword argument 'executable_path'",
     "output_type": "error",
     "traceback": [
      "\u001b[1;31m---------------------------------------------------------------------------\u001b[0m",
      "\u001b[1;31mTypeError\u001b[0m                                 Traceback (most recent call last)",
      "Cell \u001b[1;32mIn[3], line 7\u001b[0m\n\u001b[0;32m      4\u001b[0m chrome_driver_path \u001b[38;5;241m=\u001b[39m \u001b[38;5;124m'\u001b[39m\u001b[38;5;124mruta/al/chromedriver\u001b[39m\u001b[38;5;124m'\u001b[39m\n\u001b[0;32m      6\u001b[0m \u001b[38;5;66;03m# Crear una instancia del navegador Chrome\u001b[39;00m\n\u001b[1;32m----> 7\u001b[0m driver \u001b[38;5;241m=\u001b[39m \u001b[43mwebdriver\u001b[49m\u001b[38;5;241;43m.\u001b[39;49m\u001b[43mChrome\u001b[49m\u001b[43m(\u001b[49m\u001b[43mexecutable_path\u001b[49m\u001b[38;5;241;43m=\u001b[39;49m\u001b[43mchrome_driver_path\u001b[49m\u001b[43m)\u001b[49m\n",
      "\u001b[1;31mTypeError\u001b[0m: WebDriver.__init__() got an unexpected keyword argument 'executable_path'"
     ]
    }
   ],
   "source": [
    "from selenium import webdriver\n",
    "\n",
    "# Ruta al controlador de Chrome\n",
    "chrome_driver_path = 'ruta/al/chromedriver'\n",
    "\n",
    "# Crear una instancia del navegador Chrome\n",
    "driver = webdriver.Chrome(executable_path=chrome_driver_path)\n"
   ]
  },
  {
   "cell_type": "code",
   "execution_count": null,
   "metadata": {},
   "outputs": [],
   "source": [
    "# Utiliza el método get() para abrir una página web:\n",
    "driver.get('https://www.ejemplo.com')\n"
   ]
  },
  {
   "cell_type": "code",
   "execution_count": null,
   "metadata": {},
   "outputs": [],
   "source": [
    "# Localizar elementos\n",
    "# Por ID\n",
    "elemento = driver.find_element_by_id('id_del_elemento')\n",
    "\n",
    "# Por nombre\n",
    "elemento = driver.find_element_by_name('nombre_del_elemento')\n",
    "\n",
    "# Por clase\n",
    "elemento = driver.find_element_by_class_name('clase_del_elemento')\n",
    "\n",
    "# Por XPath\n",
    "elemento = driver.find_element_by_xpath('//path/al/elemento')\n"
   ]
  },
  {
   "cell_type": "code",
   "execution_count": null,
   "metadata": {},
   "outputs": [],
   "source": [
    "# Acciones sobre elementos\n",
    "elemento.click()\n"
   ]
  },
  {
   "cell_type": "markdown",
   "metadata": {},
   "source": [
    "Es importante esperar a que los elementos estén presentes antes de interactuar con ellos. \n",
    "\n",
    "Puedes utilizar el módulo \"expected_conditions\" junto con WebDriverWait para esperar a que un elemento esté presente:"
   ]
  },
  {
   "cell_type": "code",
   "execution_count": null,
   "metadata": {},
   "outputs": [],
   "source": [
    "from selenium.webdriver.common.by import By\n",
    "from selenium.webdriver.support.ui import WebDriverWait\n",
    "from selenium.webdriver.support import expected_conditions as EC\n",
    "\n",
    "# Esperar hasta 10 segundos para que el elemento esté presente\n",
    "elemento = WebDriverWait(driver, 10).until(\n",
    "    EC.presence_of_element_located((By.ID, 'id_del_elemento'))\n",
    ")"
   ]
  },
  {
   "cell_type": "code",
   "execution_count": null,
   "metadata": {},
   "outputs": [],
   "source": [
    "# Cerrar el navegador\n",
    "driver.quit()\n"
   ]
  },
  {
   "cell_type": "markdown",
   "metadata": {},
   "source": [
    "Ejemplo Completo:"
   ]
  },
  {
   "cell_type": "code",
   "execution_count": 1,
   "metadata": {},
   "outputs": [
    {
     "ename": "TypeError",
     "evalue": "WebDriver.__init__() got an unexpected keyword argument 'executable_path'",
     "output_type": "error",
     "traceback": [
      "\u001b[1;31m---------------------------------------------------------------------------\u001b[0m",
      "\u001b[1;31mTypeError\u001b[0m                                 Traceback (most recent call last)",
      "Cell \u001b[1;32mIn[1], line 14\u001b[0m\n\u001b[0;32m     10\u001b[0m chrome_options \u001b[38;5;241m=\u001b[39m webdriver\u001b[38;5;241m.\u001b[39mChromeOptions()\n\u001b[0;32m     11\u001b[0m \u001b[38;5;66;03m# Puedes agregar opciones adicionales si es necesario\u001b[39;00m\n\u001b[0;32m     12\u001b[0m \n\u001b[0;32m     13\u001b[0m \u001b[38;5;66;03m# Crear una instancia del navegador Chrome con opciones y ruta del controlador\u001b[39;00m\n\u001b[1;32m---> 14\u001b[0m driver \u001b[38;5;241m=\u001b[39m \u001b[43mwebdriver\u001b[49m\u001b[38;5;241;43m.\u001b[39;49m\u001b[43mChrome\u001b[49m\u001b[43m(\u001b[49m\u001b[43mexecutable_path\u001b[49m\u001b[38;5;241;43m=\u001b[39;49m\u001b[43mchrome_driver_path\u001b[49m\u001b[43m,\u001b[49m\u001b[43m \u001b[49m\u001b[43moptions\u001b[49m\u001b[38;5;241;43m=\u001b[39;49m\u001b[43mchrome_options\u001b[49m\u001b[43m)\u001b[49m\n\u001b[0;32m     16\u001b[0m \u001b[38;5;66;03m# Navegar a una página web\u001b[39;00m\n\u001b[0;32m     17\u001b[0m driver\u001b[38;5;241m.\u001b[39mget(\u001b[38;5;124m'\u001b[39m\u001b[38;5;124mhttps://www.google.com\u001b[39m\u001b[38;5;124m'\u001b[39m)\n",
      "\u001b[1;31mTypeError\u001b[0m: WebDriver.__init__() got an unexpected keyword argument 'executable_path'"
     ]
    }
   ],
   "source": [
    "from selenium import webdriver\n",
    "from selenium.webdriver.common.by import By\n",
    "from selenium.webdriver.support.ui import WebDriverWait\n",
    "from selenium.webdriver.support import expected_conditions as EC\n",
    "\n",
    "# Ruta al controlador de Chrome\n",
    "chrome_driver_path = 'ruta/al/chromedriver'\n",
    "\n",
    "# Configurar opciones del navegador (opcional)\n",
    "chrome_options = webdriver.ChromeOptions()\n",
    "# Puedes agregar opciones adicionales si es necesario\n",
    "\n",
    "# Crear una instancia del navegador Chrome con opciones y ruta del controlador\n",
    "driver = webdriver.Chrome(executable_path=chrome_driver_path, options=chrome_options)\n",
    "\n",
    "# Navegar a una página web\n",
    "driver.get('https://www.google.com')\n",
    "\n",
    "# Esperar a que un elemento esté presente\n",
    "elemento = WebDriverWait(driver, 10).until(\n",
    "    EC.presence_of_element_located((By.ID, 'id_del_elemento'))\n",
    ")\n",
    "\n",
    "# Realizar acciones sobre el elemento\n",
    "elemento.click()\n",
    "\n",
    "# Cerrar el navegador\n",
    "driver.quit()"
   ]
  },
  {
   "cell_type": "code",
   "execution_count": 2,
   "metadata": {},
   "outputs": [
    {
     "ename": "SyntaxError",
     "evalue": "unterminated string literal (detected at line 7) (1767649438.py, line 7)",
     "output_type": "error",
     "traceback": [
      "\u001b[1;36m  Cell \u001b[1;32mIn[2], line 7\u001b[1;36m\u001b[0m\n\u001b[1;33m    driver.get(\"https://www.google.com)\u001b[0m\n\u001b[1;37m               ^\u001b[0m\n\u001b[1;31mSyntaxError\u001b[0m\u001b[1;31m:\u001b[0m unterminated string literal (detected at line 7)\n"
     ]
    }
   ],
   "source": [
    "from selenium import webdriver\n",
    "from selenium.webdriver.common.keys import Keys\n",
    "from selenium.webdriver.common.alert import Alert\n",
    "\n",
    "driver = webdriver.Chrome()\n",
    "\n",
    "driver.get(\"https://www.google.com)\n",
    "search_box = driver.find_element(\"name\",\"q\")\n",
    "\n",
    "\n",
    "\n",
    "\n",
    "search_box.send_keys(\"python\")\n",
    "search_box.send_keys(Keys.RETURN)\n"
   ]
  }
 ],
 "metadata": {
  "kernelspec": {
   "display_name": "Python 3",
   "language": "python",
   "name": "python3"
  },
  "language_info": {
   "codemirror_mode": {
    "name": "ipython",
    "version": 3
   },
   "file_extension": ".py",
   "mimetype": "text/x-python",
   "name": "python",
   "nbconvert_exporter": "python",
   "pygments_lexer": "ipython3",
   "version": "3.10.13"
  }
 },
 "nbformat": 4,
 "nbformat_minor": 2
}
