{
 "cells": [
  {
   "cell_type": "code",
   "execution_count": 5,
   "metadata": {},
   "outputs": [
    {
     "ename": "TimeoutException",
     "evalue": "Message: \nStacktrace:\n\tGetHandleVerifier [0x00007FF710157012+3522402]\n\t(No symbol) [0x00007FF70FD78352]\n\t(No symbol) [0x00007FF70FC25ABB]\n\t(No symbol) [0x00007FF70FC6BF0E]\n\t(No symbol) [0x00007FF70FC6C08C]\n\t(No symbol) [0x00007FF70FCAE437]\n\t(No symbol) [0x00007FF70FC8F09F]\n\t(No symbol) [0x00007FF70FCABDA3]\n\t(No symbol) [0x00007FF70FC8EE03]\n\t(No symbol) [0x00007FF70FC5F4D4]\n\t(No symbol) [0x00007FF70FC605F1]\n\tGetHandleVerifier [0x00007FF710189B9D+3730157]\n\tGetHandleVerifier [0x00007FF7101DF02D+4079485]\n\tGetHandleVerifier [0x00007FF7101D75D3+4048163]\n\tGetHandleVerifier [0x00007FF70FEAA649+718233]\n\t(No symbol) [0x00007FF70FD84A3F]\n\t(No symbol) [0x00007FF70FD7FA94]\n\t(No symbol) [0x00007FF70FD7FBC2]\n\t(No symbol) [0x00007FF70FD6F2E4]\n\tBaseThreadInitThunk [0x00007FFAFE347344+20]\n\tRtlUserThreadStart [0x00007FFAFE6A26B1+33]\n",
     "output_type": "error",
     "traceback": [
      "\u001b[1;31m---------------------------------------------------------------------------\u001b[0m",
      "\u001b[1;31mTimeoutException\u001b[0m                          Traceback (most recent call last)",
      "Cell \u001b[1;32mIn[5], line 16\u001b[0m\n\u001b[0;32m     13\u001b[0m driver\u001b[38;5;241m.\u001b[39mget(\u001b[38;5;124m\"\u001b[39m\u001b[38;5;124mhttps://www.espn.com/soccer/standings/_/league/ESP.1\u001b[39m\u001b[38;5;124m\"\u001b[39m)\n\u001b[0;32m     15\u001b[0m \u001b[38;5;66;03m# Esperar a que aparezca el banner de las cookies\u001b[39;00m\n\u001b[1;32m---> 16\u001b[0m \u001b[43mWebDriverWait\u001b[49m\u001b[43m(\u001b[49m\u001b[43mdriver\u001b[49m\u001b[43m,\u001b[49m\u001b[43m \u001b[49m\u001b[38;5;241;43m10\u001b[39;49m\u001b[43m)\u001b[49m\u001b[38;5;241;43m.\u001b[39;49m\u001b[43muntil\u001b[49m\u001b[43m(\u001b[49m\u001b[43mEC\u001b[49m\u001b[38;5;241;43m.\u001b[39;49m\u001b[43mpresence_of_element_located\u001b[49m\u001b[43m(\u001b[49m\u001b[43m(\u001b[49m\u001b[43mBy\u001b[49m\u001b[38;5;241;43m.\u001b[39;49m\u001b[43mCLASS_NAME\u001b[49m\u001b[43m,\u001b[49m\u001b[43m \u001b[49m\u001b[38;5;124;43m\"\u001b[39;49m\u001b[38;5;124;43mqc-cmp-ui-container\u001b[39;49m\u001b[38;5;124;43m\"\u001b[39;49m\u001b[43m)\u001b[49m\u001b[43m)\u001b[49m\u001b[43m)\u001b[49m\n\u001b[0;32m     18\u001b[0m \u001b[38;5;66;03m# Cerrar el banner de las cookies haciendo clic en el botón \"Aceptar\"\u001b[39;00m\n\u001b[0;32m     19\u001b[0m aceptar_cookies \u001b[38;5;241m=\u001b[39m driver\u001b[38;5;241m.\u001b[39mfind_element(By\u001b[38;5;241m.\u001b[39mID, \u001b[38;5;124m\"\u001b[39m\u001b[38;5;124monetrust-accept-btn-handler\u001b[39m\u001b[38;5;124m\"\u001b[39m)\n",
      "File \u001b[1;32mc:\\Users\\GuillemEdoBertran\\.conda\\envs\\ML_IMPELIA\\lib\\site-packages\\selenium\\webdriver\\support\\wait.py:105\u001b[0m, in \u001b[0;36mWebDriverWait.until\u001b[1;34m(self, method, message)\u001b[0m\n\u001b[0;32m    103\u001b[0m     \u001b[38;5;28;01mif\u001b[39;00m time\u001b[38;5;241m.\u001b[39mmonotonic() \u001b[38;5;241m>\u001b[39m end_time:\n\u001b[0;32m    104\u001b[0m         \u001b[38;5;28;01mbreak\u001b[39;00m\n\u001b[1;32m--> 105\u001b[0m \u001b[38;5;28;01mraise\u001b[39;00m TimeoutException(message, screen, stacktrace)\n",
      "\u001b[1;31mTimeoutException\u001b[0m: Message: \nStacktrace:\n\tGetHandleVerifier [0x00007FF710157012+3522402]\n\t(No symbol) [0x00007FF70FD78352]\n\t(No symbol) [0x00007FF70FC25ABB]\n\t(No symbol) [0x00007FF70FC6BF0E]\n\t(No symbol) [0x00007FF70FC6C08C]\n\t(No symbol) [0x00007FF70FCAE437]\n\t(No symbol) [0x00007FF70FC8F09F]\n\t(No symbol) [0x00007FF70FCABDA3]\n\t(No symbol) [0x00007FF70FC8EE03]\n\t(No symbol) [0x00007FF70FC5F4D4]\n\t(No symbol) [0x00007FF70FC605F1]\n\tGetHandleVerifier [0x00007FF710189B9D+3730157]\n\tGetHandleVerifier [0x00007FF7101DF02D+4079485]\n\tGetHandleVerifier [0x00007FF7101D75D3+4048163]\n\tGetHandleVerifier [0x00007FF70FEAA649+718233]\n\t(No symbol) [0x00007FF70FD84A3F]\n\t(No symbol) [0x00007FF70FD7FA94]\n\t(No symbol) [0x00007FF70FD7FBC2]\n\t(No symbol) [0x00007FF70FD6F2E4]\n\tBaseThreadInitThunk [0x00007FFAFE347344+20]\n\tRtlUserThreadStart [0x00007FFAFE6A26B1+33]\n"
     ]
    }
   ],
   "source": [
    "import csv\n",
    "from selenium import webdriver\n",
    "from selenium.webdriver.chrome.service import Service\n",
    "from selenium.webdriver.common.by import By\n",
    "from selenium.webdriver.common.keys import Keys\n",
    "from selenium.webdriver.support.ui import WebDriverWait\n",
    "from selenium.webdriver.support import expected_conditions as EC\n",
    "import time\n",
    "\n",
    "# Configuración de Selenium\n",
    "service = Service(executable_path=\"chromedriver.exe\")\n",
    "driver = webdriver.Chrome(service=service)\n",
    "driver.get(\"https://www.espn.com/soccer/standings/_/league/ESP.1\")\n",
    "\n",
    "# Esperar a que aparezca el banner de las cookies\n",
    "WebDriverWait(driver, 10).until(EC.presence_of_element_located((By.CLASS_NAME, \"qc-cmp-ui-container\")))\n",
    "\n",
    "# Cerrar el banner de las cookies haciendo clic en el botón \"Aceptar\"\n",
    "aceptar_cookies = driver.find_element(By.ID, \"onetrust-accept-btn-handler\")\n",
    "aceptar_cookies.click()\n",
    "\n",
    "# Esperar a que se cargue la tabla de posiciones\n",
    "WebDriverWait(driver, 10).until(EC.presence_of_element_located((By.CLASS_NAME, \"Table\")))\n",
    "\n",
    "# Encontrar la tabla de posiciones\n",
    "table = driver.find_element(By.CLASS_NAME, \"Table\")\n",
    "\n",
    "# Encontrar todas las filas de la tabla\n",
    "rows = table.find_elements(By.TAG_NAME, \"tr\")\n",
    "\n",
    "# Crear un archivo CSV para escribir las estadísticas\n",
    "with open(\"estadisticas_liga_espanola.csv\", \"w\", newline=\"\") as csvfile:\n",
    "    writer = csv.writer(csvfile)\n",
    "\n",
    "    # Escribir encabezados de columna\n",
    "    writer.writerow([\"Equipo\", \"Puntos\", \"Juegos Jugados\", \"Ganados\", \"Empatados\", \"Perdidos\"])\n",
    "\n",
    "    # Iterar sobre las filas de la tabla, empezando desde la segunda fila\n",
    "    for row in rows[1:]:\n",
    "        # Extraer datos de cada fila\n",
    "        columns = row.find_elements(By.TAG_NAME, \"td\")\n",
    "        equipo = columns[0].text\n",
    "        puntos = columns[1].text\n",
    "        jugados = columns[2].text\n",
    "        ganados = columns[3].text\n",
    "        empatados = columns[4].text\n",
    "        perdidos = columns[5].text\n",
    "\n",
    "        # Escribir datos en el archivo CSV\n",
    "        writer.writerow([equipo, puntos, jugados, ganados, empatados, perdidos])\n",
    "\n",
    "# Cerrar el navegador\n",
    "driver.quit()"
   ]
  }
 ],
 "metadata": {
  "kernelspec": {
   "display_name": "ML_IMPELIA",
   "language": "python",
   "name": "python3"
  },
  "language_info": {
   "codemirror_mode": {
    "name": "ipython",
    "version": 3
   },
   "file_extension": ".py",
   "mimetype": "text/x-python",
   "name": "python",
   "nbconvert_exporter": "python",
   "pygments_lexer": "ipython3",
   "version": "3.10.13"
  }
 },
 "nbformat": 4,
 "nbformat_minor": 2
}
