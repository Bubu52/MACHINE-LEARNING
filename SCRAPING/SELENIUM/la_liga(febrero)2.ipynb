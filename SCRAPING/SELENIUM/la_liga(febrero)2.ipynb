{
 "cells": [
  {
   "cell_type": "code",
   "execution_count": 13,
   "metadata": {},
   "outputs": [
    {
     "name": "stdout",
     "output_type": "stream",
     "text": [
      "La fila no tiene suficientes columnas\n",
      "La fila no tiene suficientes columnas\n",
      "La fila no tiene suficientes columnas\n",
      "La fila no tiene suficientes columnas\n",
      "La fila no tiene suficientes columnas\n",
      "La fila no tiene suficientes columnas\n",
      "La fila no tiene suficientes columnas\n",
      "La fila no tiene suficientes columnas\n",
      "La fila no tiene suficientes columnas\n",
      "La fila no tiene suficientes columnas\n",
      "La fila no tiene suficientes columnas\n",
      "La fila no tiene suficientes columnas\n",
      "La fila no tiene suficientes columnas\n",
      "La fila no tiene suficientes columnas\n",
      "La fila no tiene suficientes columnas\n",
      "La fila no tiene suficientes columnas\n",
      "La fila no tiene suficientes columnas\n",
      "La fila no tiene suficientes columnas\n",
      "La fila no tiene suficientes columnas\n",
      "La fila no tiene suficientes columnas\n"
     ]
    }
   ],
   "source": [
    "import csv\n",
    "from selenium import webdriver\n",
    "from selenium.webdriver.chrome.service import Service\n",
    "from selenium.webdriver.common.by import By\n",
    "from selenium.webdriver.support.ui import WebDriverWait\n",
    "from selenium.webdriver.support import expected_conditions as EC\n",
    "\n",
    "# Configuración de Selenium\n",
    "service = Service(executable_path=\"chromedriver.exe\")\n",
    "driver = webdriver.Chrome(service=service)\n",
    "driver.get(\"https://www.espn.com/soccer/standings/_/league/ESP.1\")\n",
    "\n",
    "# Esperar a que se cargue la tabla de posiciones\n",
    "WebDriverWait(driver, 10).until(EC.presence_of_element_located((By.CLASS_NAME, \"Table\")))\n",
    "\n",
    "# Verificar si el banner de cookies está presente y cerrarlo si es así\n",
    "try:\n",
    "    accept_cookies_button = driver.find_element(By.ID, \"onetrust-accept-btn-handler\")\n",
    "    accept_cookies_button.click()\n",
    "    # Pausa breve para que el banner de cookies desaparezca\n",
    "    driver.implicitly_wait(2)\n",
    "except:\n",
    "    pass  # Continuar sin hacer nada si el banner de cookies no está presente\n",
    "\n",
    "# Encontrar la tabla de posiciones\n",
    "table = driver.find_element(By.CLASS_NAME, \"Table\")\n",
    "\n",
    "# Encontrar todas las filas de la tabla\n",
    "rows = table.find_elements(By.TAG_NAME, \"tr\")\n",
    "\n",
    "# Crear un archivo CSV para escribir las estadísticas\n",
    "with open(\"estadisticas_liga_espanola.csv\", \"w\", newline=\"\", encoding=\"utf-8\") as csvfile:\n",
    "    writer = csv.writer(csvfile)\n",
    "\n",
    "    # Escribir encabezados de columna\n",
    "    writer.writerow([\"Equipo\", \"Puntos\", \"Juegos Jugados\", \"Ganados\", \"Empatados\", \"Perdidos\"])\n",
    "\n",
    "    # Iterar sobre las filas de la tabla, empezando desde la segunda fila\n",
    "    for row in rows[1:]:\n",
    "        # Extraer datos de cada fila\n",
    "        columns = row.find_elements(By.TAG_NAME, \"td\")\n",
    "        \n",
    "        # Verificar si hay suficientes columnas\n",
    "        if len(columns) >= 6:\n",
    "            equipo = columns[0].text\n",
    "            puntos = columns[1].text\n",
    "            jugados = columns[2].text\n",
    "            ganados = columns[3].text\n",
    "            empatados = columns[4].text\n",
    "            perdidos = columns[5].text\n",
    "\n",
    "            # Escribir datos en el archivo CSV\n",
    "            writer.writerow([equipo, puntos, jugados, ganados, empatados, perdidos])\n",
    "        else:\n",
    "            print(\"La fila no tiene suficientes columnas\")\n",
    "\n",
    "# Cerrar el navegador\n",
    "driver.quit()"
   ]
  },
  {
   "cell_type": "code",
   "execution_count": 11,
   "metadata": {},
   "outputs": [
    {
     "ename": "ValueError",
     "evalue": "a must be greater than 0 unless no samples are taken",
     "output_type": "error",
     "traceback": [
      "\u001b[1;31m---------------------------------------------------------------------------\u001b[0m",
      "\u001b[1;31mValueError\u001b[0m                                Traceback (most recent call last)",
      "Cell \u001b[1;32mIn[11], line 3\u001b[0m\n\u001b[0;32m      1\u001b[0m \u001b[38;5;28;01mimport\u001b[39;00m \u001b[38;5;21;01mpandas\u001b[39;00m \u001b[38;5;28;01mas\u001b[39;00m \u001b[38;5;21;01mpd\u001b[39;00m\n\u001b[0;32m      2\u001b[0m data \u001b[38;5;241m=\u001b[39m pd\u001b[38;5;241m.\u001b[39mread_csv(\u001b[38;5;124m'\u001b[39m\u001b[38;5;124mestadisticas_liga_espanola.csv\u001b[39m\u001b[38;5;124m'\u001b[39m)\n\u001b[1;32m----> 3\u001b[0m \u001b[43mdata\u001b[49m\u001b[38;5;241;43m.\u001b[39;49m\u001b[43msample\u001b[49m\u001b[43m(\u001b[49m\u001b[38;5;241;43m10\u001b[39;49m\u001b[43m)\u001b[49m\n",
      "File \u001b[1;32mc:\\Users\\GuillemEdoBertran\\.conda\\envs\\ML_IMPELIA\\lib\\site-packages\\pandas\\core\\generic.py:6029\u001b[0m, in \u001b[0;36mNDFrame.sample\u001b[1;34m(self, n, frac, replace, weights, random_state, axis, ignore_index)\u001b[0m\n\u001b[0;32m   6026\u001b[0m \u001b[38;5;28;01mif\u001b[39;00m weights \u001b[38;5;129;01mis\u001b[39;00m \u001b[38;5;129;01mnot\u001b[39;00m \u001b[38;5;28;01mNone\u001b[39;00m:\n\u001b[0;32m   6027\u001b[0m     weights \u001b[38;5;241m=\u001b[39m sample\u001b[38;5;241m.\u001b[39mpreprocess_weights(\u001b[38;5;28mself\u001b[39m, weights, axis)\n\u001b[1;32m-> 6029\u001b[0m sampled_indices \u001b[38;5;241m=\u001b[39m \u001b[43msample\u001b[49m\u001b[38;5;241;43m.\u001b[39;49m\u001b[43msample\u001b[49m\u001b[43m(\u001b[49m\u001b[43mobj_len\u001b[49m\u001b[43m,\u001b[49m\u001b[43m \u001b[49m\u001b[43msize\u001b[49m\u001b[43m,\u001b[49m\u001b[43m \u001b[49m\u001b[43mreplace\u001b[49m\u001b[43m,\u001b[49m\u001b[43m \u001b[49m\u001b[43mweights\u001b[49m\u001b[43m,\u001b[49m\u001b[43m \u001b[49m\u001b[43mrs\u001b[49m\u001b[43m)\u001b[49m\n\u001b[0;32m   6030\u001b[0m result \u001b[38;5;241m=\u001b[39m \u001b[38;5;28mself\u001b[39m\u001b[38;5;241m.\u001b[39mtake(sampled_indices, axis\u001b[38;5;241m=\u001b[39maxis)\n\u001b[0;32m   6032\u001b[0m \u001b[38;5;28;01mif\u001b[39;00m ignore_index:\n",
      "File \u001b[1;32mc:\\Users\\GuillemEdoBertran\\.conda\\envs\\ML_IMPELIA\\lib\\site-packages\\pandas\\core\\sample.py:152\u001b[0m, in \u001b[0;36msample\u001b[1;34m(obj_len, size, replace, weights, random_state)\u001b[0m\n\u001b[0;32m    149\u001b[0m     \u001b[38;5;28;01melse\u001b[39;00m:\n\u001b[0;32m    150\u001b[0m         \u001b[38;5;28;01mraise\u001b[39;00m \u001b[38;5;167;01mValueError\u001b[39;00m(\u001b[38;5;124m\"\u001b[39m\u001b[38;5;124mInvalid weights: weights sum to zero\u001b[39m\u001b[38;5;124m\"\u001b[39m)\n\u001b[1;32m--> 152\u001b[0m \u001b[38;5;28;01mreturn\u001b[39;00m \u001b[43mrandom_state\u001b[49m\u001b[38;5;241;43m.\u001b[39;49m\u001b[43mchoice\u001b[49m\u001b[43m(\u001b[49m\u001b[43mobj_len\u001b[49m\u001b[43m,\u001b[49m\u001b[43m \u001b[49m\u001b[43msize\u001b[49m\u001b[38;5;241;43m=\u001b[39;49m\u001b[43msize\u001b[49m\u001b[43m,\u001b[49m\u001b[43m \u001b[49m\u001b[43mreplace\u001b[49m\u001b[38;5;241;43m=\u001b[39;49m\u001b[43mreplace\u001b[49m\u001b[43m,\u001b[49m\u001b[43m \u001b[49m\u001b[43mp\u001b[49m\u001b[38;5;241;43m=\u001b[39;49m\u001b[43mweights\u001b[49m\u001b[43m)\u001b[49m\u001b[38;5;241m.\u001b[39mastype(\n\u001b[0;32m    153\u001b[0m     np\u001b[38;5;241m.\u001b[39mintp, copy\u001b[38;5;241m=\u001b[39m\u001b[38;5;28;01mFalse\u001b[39;00m\n\u001b[0;32m    154\u001b[0m )\n",
      "File \u001b[1;32mnumpy\\\\random\\\\mtrand.pyx:945\u001b[0m, in \u001b[0;36mnumpy.random.mtrand.RandomState.choice\u001b[1;34m()\u001b[0m\n",
      "\u001b[1;31mValueError\u001b[0m: a must be greater than 0 unless no samples are taken"
     ]
    }
   ],
   "source": [
    "import pandas as pd\n",
    "data = pd.read_csv('estadisticas_liga_espanola.csv')\n",
    "data.sample(10)"
   ]
  }
 ],
 "metadata": {
  "kernelspec": {
   "display_name": "ML_IMPELIA",
   "language": "python",
   "name": "python3"
  },
  "language_info": {
   "codemirror_mode": {
    "name": "ipython",
    "version": 3
   },
   "file_extension": ".py",
   "mimetype": "text/x-python",
   "name": "python",
   "nbconvert_exporter": "python",
   "pygments_lexer": "ipython3",
   "version": "3.10.13"
  }
 },
 "nbformat": 4,
 "nbformat_minor": 2
}
