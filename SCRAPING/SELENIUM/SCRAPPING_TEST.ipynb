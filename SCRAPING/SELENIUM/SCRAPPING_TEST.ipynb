{
 "cells": [
  {
   "cell_type": "markdown",
   "metadata": {},
   "source": [
    "LINK YT"
   ]
  },
  {
   "cell_type": "markdown",
   "metadata": {},
   "source": [
    "https://www.youtube.com/watch?v=NB8OceGZGjA"
   ]
  },
  {
   "cell_type": "code",
   "execution_count": 6,
   "metadata": {},
   "outputs": [],
   "source": [
    "import selenium.webdriver.support.ui as ui\n",
    "from selenium.webdriver.support.ui import WebDriverWait\n",
    "from selenium.webdriver.support import expected_conditions as EC\n",
    "from selenium.webdriver.common.by import By\n",
    "from selenium.webdriver.common.keys import Keys\n",
    "import time\n",
    "\n",
    "service = Service(executable_path = \"chromedriver.exe\")\n",
    "driver = webdriver.Chrome(service = service)\n",
    "driver.get(\"https://www.google.com\")\n",
    "\n",
    "# aceptar cookies\n",
    "ui.WebDriverWait(driver, 5).until(EC.presence_of_element_located((By.CLASS_NAME, \"sy4vM\")))\n",
    "aceptar = driver.find_element(By.CLASS_NAME, \"sy4vM\")\n",
    "aceptar.click()\n",
    "\n",
    "ui.WebDriverWait(driver, 5).until(EC.presence_of_element_located((By.CLASS_NAME, \"gLFyf\")))\n",
    "\n",
    "input_element = driver.find_element(By.CLASS_NAME, \"gLFyf\")\n",
    "input_element.clear()\n",
    "input_element.send_keys(\"espn.com\" + Keys.ENTER)\n",
    "\n",
    "ui.WebDriverWait(driver, 5).until(\n",
    "    EC.presence_of_element_located((By.PARTIAL_LINK_TEXT, \"espn.com\"))\n",
    ")\n",
    "\n",
    "link = driver.find_element(By.PARTIAL_LINK_TEXT, \"espn.com\")\n",
    "link.click()\n",
    "\n",
    "time.sleep(10)\n",
    "\n",
    "driver.quit()"
   ]
  }
 ],
 "metadata": {
  "kernelspec": {
   "display_name": "Python 3",
   "language": "python",
   "name": "python3"
  },
  "language_info": {
   "codemirror_mode": {
    "name": "ipython",
    "version": 3
   },
   "file_extension": ".py",
   "mimetype": "text/x-python",
   "name": "python",
   "nbconvert_exporter": "python",
   "pygments_lexer": "ipython3",
   "version": "3.10.13"
  }
 },
 "nbformat": 4,
 "nbformat_minor": 2
}
