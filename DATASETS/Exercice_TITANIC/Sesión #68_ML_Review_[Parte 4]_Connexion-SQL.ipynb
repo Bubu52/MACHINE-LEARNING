{
 "cells": [
  {
   "cell_type": "markdown",
   "metadata": {},
   "source": [
    "### IMPORTACION DE LIBRERIAS NECESARIAS"
   ]
  },
  {
   "cell_type": "code",
   "execution_count": 1,
   "metadata": {},
   "outputs": [],
   "source": [
    "import pymysql\n",
    "import pandas as pd\n",
    "import matplotlib.pyplot as plt"
   ]
  },
  {
   "cell_type": "markdown",
   "metadata": {},
   "source": [
    "### FUNCION PARA LA CONEXION CON LA DB"
   ]
  },
  {
   "cell_type": "code",
   "execution_count": 2,
   "metadata": {},
   "outputs": [],
   "source": [
    "def db_conn(host, user, password, db):\n",
    "    try:\n",
    "        conn = pymysql.connect(host=host,user=user,password=password,db=db)\n",
    "        return conn\n",
    "    except Exception as e:\n",
    "        print(e)\n",
    "        return False"
   ]
  },
  {
   "cell_type": "markdown",
   "metadata": {},
   "source": [
    "### FUNCION PARA EJECUCION DE QUERY CONTRA LA DB"
   ]
  },
  {
   "cell_type": "code",
   "execution_count": 3,
   "metadata": {},
   "outputs": [],
   "source": [
    "def execute_db_query(conector, query):\n",
    "    try:\n",
    "        cur = conector.cursor() \n",
    "        cur.execute(query) \n",
    "        output = cur.fetchall() \n",
    "        return output\n",
    "    except Exception as e:\n",
    "        print(e)\n",
    "        return False"
   ]
  },
  {
   "cell_type": "markdown",
   "metadata": {},
   "source": [
    "### FUNCION PARA LA DESCONECXION DE LA DB"
   ]
  },
  {
   "cell_type": "code",
   "execution_count": 4,
   "metadata": {},
   "outputs": [],
   "source": [
    "def db_close_conn(connector):\n",
    "    try:\n",
    "        connector.close()\n",
    "        return True\n",
    "    except Exception as e:\n",
    "        print(e)\n",
    "        return False"
   ]
  },
  {
   "cell_type": "markdown",
   "metadata": {},
   "source": [
    "### USO DE LAS FUNCIONES"
   ]
  },
  {
   "cell_type": "code",
   "execution_count": 9,
   "metadata": {},
   "outputs": [
    {
     "name": "stdout",
     "output_type": "stream",
     "text": [
      "[+] Conectados a la DB\n",
      "[+] Datos extraidos de la DB\n",
      "    0   1   2                                             3       4    5   6   \\\n",
      "0  892   0   3                              Kelly, Mr. James    male  34.   0   \n",
      "1  893   1   3              Wilkes, Mrs. James (Ellen Needs)  female   47   1   \n",
      "2  894   0   2                     Myles, Mr. Thomas Francis    male   62   0   \n",
      "3  895   0   3                              Wirz, Mr. Albert    male   27   0   \n",
      "4  896   1   3  Hirvonen, Mrs. Alexander (Helga E Lindqvist)  female   22   1   \n",
      "\n",
      "   7        8        9  10 11  \n",
      "0   0   330911   7.8292     Q  \n",
      "1   0   363272        7     S  \n",
      "2   0   240276   9.6875     Q  \n",
      "3   0   315154   8.6625     S  \n",
      "4   1  3101298  12.2875     S  \n",
      "Kelly, Mr. James\n",
      "[+] Desconnectados de la DB\n"
     ]
    },
    {
     "data": {
      "text/plain": [
       "1\n",
       "0    266\n",
       "1    152\n",
       "Name: count, dtype: int64"
      ]
     },
     "execution_count": 9,
     "metadata": {},
     "output_type": "execute_result"
    },
    {
     "data": {
      "image/png": "[encoded data removed]",
      "text/plain": [
       "<Figure size 640x480 with 1 Axes>"
      ]
     },
     "metadata": {},
     "output_type": "display_data"
    }
   ],
   "source": [
    "# Conectar con la DB\n",
    "db_connector = db_conn(\"127.0.0.1\", \"IMPELIA\", \"1234\", \"ml-tests\")\n",
    "if db_connector:\n",
    "    print(\"[+] Conectados a la DB\")\n",
    "    \n",
    "    # Extraer todos los datos de la DB\n",
    "    data = execute_db_query(db_connector, \"select * from titanic\")\n",
    "    if data:\n",
    "        print(\"[+] Datos extraidos de la DB\")\n",
    "        \n",
    "        # Conversion a PD.DataFrame\n",
    "        data_frame = pd.DataFrame(data)\n",
    "        print(data_frame.head())\n",
    "\n",
    "        # Como acceder a una columna y elemento de la columna\n",
    "        print(data_frame[3][0])\n",
    "\n",
    "        # Graficar con matplotlib (barras) las personas vivas y muertas en funcion de la clase del billete (1,2,3)\n",
    "        df2 = data_frame.copy()\n",
    "\n",
    "        a = df2.groupby([2,1])[1].count().unstack().plot(kind = 'bar')\n",
    "        a.xlabel = \"Clase de billete\"\n",
    "        a.ylabel = \"Personas\"\n",
    "        a.legend([\"Vivo\", \"Muerto\"])\n",
    "\n",
    "        # Graficar con matplotlib (lineas) las personas vivas y muertas en funcion de la clase del billete (1,2,3)\n",
    "        \n",
    "        \n",
    "    else:\n",
    "        print(\"[-] Error ejecutando la Query\")\n",
    "\n",
    "    # deconnectar de la DB\n",
    "    close_db_conn = db_close_conn(db_connector)\n",
    "    if close_db_conn:\n",
    "        print(\"[+] Desconnectados de la DB\")\n",
    "    else:\n",
    "        print(\"[-] Error al desconnectar de la DB\")\n",
    "else:\n",
    "    print(\"[-] Error al conectar con la DB\")\n",
    "\n",
    "# Contabilizar una columna\n",
    "conteo = data_frame[1].value_counts()\n",
    "conteo"
   ]
  }
 ],
 "metadata": {
  "kernelspec": {
   "display_name": "Python 3 (ipykernel)",
   "language": "python",
   "name": "python3"
  },
  "language_info": {
   "codemirror_mode": {
    "name": "ipython",
    "version": 3
   },
   "file_extension": ".py",
   "mimetype": "text/x-python",
   "name": "python",
   "nbconvert_exporter": "python",
   "pygments_lexer": "ipython3",
   "version": "3.10.13"
  }
 },
 "nbformat": 4,
 "nbformat_minor": 4
}
