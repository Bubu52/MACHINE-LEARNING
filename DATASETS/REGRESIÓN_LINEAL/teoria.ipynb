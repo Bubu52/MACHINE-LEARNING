{
 "cells": [
  {
   "cell_type": "markdown",
   "metadata": {},
   "source": [
    "### Técnica supervisada de regresión (para predecir una variable numérica)\n",
    "- Regresión lineal"
   ]
  },
  {
   "cell_type": "markdown",
   "metadata": {},
   "source": [
    "- Tenemos X1,X2,X3../ Y para predecir.\n",
    "- Esta tecnica busca la combinación lineal de X que mejor predice Y."
   ]
  },
  {
   "cell_type": "markdown",
   "metadata": {},
   "source": [
    "y = 1 * X1 + 2X2"
   ]
  },
  {
   "cell_type": "markdown",
   "metadata": {},
   "source": [
    "y = ax + b"
   ]
  },
  {
   "cell_type": "markdown",
   "metadata": {},
   "source": [
    "El modelo final será: \n",
    "\n",
    "b = variables\n",
    "\n",
    "cte = coeficiente\n",
    "\n",
    "- Hiperplano:\n",
    "- y = cte + b1 X1 + b2 X2 + b3 X3 ...."
   ]
  }
 ],
 "metadata": {
  "language_info": {
   "name": "python"
  }
 },
 "nbformat": 4,
 "nbformat_minor": 2
}
