{
  "cells": [
    {
      "cell_type": "markdown",
      "metadata": {
        "id": "0MRC0e0KhQ0S"
      },
      "source": [
        "# Clase Supervised Classification ML"
      ]
    },
    {
      "cell_type": "markdown",
      "metadata": {
        "id": "LWd1UlMnhT2s"
      },
      "source": [
        "## Importar librerías"
      ]
    },
    {
      "cell_type": "code",
      "execution_count": 4,
      "metadata": {
        "id": "YvGPUQaHhXfL"
      },
      "outputs": [],
      "source": [
        "import numpy as np\n",
        "import matplotlib.pyplot as plt\n",
        "import pandas as pd\n",
        "from sklearn.preprocessing import StandardScaler, MinMaxScaler, OrdinalEncoder, OneHotEncoder\n",
        "from sklearn.metrics import accuracy_score, confusion_matrix, precision_score, recall_score, f1_score\n",
        "from joblib import dump, load\n",
        "from sklearn.linear_model import LogisticRegression\n",
        "from sklearn.tree import DecisionTreeClassifier\n",
        "from sklearn.ensemble import RandomForestClassifier"
      ]
    },
    {
      "cell_type": "markdown",
      "metadata": {
        "id": "K1VMqkGvhc3-"
      },
      "source": [
        "## Importar los datos"
      ]
    },
    {
      "cell_type": "code",
      "execution_count": 6,
      "metadata": {
        "id": "M52QDmyzhh9s"
      },
      "outputs": [
        {
          "data": {
            "text/html": [
              "<div>\n",
              "<style scoped>\n",
              "    .dataframe tbody tr th:only-of-type {\n",
              "        vertical-align: middle;\n",
              "    }\n",
              "\n",
              "    .dataframe tbody tr th {\n",
              "        vertical-align: top;\n",
              "    }\n",
              "\n",
              "    .dataframe thead th {\n",
              "        text-align: right;\n",
              "    }\n",
              "</style>\n",
              "<table border=\"1\" class=\"dataframe\">\n",
              "  <thead>\n",
              "    <tr style=\"text-align: right;\">\n",
              "      <th></th>\n",
              "      <th>Pregnancies</th>\n",
              "      <th>Glucose</th>\n",
              "      <th>BloodPressure</th>\n",
              "      <th>SkinThickness</th>\n",
              "      <th>Insulin</th>\n",
              "      <th>BMI</th>\n",
              "      <th>DiabetesPedigreeFunction</th>\n",
              "      <th>Age</th>\n",
              "      <th>Satisfaction</th>\n",
              "      <th>Job</th>\n",
              "      <th>Outcome</th>\n",
              "    </tr>\n",
              "  </thead>\n",
              "  <tbody>\n",
              "    <tr>\n",
              "      <th>191</th>\n",
              "      <td>7</td>\n",
              "      <td>181</td>\n",
              "      <td>84</td>\n",
              "      <td>21</td>\n",
              "      <td>192</td>\n",
              "      <td>35.9</td>\n",
              "      <td>586.0</td>\n",
              "      <td>51</td>\n",
              "      <td>Unsatisfied</td>\n",
              "      <td>High School Teacher</td>\n",
              "      <td>1</td>\n",
              "    </tr>\n",
              "    <tr>\n",
              "      <th>189</th>\n",
              "      <td>3</td>\n",
              "      <td>74</td>\n",
              "      <td>68</td>\n",
              "      <td>28</td>\n",
              "      <td>45</td>\n",
              "      <td>29.7</td>\n",
              "      <td>293.0</td>\n",
              "      <td>23</td>\n",
              "      <td>Extremely satisfied</td>\n",
              "      <td>High School Teacher</td>\n",
              "      <td>0</td>\n",
              "    </tr>\n",
              "    <tr>\n",
              "      <th>242</th>\n",
              "      <td>5</td>\n",
              "      <td>77</td>\n",
              "      <td>82</td>\n",
              "      <td>41</td>\n",
              "      <td>42</td>\n",
              "      <td>35.8</td>\n",
              "      <td>156.0</td>\n",
              "      <td>35</td>\n",
              "      <td>Extremely satisfied</td>\n",
              "      <td>High School Teacher</td>\n",
              "      <td>0</td>\n",
              "    </tr>\n",
              "    <tr>\n",
              "      <th>501</th>\n",
              "      <td>4</td>\n",
              "      <td>90</td>\n",
              "      <td>88</td>\n",
              "      <td>47</td>\n",
              "      <td>54</td>\n",
              "      <td>37.7</td>\n",
              "      <td>362.0</td>\n",
              "      <td>29</td>\n",
              "      <td>Unsatisfied</td>\n",
              "      <td>High School Teacher</td>\n",
              "      <td>0</td>\n",
              "    </tr>\n",
              "    <tr>\n",
              "      <th>117</th>\n",
              "      <td>4</td>\n",
              "      <td>154</td>\n",
              "      <td>62</td>\n",
              "      <td>31</td>\n",
              "      <td>284</td>\n",
              "      <td>32.8</td>\n",
              "      <td>237.0</td>\n",
              "      <td>23</td>\n",
              "      <td>Extremely unsatisfied</td>\n",
              "      <td>Epidemiologist</td>\n",
              "      <td>0</td>\n",
              "    </tr>\n",
              "    <tr>\n",
              "      <th>16</th>\n",
              "      <td>7</td>\n",
              "      <td>196</td>\n",
              "      <td>90</td>\n",
              "      <td>0</td>\n",
              "      <td>0</td>\n",
              "      <td>39.8</td>\n",
              "      <td>451.0</td>\n",
              "      <td>41</td>\n",
              "      <td>Extremely unsatisfied</td>\n",
              "      <td>Human Resources</td>\n",
              "      <td>1</td>\n",
              "    </tr>\n",
              "    <tr>\n",
              "      <th>388</th>\n",
              "      <td>0</td>\n",
              "      <td>84</td>\n",
              "      <td>82</td>\n",
              "      <td>31</td>\n",
              "      <td>125</td>\n",
              "      <td>38.2</td>\n",
              "      <td>233.0</td>\n",
              "      <td>23</td>\n",
              "      <td>Extremely satisfied</td>\n",
              "      <td>Physicians</td>\n",
              "      <td>0</td>\n",
              "    </tr>\n",
              "    <tr>\n",
              "      <th>120</th>\n",
              "      <td>5</td>\n",
              "      <td>147</td>\n",
              "      <td>78</td>\n",
              "      <td>0</td>\n",
              "      <td>0</td>\n",
              "      <td>33.7</td>\n",
              "      <td>218.0</td>\n",
              "      <td>65</td>\n",
              "      <td>Extremely unsatisfied</td>\n",
              "      <td>Database Administrator</td>\n",
              "      <td>0</td>\n",
              "    </tr>\n",
              "  </tbody>\n",
              "</table>\n",
              "</div>"
            ],
            "text/plain": [
              "     Pregnancies  Glucose  BloodPressure  SkinThickness  Insulin   BMI  \\\n",
              "191            7      181             84             21      192  35.9   \n",
              "189            3       74             68             28       45  29.7   \n",
              "242            5       77             82             41       42  35.8   \n",
              "501            4       90             88             47       54  37.7   \n",
              "117            4      154             62             31      284  32.8   \n",
              "16             7      196             90              0        0  39.8   \n",
              "388            0       84             82             31      125  38.2   \n",
              "120            5      147             78              0        0  33.7   \n",
              "\n",
              "     DiabetesPedigreeFunction  Age           Satisfaction  \\\n",
              "191                     586.0   51            Unsatisfied   \n",
              "189                     293.0   23    Extremely satisfied   \n",
              "242                     156.0   35    Extremely satisfied   \n",
              "501                     362.0   29            Unsatisfied   \n",
              "117                     237.0   23  Extremely unsatisfied   \n",
              "16                      451.0   41  Extremely unsatisfied   \n",
              "388                     233.0   23    Extremely satisfied   \n",
              "120                     218.0   65  Extremely unsatisfied   \n",
              "\n",
              "                        Job  Outcome  \n",
              "191     High School Teacher        1  \n",
              "189     High School Teacher        0  \n",
              "242     High School Teacher        0  \n",
              "501     High School Teacher        0  \n",
              "117          Epidemiologist        0  \n",
              "16          Human Resources        1  \n",
              "388              Physicians        0  \n",
              "120  Database Administrator        0  "
            ]
          },
          "execution_count": 6,
          "metadata": {},
          "output_type": "execute_result"
        }
      ],
      "source": [
        "# Tu código aquí debajo\n",
        "df = pd.read_excel('diabetes_clean.xlsx')\n",
        "df.sample(8)"
      ]
    },
    {
      "cell_type": "markdown",
      "metadata": {
        "id": "iroiFw6tWlvk"
      },
      "source": [
        "## Detectar y tratar duplicados"
      ]
    },
    {
      "cell_type": "code",
      "execution_count": 7,
      "metadata": {
        "colab": {
          "base_uri": "https://localhost:8080/"
        },
        "id": "FnP5kVoFWqk6",
        "outputId": "9b650f99-bafd-43e9-9289-dcb60693690e"
      },
      "outputs": [
        {
          "data": {
            "text/plain": [
              "0"
            ]
          },
          "execution_count": 7,
          "metadata": {},
          "output_type": "execute_result"
        }
      ],
      "source": [
        "# Tu código aquí debajo\n",
        "df.duplicated().sum()"
      ]
    },
    {
      "cell_type": "markdown",
      "metadata": {
        "id": "TJ8Ez2gWW2AP"
      },
      "source": [
        "## Detectar y tratar valores nulos"
      ]
    },
    {
      "cell_type": "code",
      "execution_count": 8,
      "metadata": {
        "colab": {
          "base_uri": "https://localhost:8080/"
        },
        "id": "am5scFI1W7nZ",
        "outputId": "981edc4d-7612-44ab-ff84-716e064440e2"
      },
      "outputs": [
        {
          "data": {
            "text/plain": [
              "Pregnancies                 0\n",
              "Glucose                     0\n",
              "BloodPressure               0\n",
              "SkinThickness               0\n",
              "Insulin                     0\n",
              "BMI                         0\n",
              "DiabetesPedigreeFunction    0\n",
              "Age                         0\n",
              "Satisfaction                0\n",
              "Job                         0\n",
              "Outcome                     0\n",
              "dtype: int64"
            ]
          },
          "execution_count": 8,
          "metadata": {},
          "output_type": "execute_result"
        }
      ],
      "source": [
        "# Tu código aquí debajo\n",
        "df.isnull().sum()\n"
      ]
    },
    {
      "cell_type": "code",
      "execution_count": null,
      "metadata": {
        "id": "D6zh9G7WXPGf"
      },
      "outputs": [],
      "source": [
        "# Tu código aquí debajo\n",
        "\n"
      ]
    },
    {
      "cell_type": "markdown",
      "metadata": {
        "id": "tEk7IFdiXXcG"
      },
      "source": [
        "## Detectar y tratar valores atípicos (ouliers)"
      ]
    },
    {
      "cell_type": "code",
      "execution_count": 9,
      "metadata": {
        "colab": {
          "base_uri": "https://localhost:8080/",
          "height": 476
        },
        "id": "nU3m_EyCXcrQ",
        "outputId": "dcc65b2c-46c3-4288-d1cf-260d00b92154"
      },
      "outputs": [
        {
          "name": "stdout",
          "output_type": "stream",
          "text": [
            "Cantida de oultliers de la variable Pregnancies : 0\n",
            "Cantida de oultliers de la variable Glucose : 9\n",
            "Cantida de oultliers de la variable BloodPressure : 4\n",
            "Cantida de oultliers de la variable SkinThickness : 0\n",
            "Cantida de oultliers de la variable Insulin : 4\n",
            "Cantida de oultliers de la variable BMI : 4\n",
            "Cantida de oultliers de la variable DiabetesPedigreeFunction : 10\n",
            "Cantida de oultliers de la variable Age : 10\n"
          ]
        },
        {
          "data": {
            "text/html": [
              "<div>\n",
              "<style scoped>\n",
              "    .dataframe tbody tr th:only-of-type {\n",
              "        vertical-align: middle;\n",
              "    }\n",
              "\n",
              "    .dataframe tbody tr th {\n",
              "        vertical-align: top;\n",
              "    }\n",
              "\n",
              "    .dataframe thead th {\n",
              "        text-align: right;\n",
              "    }\n",
              "</style>\n",
              "<table border=\"1\" class=\"dataframe\">\n",
              "  <thead>\n",
              "    <tr style=\"text-align: right;\">\n",
              "      <th></th>\n",
              "      <th>Pregnancies</th>\n",
              "      <th>Glucose</th>\n",
              "      <th>BloodPressure</th>\n",
              "      <th>SkinThickness</th>\n",
              "      <th>Insulin</th>\n",
              "      <th>BMI</th>\n",
              "      <th>DiabetesPedigreeFunction</th>\n",
              "      <th>Age</th>\n",
              "      <th>Satisfaction</th>\n",
              "      <th>Job</th>\n",
              "      <th>Outcome</th>\n",
              "    </tr>\n",
              "  </thead>\n",
              "  <tbody>\n",
              "    <tr>\n",
              "      <th>349</th>\n",
              "      <td>12</td>\n",
              "      <td>140</td>\n",
              "      <td>85</td>\n",
              "      <td>33</td>\n",
              "      <td>0</td>\n",
              "      <td>37.4</td>\n",
              "      <td>244.0</td>\n",
              "      <td>41</td>\n",
              "      <td>Extremely unsatisfied</td>\n",
              "      <td>High School Teacher</td>\n",
              "      <td>0</td>\n",
              "    </tr>\n",
              "    <tr>\n",
              "      <th>363</th>\n",
              "      <td>0</td>\n",
              "      <td>91</td>\n",
              "      <td>68</td>\n",
              "      <td>32</td>\n",
              "      <td>210</td>\n",
              "      <td>39.9</td>\n",
              "      <td>381.0</td>\n",
              "      <td>25</td>\n",
              "      <td>Extremely unsatisfied</td>\n",
              "      <td>High School Teacher</td>\n",
              "      <td>0</td>\n",
              "    </tr>\n",
              "    <tr>\n",
              "      <th>291</th>\n",
              "      <td>5</td>\n",
              "      <td>99</td>\n",
              "      <td>54</td>\n",
              "      <td>28</td>\n",
              "      <td>83</td>\n",
              "      <td>34.0</td>\n",
              "      <td>499.0</td>\n",
              "      <td>30</td>\n",
              "      <td>Extremely satisfied</td>\n",
              "      <td>Human Resources</td>\n",
              "      <td>0</td>\n",
              "    </tr>\n",
              "    <tr>\n",
              "      <th>13</th>\n",
              "      <td>1</td>\n",
              "      <td>115</td>\n",
              "      <td>70</td>\n",
              "      <td>30</td>\n",
              "      <td>96</td>\n",
              "      <td>34.6</td>\n",
              "      <td>529.0</td>\n",
              "      <td>32</td>\n",
              "      <td>Extremely satisfied</td>\n",
              "      <td>Human Resources</td>\n",
              "      <td>1</td>\n",
              "    </tr>\n",
              "    <tr>\n",
              "      <th>602</th>\n",
              "      <td>6</td>\n",
              "      <td>162</td>\n",
              "      <td>62</td>\n",
              "      <td>0</td>\n",
              "      <td>0</td>\n",
              "      <td>24.3</td>\n",
              "      <td>178.0</td>\n",
              "      <td>50</td>\n",
              "      <td>Extremely satisfied</td>\n",
              "      <td>Financial Analyst</td>\n",
              "      <td>1</td>\n",
              "    </tr>\n",
              "  </tbody>\n",
              "</table>\n",
              "</div>"
            ],
            "text/plain": [
              "     Pregnancies  Glucose  BloodPressure  SkinThickness  Insulin   BMI  \\\n",
              "349           12      140             85             33        0  37.4   \n",
              "363            0       91             68             32      210  39.9   \n",
              "291            5       99             54             28       83  34.0   \n",
              "13             1      115             70             30       96  34.6   \n",
              "602            6      162             62              0        0  24.3   \n",
              "\n",
              "     DiabetesPedigreeFunction  Age           Satisfaction  \\\n",
              "349                     244.0   41  Extremely unsatisfied   \n",
              "363                     381.0   25  Extremely unsatisfied   \n",
              "291                     499.0   30    Extremely satisfied   \n",
              "13                      529.0   32    Extremely satisfied   \n",
              "602                     178.0   50    Extremely satisfied   \n",
              "\n",
              "                     Job  Outcome  \n",
              "349  High School Teacher        0  \n",
              "363  High School Teacher        0  \n",
              "291      Human Resources        0  \n",
              "13       Human Resources        1  \n",
              "602    Financial Analyst        1  "
            ]
          },
          "execution_count": 9,
          "metadata": {},
          "output_type": "execute_result"
        }
      ],
      "source": [
        "# Tu código aquí debajo\n",
        "numericas=['Pregnancies','Glucose','BloodPressure','SkinThickness','Insulin','BMI','DiabetesPedigreeFunction','Age']\n",
        "\n",
        "# FUNCIÓN QUE DEVUELVE LOS NÚMEROS DE FILA EN LOS QUE LA VARIABLE EN CUESTIÓN ES OULIER\n",
        "def outliers(var):\n",
        "  q1=var.quantile(0.25)\n",
        "  q3=var.quantile(0.75)\n",
        "  riq=q3-q1\n",
        "  sup=q3+1.5*(riq)\n",
        "  inf=q1-1.5*(riq)\n",
        "  outl=(var>sup) | (var<inf)\n",
        "  return outl\n",
        "\n",
        "for i in df.loc[:,numericas]:\n",
        "  print(\"Cantida de oultliers de la variable\",i,\":\",outliers(df[i]).sum())\n",
        "# Eliminar outliers\n",
        "# Tu código\n",
        "for i in df.loc[:,numericas]:\n",
        "  df=df[~outliers(df[i])]\n",
        "df.sample(5)"
      ]
    },
    {
      "cell_type": "markdown",
      "metadata": {
        "id": "WzDdemyBn_Yb"
      },
      "source": [
        "# Preparamos los datos\n",
        "\n"
      ]
    },
    {
      "cell_type": "markdown",
      "metadata": {
        "id": "7z_VYt1u2jHJ"
      },
      "source": [
        "## Transformar variables ordinales en numéricas\n",
        "\n",
        "Como vemos tenemos la variable Satisfaction que es una variable ordinal y podemos suponer que el impacto que podrá tener sobre la variable a predecir (diabetes si/no) permanecerá constante al pasar de una categoría a la siguiente. por eso, la codificaremos como variable ordinal"
      ]
    },
    {
      "cell_type": "code",
      "execution_count": 10,
      "metadata": {
        "colab": {
          "base_uri": "https://localhost:8080/",
          "height": 383
        },
        "id": "YiQl7BDI3IZc",
        "outputId": "89c1f85d-adf9-4ccd-c156-8c72bf844699"
      },
      "outputs": [
        {
          "name": "stdout",
          "output_type": "stream",
          "text": [
            "(576, 11)\n"
          ]
        },
        {
          "data": {
            "text/html": [
              "<div>\n",
              "<style scoped>\n",
              "    .dataframe tbody tr th:only-of-type {\n",
              "        vertical-align: middle;\n",
              "    }\n",
              "\n",
              "    .dataframe tbody tr th {\n",
              "        vertical-align: top;\n",
              "    }\n",
              "\n",
              "    .dataframe thead th {\n",
              "        text-align: right;\n",
              "    }\n",
              "</style>\n",
              "<table border=\"1\" class=\"dataframe\">\n",
              "  <thead>\n",
              "    <tr style=\"text-align: right;\">\n",
              "      <th></th>\n",
              "      <th>Pregnancies</th>\n",
              "      <th>Glucose</th>\n",
              "      <th>BloodPressure</th>\n",
              "      <th>SkinThickness</th>\n",
              "      <th>Insulin</th>\n",
              "      <th>BMI</th>\n",
              "      <th>DiabetesPedigreeFunction</th>\n",
              "      <th>Age</th>\n",
              "      <th>Satisfaction</th>\n",
              "      <th>Job</th>\n",
              "      <th>Outcome</th>\n",
              "    </tr>\n",
              "  </thead>\n",
              "  <tbody>\n",
              "    <tr>\n",
              "      <th>220</th>\n",
              "      <td>2</td>\n",
              "      <td>100</td>\n",
              "      <td>70</td>\n",
              "      <td>52</td>\n",
              "      <td>57</td>\n",
              "      <td>40.5</td>\n",
              "      <td>677.0</td>\n",
              "      <td>25</td>\n",
              "      <td>3</td>\n",
              "      <td>High School Teacher</td>\n",
              "      <td>0</td>\n",
              "    </tr>\n",
              "    <tr>\n",
              "      <th>602</th>\n",
              "      <td>6</td>\n",
              "      <td>162</td>\n",
              "      <td>62</td>\n",
              "      <td>0</td>\n",
              "      <td>0</td>\n",
              "      <td>24.3</td>\n",
              "      <td>178.0</td>\n",
              "      <td>50</td>\n",
              "      <td>3</td>\n",
              "      <td>Financial Analyst</td>\n",
              "      <td>1</td>\n",
              "    </tr>\n",
              "    <tr>\n",
              "      <th>520</th>\n",
              "      <td>1</td>\n",
              "      <td>167</td>\n",
              "      <td>74</td>\n",
              "      <td>17</td>\n",
              "      <td>144</td>\n",
              "      <td>23.4</td>\n",
              "      <td>447.0</td>\n",
              "      <td>33</td>\n",
              "      <td>0</td>\n",
              "      <td>High School Teacher</td>\n",
              "      <td>1</td>\n",
              "    </tr>\n",
              "    <tr>\n",
              "      <th>118</th>\n",
              "      <td>9</td>\n",
              "      <td>57</td>\n",
              "      <td>80</td>\n",
              "      <td>37</td>\n",
              "      <td>0</td>\n",
              "      <td>32.8</td>\n",
              "      <td>96.0</td>\n",
              "      <td>41</td>\n",
              "      <td>2</td>\n",
              "      <td>Epidemiologist</td>\n",
              "      <td>0</td>\n",
              "    </tr>\n",
              "    <tr>\n",
              "      <th>204</th>\n",
              "      <td>0</td>\n",
              "      <td>86</td>\n",
              "      <td>68</td>\n",
              "      <td>32</td>\n",
              "      <td>0</td>\n",
              "      <td>35.8</td>\n",
              "      <td>238.0</td>\n",
              "      <td>25</td>\n",
              "      <td>3</td>\n",
              "      <td>High School Teacher</td>\n",
              "      <td>0</td>\n",
              "    </tr>\n",
              "  </tbody>\n",
              "</table>\n",
              "</div>"
            ],
            "text/plain": [
              "     Pregnancies  Glucose  BloodPressure  SkinThickness  Insulin   BMI  \\\n",
              "220            2      100             70             52       57  40.5   \n",
              "602            6      162             62              0        0  24.3   \n",
              "520            1      167             74             17      144  23.4   \n",
              "118            9       57             80             37        0  32.8   \n",
              "204            0       86             68             32        0  35.8   \n",
              "\n",
              "     DiabetesPedigreeFunction  Age  Satisfaction                  Job  Outcome  \n",
              "220                     677.0   25             3  High School Teacher        0  \n",
              "602                     178.0   50             3    Financial Analyst        1  \n",
              "520                     447.0   33             0  High School Teacher        1  \n",
              "118                      96.0   41             2       Epidemiologist        0  \n",
              "204                     238.0   25             3  High School Teacher        0  "
            ]
          },
          "execution_count": 10,
          "metadata": {},
          "output_type": "execute_result"
        }
      ],
      "source": [
        "# Creamos el objeto que realizará la transformación dándole el orden en una lista con doble corchete\n",
        "enc=OrdinalEncoder(categories=[['Extremely unsatisfied','Unsatisfied','Satisfied','Extremely satisfied']],dtype='int')\n",
        "# Particularizamos el codificador en nuestros datos\n",
        "# Tu código\n",
        "enc.fit(df[['Satisfaction']])\n",
        "# Aplicamos el codificador ya particularizado a nuestros datos y lo guardamos machacando la misma variable\n",
        "# Tu código\n",
        "df['Satisfaction']=enc.transform(df[['Satisfaction']])\n",
        "print(df.shape)\n",
        "df.sample(5)\n"
      ]
    },
    {
      "cell_type": "markdown",
      "metadata": {
        "id": "ri15I4Bo4Zl9"
      },
      "source": [
        "## Transformar variables nominales en numéricas\n",
        "\n",
        "Como vemos tenemos la variable Job que es una variable nominal (sin orden) y debenmos codificarla mediante el One-Hot encoder"
      ]
    },
    {
      "cell_type": "code",
      "execution_count": 11,
      "metadata": {
        "colab": {
          "base_uri": "https://localhost:8080/",
          "height": 279
        },
        "id": "q5h9DNSEeQ2w",
        "outputId": "65cd4ada-4d8e-4c5a-9145-672aa03768f7"
      },
      "outputs": [
        {
          "name": "stdout",
          "output_type": "stream",
          "text": [
            "(576, 20)\n"
          ]
        },
        {
          "data": {
            "text/html": [
              "<div>\n",
              "<style scoped>\n",
              "    .dataframe tbody tr th:only-of-type {\n",
              "        vertical-align: middle;\n",
              "    }\n",
              "\n",
              "    .dataframe tbody tr th {\n",
              "        vertical-align: top;\n",
              "    }\n",
              "\n",
              "    .dataframe thead th {\n",
              "        text-align: right;\n",
              "    }\n",
              "</style>\n",
              "<table border=\"1\" class=\"dataframe\">\n",
              "  <thead>\n",
              "    <tr style=\"text-align: right;\">\n",
              "      <th></th>\n",
              "      <th>Pregnancies</th>\n",
              "      <th>Glucose</th>\n",
              "      <th>BloodPressure</th>\n",
              "      <th>SkinThickness</th>\n",
              "      <th>Insulin</th>\n",
              "      <th>BMI</th>\n",
              "      <th>DiabetesPedigreeFunction</th>\n",
              "      <th>Age</th>\n",
              "      <th>Satisfaction</th>\n",
              "      <th>Outcome</th>\n",
              "      <th>Job_Database Administrator</th>\n",
              "      <th>Job_Epidemiologist</th>\n",
              "      <th>Job_Financial Analyst</th>\n",
              "      <th>Job_Firefighter</th>\n",
              "      <th>Job_High School Teacher</th>\n",
              "      <th>Job_Human Resources</th>\n",
              "      <th>Job_Legislator</th>\n",
              "      <th>Job_Market Research Analyst</th>\n",
              "      <th>Job_Physicians</th>\n",
              "      <th>Job_Statistician</th>\n",
              "    </tr>\n",
              "  </thead>\n",
              "  <tbody>\n",
              "    <tr>\n",
              "      <th>248</th>\n",
              "      <td>1</td>\n",
              "      <td>157</td>\n",
              "      <td>72</td>\n",
              "      <td>21</td>\n",
              "      <td>168</td>\n",
              "      <td>25.6</td>\n",
              "      <td>123.00</td>\n",
              "      <td>24</td>\n",
              "      <td>0</td>\n",
              "      <td>0</td>\n",
              "      <td>0.0</td>\n",
              "      <td>0.0</td>\n",
              "      <td>0.0</td>\n",
              "      <td>0.0</td>\n",
              "      <td>0.0</td>\n",
              "      <td>0.0</td>\n",
              "      <td>0.0</td>\n",
              "      <td>1.0</td>\n",
              "      <td>0.0</td>\n",
              "      <td>0.0</td>\n",
              "    </tr>\n",
              "    <tr>\n",
              "      <th>417</th>\n",
              "      <td>1</td>\n",
              "      <td>84</td>\n",
              "      <td>64</td>\n",
              "      <td>23</td>\n",
              "      <td>115</td>\n",
              "      <td>36.9</td>\n",
              "      <td>471.00</td>\n",
              "      <td>28</td>\n",
              "      <td>3</td>\n",
              "      <td>0</td>\n",
              "      <td>0.0</td>\n",
              "      <td>0.0</td>\n",
              "      <td>0.0</td>\n",
              "      <td>0.0</td>\n",
              "      <td>0.0</td>\n",
              "      <td>0.0</td>\n",
              "      <td>1.0</td>\n",
              "      <td>0.0</td>\n",
              "      <td>0.0</td>\n",
              "      <td>0.0</td>\n",
              "    </tr>\n",
              "    <tr>\n",
              "      <th>30</th>\n",
              "      <td>4</td>\n",
              "      <td>111</td>\n",
              "      <td>72</td>\n",
              "      <td>47</td>\n",
              "      <td>207</td>\n",
              "      <td>37.1</td>\n",
              "      <td>0.42</td>\n",
              "      <td>56</td>\n",
              "      <td>2</td>\n",
              "      <td>1</td>\n",
              "      <td>0.0</td>\n",
              "      <td>0.0</td>\n",
              "      <td>0.0</td>\n",
              "      <td>0.0</td>\n",
              "      <td>0.0</td>\n",
              "      <td>0.0</td>\n",
              "      <td>1.0</td>\n",
              "      <td>0.0</td>\n",
              "      <td>0.0</td>\n",
              "      <td>0.0</td>\n",
              "    </tr>\n",
              "    <tr>\n",
              "      <th>559</th>\n",
              "      <td>9</td>\n",
              "      <td>140</td>\n",
              "      <td>94</td>\n",
              "      <td>0</td>\n",
              "      <td>0</td>\n",
              "      <td>32.7</td>\n",
              "      <td>734.00</td>\n",
              "      <td>45</td>\n",
              "      <td>2</td>\n",
              "      <td>1</td>\n",
              "      <td>0.0</td>\n",
              "      <td>0.0</td>\n",
              "      <td>1.0</td>\n",
              "      <td>0.0</td>\n",
              "      <td>0.0</td>\n",
              "      <td>0.0</td>\n",
              "      <td>0.0</td>\n",
              "      <td>0.0</td>\n",
              "      <td>0.0</td>\n",
              "      <td>0.0</td>\n",
              "    </tr>\n",
              "    <tr>\n",
              "      <th>465</th>\n",
              "      <td>2</td>\n",
              "      <td>112</td>\n",
              "      <td>86</td>\n",
              "      <td>42</td>\n",
              "      <td>160</td>\n",
              "      <td>38.4</td>\n",
              "      <td>246.00</td>\n",
              "      <td>28</td>\n",
              "      <td>1</td>\n",
              "      <td>0</td>\n",
              "      <td>0.0</td>\n",
              "      <td>0.0</td>\n",
              "      <td>0.0</td>\n",
              "      <td>0.0</td>\n",
              "      <td>1.0</td>\n",
              "      <td>0.0</td>\n",
              "      <td>0.0</td>\n",
              "      <td>0.0</td>\n",
              "      <td>0.0</td>\n",
              "      <td>0.0</td>\n",
              "    </tr>\n",
              "  </tbody>\n",
              "</table>\n",
              "</div>"
            ],
            "text/plain": [
              "     Pregnancies  Glucose  BloodPressure  SkinThickness  Insulin   BMI  \\\n",
              "248            1      157             72             21      168  25.6   \n",
              "417            1       84             64             23      115  36.9   \n",
              "30             4      111             72             47      207  37.1   \n",
              "559            9      140             94              0        0  32.7   \n",
              "465            2      112             86             42      160  38.4   \n",
              "\n",
              "     DiabetesPedigreeFunction  Age  Satisfaction  Outcome  \\\n",
              "248                    123.00   24             0        0   \n",
              "417                    471.00   28             3        0   \n",
              "30                       0.42   56             2        1   \n",
              "559                    734.00   45             2        1   \n",
              "465                    246.00   28             1        0   \n",
              "\n",
              "     Job_Database Administrator  Job_Epidemiologist  Job_Financial Analyst  \\\n",
              "248                         0.0                 0.0                    0.0   \n",
              "417                         0.0                 0.0                    0.0   \n",
              "30                          0.0                 0.0                    0.0   \n",
              "559                         0.0                 0.0                    1.0   \n",
              "465                         0.0                 0.0                    0.0   \n",
              "\n",
              "     Job_Firefighter  Job_High School Teacher  Job_Human Resources  \\\n",
              "248              0.0                      0.0                  0.0   \n",
              "417              0.0                      0.0                  0.0   \n",
              "30               0.0                      0.0                  0.0   \n",
              "559              0.0                      0.0                  0.0   \n",
              "465              0.0                      1.0                  0.0   \n",
              "\n",
              "     Job_Legislator  Job_Market Research Analyst  Job_Physicians  \\\n",
              "248             0.0                          1.0             0.0   \n",
              "417             1.0                          0.0             0.0   \n",
              "30              1.0                          0.0             0.0   \n",
              "559             0.0                          0.0             0.0   \n",
              "465             0.0                          0.0             0.0   \n",
              "\n",
              "     Job_Statistician  \n",
              "248               0.0  \n",
              "417               0.0  \n",
              "30                0.0  \n",
              "559               0.0  \n",
              "465               0.0  "
            ]
          },
          "execution_count": 11,
          "metadata": {},
          "output_type": "execute_result"
        }
      ],
      "source": [
        "# Tu código\n",
        "# Creamos el objeto que realizará la transformación\n",
        "\n",
        "#Instancio el OneHot\n",
        "onehot=OneHotEncoder()\n",
        "\n",
        "# Aplico el OneHot a la columna job y guardo el resultao en a\n",
        "a=onehot.fit_transform(df[['Job']])\n",
        "\n",
        "# Convierto el a en data frame y lo llamo encoded_df\n",
        "encoded_df = pd.DataFrame(a.toarray(), columns=onehot.get_feature_names_out(['Job']))\n",
        "\n",
        "# Reseteo el índice de los dos data frames antes de concatenarlos\n",
        "df.reset_index(drop=True, inplace=True)\n",
        "encoded_df.reset_index(drop=True, inplace=True)\n",
        "\n",
        "# concateno los dos data frames y los guardo machacando el df\n",
        "df=pd.concat([df,encoded_df],axis=1)\n",
        "\n",
        "# Elimino la columna Job original antigua, la categórica\n",
        "df.drop(columns='Job',inplace=True)\n",
        "\n",
        "# Muestro tamaño yu sample del data frame df transformado\n",
        "print(df.shape)\n",
        "df.sample(5)\n",
        "\n"
      ]
    },
    {
      "cell_type": "markdown",
      "metadata": {
        "id": "N_pSzgROQ6kO"
      },
      "source": [
        "## 0. Separar la variable a predecir y las predictoras"
      ]
    },
    {
      "cell_type": "code",
      "execution_count": 12,
      "metadata": {
        "id": "C0NHPPAAVaHT"
      },
      "outputs": [],
      "source": [
        "X=df.drop(columns=['Outcome'],inplace=False)\n",
        "y=df['Outcome']"
      ]
    },
    {
      "cell_type": "markdown",
      "metadata": {
        "id": "tA0UrXKgVbDH"
      },
      "source": [
        "## 1. Split. Separar los datos en conjunto de entrenamiento (train) y conjunto de evaluación o test(test)"
      ]
    },
    {
      "cell_type": "code",
      "execution_count": 9,
      "metadata": {
        "id": "AVzJWAXIhxoC"
      },
      "outputs": [],
      "source": [
        "# Tu código aquí debajo\n",
        "from sklearn.model_selection import train_test_split\n",
        "X_train, X_test, y_train, y_test = train_test_split(X, y, test_size = 0.25, random_state = 0)"
      ]
    },
    {
      "cell_type": "markdown",
      "metadata": {
        "id": "YQ1xMWy76B1c"
      },
      "source": [
        "## 2. Estandarización controlada.\n",
        "\n",
        "* Fit en el train\n",
        "* Transform en el train\n",
        "* Transform en el test"
      ]
    },
    {
      "cell_type": "code",
      "execution_count": 10,
      "metadata": {
        "id": "Ewg_wFVS6Yg6"
      },
      "outputs": [],
      "source": [
        "# Imprime la dimensión de los datos que vayas creando\n",
        "# Tu código aquí debajo\n",
        "estandarizador = StandardScaler()\n",
        "estandarizador.fit(X_train)\n",
        "X_train_std=estandarizador.transform(X_train)\n",
        "X_test_std=estandarizador.transform(X_test)"
      ]
    },
    {
      "cell_type": "markdown",
      "metadata": {
        "id": "X_Z2GFhsbz_u"
      },
      "source": [
        "# REGRESIÓN LOGÍSTICA. Usamos la estandarización\n",
        "\n"
      ]
    },
    {
      "cell_type": "code",
      "execution_count": 16,
      "metadata": {
        "id": "zru2fNx5b90Y"
      },
      "outputs": [],
      "source": [
        "LR = LogisticRegression()\n",
        "LR.fit(X_train_std,y_train)\n",
        "predictions = LR.predict(X_test_std)"
      ]
    },
    {
      "cell_type": "code",
      "execution_count": 20,
      "metadata": {
        "colab": {
          "base_uri": "https://localhost:8080/"
        },
        "id": "1Pf9dY9l-rAs",
        "outputId": "26a66b84-5710-4ab4-fbdf-427d7db57251"
      },
      "outputs": [
        {
          "data": {
            "text/plain": [
              "[0.8055555555555556,\n",
              " 0.5925925925925926,\n",
              " 0.48484848484848486,\n",
              " 0.5333333333333333]"
            ]
          },
          "execution_count": 20,
          "metadata": {},
          "output_type": "execute_result"
        }
      ],
      "source": [
        "metricas_LR=[]\n",
        "metricas_LR.append(accuracy_score(y_test, predictions))\n",
        "metricas_LR.append(precision_score(y_test, predictions))\n",
        "metricas_LR.append(recall_score(y_test, predictions))\n",
        "metricas_LR.append(f1_score(y_test, predictions))\n",
        "metricas_LR"
      ]
    },
    {
      "cell_type": "markdown",
      "metadata": {
        "id": "sCNktu8nBLrE"
      },
      "source": [
        "# DECISION TREE. NO Usamos la estandarización"
      ]
    },
    {
      "cell_type": "code",
      "execution_count": 22,
      "metadata": {
        "colab": {
          "base_uri": "https://localhost:8080/"
        },
        "id": "7So2gMJMBWjU",
        "outputId": "cbde8b13-3a5a-4a7d-c844-c64b43e354e9"
      },
      "outputs": [
        {
          "data": {
            "text/plain": [
              "[0.7847222222222222, 0.53125, 0.5151515151515151, 0.5230769230769231]"
            ]
          },
          "execution_count": 22,
          "metadata": {},
          "output_type": "execute_result"
        }
      ],
      "source": [
        "DT=DecisionTreeClassifier()\n",
        "DT.fit(X_train,y_train)\n",
        "predictions = DT.predict(X_test)\n",
        "metricas_DT=[]\n",
        "metricas_DT.append(accuracy_score(y_test, predictions))\n",
        "metricas_DT.append(precision_score(y_test, predictions))\n",
        "metricas_DT.append(recall_score(y_test, predictions))\n",
        "metricas_DT.append(f1_score(y_test, predictions))\n",
        "metricas_DT\n",
        "\n"
      ]
    },
    {
      "cell_type": "markdown",
      "metadata": {
        "id": "8vZfbHJoImdT"
      },
      "source": [
        "# RANDOM FOREST. Usamos la estandarización"
      ]
    },
    {
      "cell_type": "code",
      "execution_count": 40,
      "metadata": {
        "colab": {
          "base_uri": "https://localhost:8080/"
        },
        "id": "cg0j6H0jIqvD",
        "outputId": "0ac09c31-7190-40a1-ef18-d0275ec6cebc"
      },
      "outputs": [
        {
          "data": {
            "text/plain": [
              "[0.8055555555555556, 0.6086956521739131, 0.42424242424242425, 0.5]"
            ]
          },
          "execution_count": 40,
          "metadata": {},
          "output_type": "execute_result"
        }
      ],
      "source": [
        "RF=RandomForestClassifier()\n",
        "RF.fit(X_train_std,y_train)\n",
        "predictions = RF.predict(X_test_std)\n",
        "metricas_RF=[]\n",
        "metricas_RF.append(accuracy_score(y_test, predictions))\n",
        "metricas_RF.append(precision_score(y_test, predictions))\n",
        "metricas_RF.append(recall_score(y_test, predictions))\n",
        "metricas_RF.append(f1_score(y_test, predictions))\n",
        "metricas_RF"
      ]
    },
    {
      "cell_type": "code",
      "execution_count": 41,
      "metadata": {
        "colab": {
          "base_uri": "https://localhost:8080/",
          "height": 175
        },
        "id": "BNXc4KunDf3D",
        "outputId": "3c4ebe83-e283-43ab-d8cb-294f66039feb"
      },
      "outputs": [
        {
          "data": {
            "text/html": [
              "\n",
              "  <div id=\"df-03c1708c-34a6-46d8-9d39-6f0814bd1b4f\" class=\"colab-df-container\">\n",
              "    <div>\n",
              "<style scoped>\n",
              "    .dataframe tbody tr th:only-of-type {\n",
              "        vertical-align: middle;\n",
              "    }\n",
              "\n",
              "    .dataframe tbody tr th {\n",
              "        vertical-align: top;\n",
              "    }\n",
              "\n",
              "    .dataframe thead th {\n",
              "        text-align: right;\n",
              "    }\n",
              "</style>\n",
              "<table border=\"1\" class=\"dataframe\">\n",
              "  <thead>\n",
              "    <tr style=\"text-align: right;\">\n",
              "      <th></th>\n",
              "      <th>Logistic Regression</th>\n",
              "      <th>DecisionTree</th>\n",
              "      <th>RandomForest</th>\n",
              "    </tr>\n",
              "  </thead>\n",
              "  <tbody>\n",
              "    <tr>\n",
              "      <th>Acuracy</th>\n",
              "      <td>0.805556</td>\n",
              "      <td>0.784722</td>\n",
              "      <td>0.805556</td>\n",
              "    </tr>\n",
              "    <tr>\n",
              "      <th>Precision</th>\n",
              "      <td>0.592593</td>\n",
              "      <td>0.531250</td>\n",
              "      <td>0.608696</td>\n",
              "    </tr>\n",
              "    <tr>\n",
              "      <th>Recall</th>\n",
              "      <td>0.484848</td>\n",
              "      <td>0.515152</td>\n",
              "      <td>0.424242</td>\n",
              "    </tr>\n",
              "    <tr>\n",
              "      <th>F1</th>\n",
              "      <td>0.533333</td>\n",
              "      <td>0.523077</td>\n",
              "      <td>0.500000</td>\n",
              "    </tr>\n",
              "  </tbody>\n",
              "</table>\n",
              "</div>\n",
              "    <div class=\"colab-df-buttons\">\n",
              "\n",
              "  <div class=\"colab-df-container\">\n",
              "    <button class=\"colab-df-convert\" onclick=\"convertToInteractive('df-03c1708c-34a6-46d8-9d39-6f0814bd1b4f')\"\n",
              "            title=\"Convert this dataframe to an interactive table.\"\n",
              "            style=\"display:none;\">\n",
              "\n",
              "  <svg xmlns=\"http://www.w3.org/2000/svg\" height=\"24px\" viewBox=\"0 -960 960 960\">\n",
              "    <path d=\"M120-120v-720h720v720H120Zm60-500h600v-160H180v160Zm220 220h160v-160H400v160Zm0 220h160v-160H400v160ZM180-400h160v-160H180v160Zm440 0h160v-160H620v160ZM180-180h160v-160H180v160Zm440 0h160v-160H620v160Z\"/>\n",
              "  </svg>\n",
              "    </button>\n",
              "\n",
              "  <style>\n",
              "    .colab-df-container {\n",
              "      display:flex;\n",
              "      gap: 12px;\n",
              "    }\n",
              "\n",
              "    .colab-df-convert {\n",
              "      background-color: #E8F0FE;\n",
              "      border: none;\n",
              "      border-radius: 50%;\n",
              "      cursor: pointer;\n",
              "      display: none;\n",
              "      fill: #1967D2;\n",
              "      height: 32px;\n",
              "      padding: 0 0 0 0;\n",
              "      width: 32px;\n",
              "    }\n",
              "\n",
              "    .colab-df-convert:hover {\n",
              "      background-color: #E2EBFA;\n",
              "      box-shadow: 0px 1px 2px rgba(60, 64, 67, 0.3), 0px 1px 3px 1px rgba(60, 64, 67, 0.15);\n",
              "      fill: #174EA6;\n",
              "    }\n",
              "\n",
              "    .colab-df-buttons div {\n",
              "      margin-bottom: 4px;\n",
              "    }\n",
              "\n",
              "    [theme=dark] .colab-df-convert {\n",
              "      background-color: #3B4455;\n",
              "      fill: #D2E3FC;\n",
              "    }\n",
              "\n",
              "    [theme=dark] .colab-df-convert:hover {\n",
              "      background-color: #434B5C;\n",
              "      box-shadow: 0px 1px 3px 1px rgba(0, 0, 0, 0.15);\n",
              "      filter: drop-shadow(0px 1px 2px rgba(0, 0, 0, 0.3));\n",
              "      fill: #FFFFFF;\n",
              "    }\n",
              "  </style>\n",
              "\n",
              "    <script>\n",
              "      const buttonEl =\n",
              "        document.querySelector('#df-03c1708c-34a6-46d8-9d39-6f0814bd1b4f button.colab-df-convert');\n",
              "      buttonEl.style.display =\n",
              "        google.colab.kernel.accessAllowed ? 'block' : 'none';\n",
              "\n",
              "      async function convertToInteractive(key) {\n",
              "        const element = document.querySelector('#df-03c1708c-34a6-46d8-9d39-6f0814bd1b4f');\n",
              "        const dataTable =\n",
              "          await google.colab.kernel.invokeFunction('convertToInteractive',\n",
              "                                                    [key], {});\n",
              "        if (!dataTable) return;\n",
              "\n",
              "        const docLinkHtml = 'Like what you see? Visit the ' +\n",
              "          '<a target=\"_blank\" href=https://colab.research.google.com/notebooks/data_table.ipynb>data table notebook</a>'\n",
              "          + ' to learn more about interactive tables.';\n",
              "        element.innerHTML = '';\n",
              "        dataTable['output_type'] = 'display_data';\n",
              "        await google.colab.output.renderOutput(dataTable, element);\n",
              "        const docLink = document.createElement('div');\n",
              "        docLink.innerHTML = docLinkHtml;\n",
              "        element.appendChild(docLink);\n",
              "      }\n",
              "    </script>\n",
              "  </div>\n",
              "\n",
              "\n",
              "<div id=\"df-bcc93c76-8920-422e-8fc9-15cc5797c2db\">\n",
              "  <button class=\"colab-df-quickchart\" onclick=\"quickchart('df-bcc93c76-8920-422e-8fc9-15cc5797c2db')\"\n",
              "            title=\"Suggest charts\"\n",
              "            style=\"display:none;\">\n",
              "\n",
              "<svg xmlns=\"http://www.w3.org/2000/svg\" height=\"24px\"viewBox=\"0 0 24 24\"\n",
              "     width=\"24px\">\n",
              "    <g>\n",
              "        <path d=\"M19 3H5c-1.1 0-2 .9-2 2v14c0 1.1.9 2 2 2h14c1.1 0 2-.9 2-2V5c0-1.1-.9-2-2-2zM9 17H7v-7h2v7zm4 0h-2V7h2v10zm4 0h-2v-4h2v4z\"/>\n",
              "    </g>\n",
              "</svg>\n",
              "  </button>\n",
              "\n",
              "<style>\n",
              "  .colab-df-quickchart {\n",
              "      --bg-color: #E8F0FE;\n",
              "      --fill-color: #1967D2;\n",
              "      --hover-bg-color: #E2EBFA;\n",
              "      --hover-fill-color: #174EA6;\n",
              "      --disabled-fill-color: #AAA;\n",
              "      --disabled-bg-color: #DDD;\n",
              "  }\n",
              "\n",
              "  [theme=dark] .colab-df-quickchart {\n",
              "      --bg-color: #3B4455;\n",
              "      --fill-color: #D2E3FC;\n",
              "      --hover-bg-color: #434B5C;\n",
              "      --hover-fill-color: #FFFFFF;\n",
              "      --disabled-bg-color: #3B4455;\n",
              "      --disabled-fill-color: #666;\n",
              "  }\n",
              "\n",
              "  .colab-df-quickchart {\n",
              "    background-color: var(--bg-color);\n",
              "    border: none;\n",
              "    border-radius: 50%;\n",
              "    cursor: pointer;\n",
              "    display: none;\n",
              "    fill: var(--fill-color);\n",
              "    height: 32px;\n",
              "    padding: 0;\n",
              "    width: 32px;\n",
              "  }\n",
              "\n",
              "  .colab-df-quickchart:hover {\n",
              "    background-color: var(--hover-bg-color);\n",
              "    box-shadow: 0 1px 2px rgba(60, 64, 67, 0.3), 0 1px 3px 1px rgba(60, 64, 67, 0.15);\n",
              "    fill: var(--button-hover-fill-color);\n",
              "  }\n",
              "\n",
              "  .colab-df-quickchart-complete:disabled,\n",
              "  .colab-df-quickchart-complete:disabled:hover {\n",
              "    background-color: var(--disabled-bg-color);\n",
              "    fill: var(--disabled-fill-color);\n",
              "    box-shadow: none;\n",
              "  }\n",
              "\n",
              "  .colab-df-spinner {\n",
              "    border: 2px solid var(--fill-color);\n",
              "    border-color: transparent;\n",
              "    border-bottom-color: var(--fill-color);\n",
              "    animation:\n",
              "      spin 1s steps(1) infinite;\n",
              "  }\n",
              "\n",
              "  @keyframes spin {\n",
              "    0% {\n",
              "      border-color: transparent;\n",
              "      border-bottom-color: var(--fill-color);\n",
              "      border-left-color: var(--fill-color);\n",
              "    }\n",
              "    20% {\n",
              "      border-color: transparent;\n",
              "      border-left-color: var(--fill-color);\n",
              "      border-top-color: var(--fill-color);\n",
              "    }\n",
              "    30% {\n",
              "      border-color: transparent;\n",
              "      border-left-color: var(--fill-color);\n",
              "      border-top-color: var(--fill-color);\n",
              "      border-right-color: var(--fill-color);\n",
              "    }\n",
              "    40% {\n",
              "      border-color: transparent;\n",
              "      border-right-color: var(--fill-color);\n",
              "      border-top-color: var(--fill-color);\n",
              "    }\n",
              "    60% {\n",
              "      border-color: transparent;\n",
              "      border-right-color: var(--fill-color);\n",
              "    }\n",
              "    80% {\n",
              "      border-color: transparent;\n",
              "      border-right-color: var(--fill-color);\n",
              "      border-bottom-color: var(--fill-color);\n",
              "    }\n",
              "    90% {\n",
              "      border-color: transparent;\n",
              "      border-bottom-color: var(--fill-color);\n",
              "    }\n",
              "  }\n",
              "</style>\n",
              "\n",
              "  <script>\n",
              "    async function quickchart(key) {\n",
              "      const quickchartButtonEl =\n",
              "        document.querySelector('#' + key + ' button');\n",
              "      quickchartButtonEl.disabled = true;  // To prevent multiple clicks.\n",
              "      quickchartButtonEl.classList.add('colab-df-spinner');\n",
              "      try {\n",
              "        const charts = await google.colab.kernel.invokeFunction(\n",
              "            'suggestCharts', [key], {});\n",
              "      } catch (error) {\n",
              "        console.error('Error during call to suggestCharts:', error);\n",
              "      }\n",
              "      quickchartButtonEl.classList.remove('colab-df-spinner');\n",
              "      quickchartButtonEl.classList.add('colab-df-quickchart-complete');\n",
              "    }\n",
              "    (() => {\n",
              "      let quickchartButtonEl =\n",
              "        document.querySelector('#df-bcc93c76-8920-422e-8fc9-15cc5797c2db button');\n",
              "      quickchartButtonEl.style.display =\n",
              "        google.colab.kernel.accessAllowed ? 'block' : 'none';\n",
              "    })();\n",
              "  </script>\n",
              "</div>\n",
              "    </div>\n",
              "  </div>\n"
            ],
            "text/plain": [
              "           Logistic Regression  DecisionTree  RandomForest\n",
              "Acuracy               0.805556      0.784722      0.805556\n",
              "Precision             0.592593      0.531250      0.608696\n",
              "Recall                0.484848      0.515152      0.424242\n",
              "F1                    0.533333      0.523077      0.500000"
            ]
          },
          "execution_count": 41,
          "metadata": {},
          "output_type": "execute_result"
        }
      ],
      "source": [
        "dict={\"Logistic Regression\":metricas_LR, \"DecisionTree\":metricas_DT, \"RandomForest\":metricas_RF}\n",
        "Resultados=pd.DataFrame(dict,index=[\"Acuracy\",\"Precision\",\"Recall\",\"F1\"])\n",
        "Resultados"
      ]
    }
  ],
  "metadata": {
    "colab": {
      "machine_shape": "hm",
      "provenance": []
    },
    "kernelspec": {
      "display_name": "ML_IMPELIA",
      "language": "python",
      "name": "python3"
    },
    "language_info": {
      "codemirror_mode": {
        "name": "ipython",
        "version": 3
      },
      "file_extension": ".py",
      "mimetype": "text/x-python",
      "name": "python",
      "nbconvert_exporter": "python",
      "pygments_lexer": "ipython3",
      "version": "3.10.13"
    }
  },
  "nbformat": 4,
  "nbformat_minor": 0
}
