{
  "cells": [
    {
      "cell_type": "markdown",
      "metadata": {
        "id": "0MRC0e0KhQ0S"
      },
      "source": [
        "# Clase Supervised Classification ML"
      ]
    },
    {
      "cell_type": "markdown",
      "metadata": {
        "id": "LWd1UlMnhT2s"
      },
      "source": [
        "## Importar librerías"
      ]
    },
    {
      "cell_type": "code",
      "execution_count": 52,
      "metadata": {
        "id": "YvGPUQaHhXfL"
      },
      "outputs": [],
      "source": [
        "# Recuerda importar:\n",
        "# 1. Las librerías típicas como pandas\n",
        "# 2. Las que necesites para las transformaciones\n",
        "# 3. Las que necesites para los modelos\n",
        "# 4. Las que necesites para guardar y recuperar modelos\n",
        "\n",
        "# Ves añadiéndolas conforme las necesites\n",
        "\n",
        "# Tu código aquí debajo\n",
        "import pandas as pd\n",
        "import sklearn as sk\n",
        "from joblib import dump \n",
        "from joblib import load"
      ]
    },
    {
      "cell_type": "markdown",
      "metadata": {
        "id": "K1VMqkGvhc3-"
      },
      "source": [
        "## Importar los datos"
      ]
    },
    {
      "cell_type": "code",
      "execution_count": 53,
      "metadata": {
        "id": "M52QDmyzhh9s"
      },
      "outputs": [],
      "source": [
        "# Tu código aquí debajo\n",
        "df = pd.read_excel('diabetes_clean.xlsx')\n",
        "df2 = df.copy()"
      ]
    },
    {
      "cell_type": "markdown",
      "metadata": {
        "id": "iroiFw6tWlvk"
      },
      "source": [
        "## Detectar y tratar duplicados"
      ]
    },
    {
      "cell_type": "code",
      "execution_count": 54,
      "metadata": {
        "id": "FnP5kVoFWqk6"
      },
      "outputs": [
        {
          "data": {
            "text/plain": [
              "0"
            ]
          },
          "execution_count": 54,
          "metadata": {},
          "output_type": "execute_result"
        }
      ],
      "source": [
        "# Tu código aquí debajo\n",
        "\n",
        "df.duplicated().sum()"
      ]
    },
    {
      "cell_type": "markdown",
      "metadata": {
        "id": "TJ8Ez2gWW2AP"
      },
      "source": [
        "## Detectar y tratar valores nulos"
      ]
    },
    {
      "cell_type": "code",
      "execution_count": 55,
      "metadata": {
        "id": "am5scFI1W7nZ"
      },
      "outputs": [
        {
          "data": {
            "text/plain": [
              "Pregnancies                 0\n",
              "Glucose                     0\n",
              "BloodPressure               0\n",
              "SkinThickness               0\n",
              "Insulin                     0\n",
              "BMI                         0\n",
              "DiabetesPedigreeFunction    0\n",
              "Age                         0\n",
              "Satisfaction                0\n",
              "Job                         0\n",
              "Outcome                     0\n",
              "dtype: int64"
            ]
          },
          "execution_count": 55,
          "metadata": {},
          "output_type": "execute_result"
        }
      ],
      "source": [
        "# Tu código aquí debajo\n",
        "\n",
        "df.isnull().sum()"
      ]
    },
    {
      "cell_type": "markdown",
      "metadata": {
        "id": "tEk7IFdiXXcG"
      },
      "source": [
        "## Detectar y tratar valores atípicos (ouliers)"
      ]
    },
    {
      "cell_type": "code",
      "execution_count": 56,
      "metadata": {
        "id": "nU3m_EyCXcrQ"
      },
      "outputs": [],
      "source": [
        "# Tu código aquí debajo\n",
        "def outliers(d,v):\n",
        "    import numpy as np\n",
        "    q3=np.quantile(d[v],0.75)\n",
        "    q1=np.quantile(d[v],0.25)\n",
        "    ric=q3-q1\n",
        "    df_outliers=d.loc[(d[v]>=q3+1.5*ric) | (d[v]<=q1-1.5*ric), : ]\n",
        "    df_limpio= d.loc[(d[v]<q3+1.5*ric) & (d[v]>q1-1.5*ric), : ]\n",
        "    return df_outliers,df_limpio"
      ]
    },
    {
      "cell_type": "code",
      "execution_count": 57,
      "metadata": {},
      "outputs": [],
      "source": [
        "num = [\"Pregnancies\",\"Glucose\",\"BloodPressure\",\"SkinThickness\",\"Insulin\",\"BMI\",\"DiabetesPedigreeFunction\",\"Age\"]\n",
        "for i in num:\n",
        "    a,b=outliers(df2,i)\n",
        "    df2 = b"
      ]
    },
    {
      "cell_type": "code",
      "execution_count": 58,
      "metadata": {},
      "outputs": [
        {
          "data": {
            "text/html": [
              "<div>\n",
              "<style scoped>\n",
              "    .dataframe tbody tr th:only-of-type {\n",
              "        vertical-align: middle;\n",
              "    }\n",
              "\n",
              "    .dataframe tbody tr th {\n",
              "        vertical-align: top;\n",
              "    }\n",
              "\n",
              "    .dataframe thead th {\n",
              "        text-align: right;\n",
              "    }\n",
              "</style>\n",
              "<table border=\"1\" class=\"dataframe\">\n",
              "  <thead>\n",
              "    <tr style=\"text-align: right;\">\n",
              "      <th></th>\n",
              "      <th>Pregnancies</th>\n",
              "      <th>Glucose</th>\n",
              "      <th>BloodPressure</th>\n",
              "      <th>SkinThickness</th>\n",
              "      <th>Insulin</th>\n",
              "      <th>BMI</th>\n",
              "      <th>DiabetesPedigreeFunction</th>\n",
              "      <th>Age</th>\n",
              "      <th>Satisfaction</th>\n",
              "      <th>Job</th>\n",
              "      <th>Outcome</th>\n",
              "    </tr>\n",
              "  </thead>\n",
              "  <tbody>\n",
              "    <tr>\n",
              "      <th>34</th>\n",
              "      <td>7</td>\n",
              "      <td>106</td>\n",
              "      <td>92</td>\n",
              "      <td>18</td>\n",
              "      <td>0</td>\n",
              "      <td>22.7</td>\n",
              "      <td>235.0</td>\n",
              "      <td>48</td>\n",
              "      <td>Extremely satisfied</td>\n",
              "      <td>Legislator</td>\n",
              "      <td>0</td>\n",
              "    </tr>\n",
              "    <tr>\n",
              "      <th>235</th>\n",
              "      <td>0</td>\n",
              "      <td>107</td>\n",
              "      <td>62</td>\n",
              "      <td>30</td>\n",
              "      <td>74</td>\n",
              "      <td>36.6</td>\n",
              "      <td>757.0</td>\n",
              "      <td>25</td>\n",
              "      <td>Extremely satisfied</td>\n",
              "      <td>High School Teacher</td>\n",
              "      <td>1</td>\n",
              "    </tr>\n",
              "    <tr>\n",
              "      <th>132</th>\n",
              "      <td>2</td>\n",
              "      <td>100</td>\n",
              "      <td>64</td>\n",
              "      <td>23</td>\n",
              "      <td>0</td>\n",
              "      <td>29.7</td>\n",
              "      <td>368.0</td>\n",
              "      <td>21</td>\n",
              "      <td>Extremely satisfied</td>\n",
              "      <td>Market Research Analyst</td>\n",
              "      <td>0</td>\n",
              "    </tr>\n",
              "    <tr>\n",
              "      <th>19</th>\n",
              "      <td>7</td>\n",
              "      <td>147</td>\n",
              "      <td>76</td>\n",
              "      <td>0</td>\n",
              "      <td>0</td>\n",
              "      <td>39.4</td>\n",
              "      <td>257.0</td>\n",
              "      <td>43</td>\n",
              "      <td>Extremely satisfied</td>\n",
              "      <td>Human Resources</td>\n",
              "      <td>1</td>\n",
              "    </tr>\n",
              "    <tr>\n",
              "      <th>121</th>\n",
              "      <td>2</td>\n",
              "      <td>90</td>\n",
              "      <td>70</td>\n",
              "      <td>17</td>\n",
              "      <td>0</td>\n",
              "      <td>27.3</td>\n",
              "      <td>85.0</td>\n",
              "      <td>22</td>\n",
              "      <td>Extremely unsatisfied</td>\n",
              "      <td>Database Administrator</td>\n",
              "      <td>0</td>\n",
              "    </tr>\n",
              "  </tbody>\n",
              "</table>\n",
              "</div>"
            ],
            "text/plain": [
              "     Pregnancies  Glucose  BloodPressure  SkinThickness  Insulin   BMI  \\\n",
              "34             7      106             92             18        0  22.7   \n",
              "235            0      107             62             30       74  36.6   \n",
              "132            2      100             64             23        0  29.7   \n",
              "19             7      147             76              0        0  39.4   \n",
              "121            2       90             70             17        0  27.3   \n",
              "\n",
              "     DiabetesPedigreeFunction  Age           Satisfaction  \\\n",
              "34                      235.0   48    Extremely satisfied   \n",
              "235                     757.0   25    Extremely satisfied   \n",
              "132                     368.0   21    Extremely satisfied   \n",
              "19                      257.0   43    Extremely satisfied   \n",
              "121                      85.0   22  Extremely unsatisfied   \n",
              "\n",
              "                         Job  Outcome  \n",
              "34                Legislator        0  \n",
              "235      High School Teacher        1  \n",
              "132  Market Research Analyst        0  \n",
              "19           Human Resources        1  \n",
              "121   Database Administrator        0  "
            ]
          },
          "execution_count": 58,
          "metadata": {},
          "output_type": "execute_result"
        }
      ],
      "source": [
        "df2.sample(5)"
      ]
    },
    {
      "cell_type": "markdown",
      "metadata": {
        "id": "WzDdemyBn_Yb"
      },
      "source": [
        "# Preparamos los datos\n",
        "\n"
      ]
    },
    {
      "cell_type": "markdown",
      "metadata": {
        "id": "7z_VYt1u2jHJ"
      },
      "source": [
        "## Transformar variables ordinales en numéricas\n",
        "\n",
        "Como vemos tenemos la variable Satisfaction que es una variable ordinal y podemos suponer que el impacto que podrá tener sobre la variable a predecir (diabetes si/no) permanecerá constante al pasar de una categoría a la siguiente. por eso, la codificaremos como variable ordinal"
      ]
    },
    {
      "cell_type": "code",
      "execution_count": 59,
      "metadata": {},
      "outputs": [
        {
          "data": {
            "text/plain": [
              "Unsatisfied              175\n",
              "Extremely unsatisfied    149\n",
              "Extremely satisfied      141\n",
              "Satisfied                105\n",
              "Name: Satisfaction, dtype: int64"
            ]
          },
          "execution_count": 59,
          "metadata": {},
          "output_type": "execute_result"
        }
      ],
      "source": [
        "df2[\"Satisfaction\"].value_counts()"
      ]
    },
    {
      "cell_type": "code",
      "execution_count": 60,
      "metadata": {
        "id": "YiQl7BDI3IZc"
      },
      "outputs": [],
      "source": [
        "# Creamos el objeto que realizará la transformación dándole el orden en una lista con doble corchete\n",
        "# Tu código aquí debajo\n",
        "\n",
        "# Particularizamos el codificador en nuestros datos\n",
        "# Tu código\n",
        "\n",
        "# Aplicamos el codificador ya particularizado a nuestros datos y lo guardamos machacando la misma variable\n",
        "# Tu código aquí debajo\n",
        "\n",
        "# Imprime la dimensión de los datos y un sample\n",
        "# Tu código aquí debajo\n",
        "\n",
        "from sklearn.preprocessing import OrdinalEncoder\n",
        "\n",
        "ordinal_encoder = OrdinalEncoder(categories = [['Extremely unsatisfied','Unsatisfied','Satisfied','Extremely satisfied']],dtype= 'int')\n",
        "\n",
        "df2['Satisfaction'] = ordinal_encoder.fit_transform(df2[[\"Satisfaction\"]])\n"
      ]
    },
    {
      "cell_type": "code",
      "execution_count": 61,
      "metadata": {
        "id": "VpVBzcaQzlP2"
      },
      "outputs": [],
      "source": [
        "# Guardamos el codificador\n",
        "# Tu código aquí debajo"
      ]
    },
    {
      "cell_type": "markdown",
      "metadata": {
        "id": "ri15I4Bo4Zl9"
      },
      "source": [
        "## Transformar variables nominales en numéricas\n",
        "\n",
        "Como vemos tenemos la variable Job que es una variable nominal (sin orden) y debenmos codificarla mediante el One-Hot encoder"
      ]
    },
    {
      "cell_type": "code",
      "execution_count": 62,
      "metadata": {
        "id": "q5h9DNSEeQ2w"
      },
      "outputs": [
        {
          "data": {
            "text/html": [
              "<div>\n",
              "<style scoped>\n",
              "    .dataframe tbody tr th:only-of-type {\n",
              "        vertical-align: middle;\n",
              "    }\n",
              "\n",
              "    .dataframe tbody tr th {\n",
              "        vertical-align: top;\n",
              "    }\n",
              "\n",
              "    .dataframe thead th {\n",
              "        text-align: right;\n",
              "    }\n",
              "</style>\n",
              "<table border=\"1\" class=\"dataframe\">\n",
              "  <thead>\n",
              "    <tr style=\"text-align: right;\">\n",
              "      <th></th>\n",
              "      <th>Pregnancies</th>\n",
              "      <th>Glucose</th>\n",
              "      <th>BloodPressure</th>\n",
              "      <th>SkinThickness</th>\n",
              "      <th>Insulin</th>\n",
              "      <th>BMI</th>\n",
              "      <th>DiabetesPedigreeFunction</th>\n",
              "      <th>Age</th>\n",
              "      <th>Satisfaction</th>\n",
              "      <th>Outcome</th>\n",
              "      <th>Job_Database Administrator</th>\n",
              "      <th>Job_Epidemiologist</th>\n",
              "      <th>Job_Financial Analyst</th>\n",
              "      <th>Job_Firefighter</th>\n",
              "      <th>Job_High School Teacher</th>\n",
              "      <th>Job_Human Resources</th>\n",
              "      <th>Job_Legislator</th>\n",
              "      <th>Job_Market Research Analyst</th>\n",
              "      <th>Job_Physicians</th>\n",
              "      <th>Job_Statistician</th>\n",
              "    </tr>\n",
              "  </thead>\n",
              "  <tbody>\n",
              "    <tr>\n",
              "      <th>109</th>\n",
              "      <td>10</td>\n",
              "      <td>108</td>\n",
              "      <td>66</td>\n",
              "      <td>0</td>\n",
              "      <td>0</td>\n",
              "      <td>32.4</td>\n",
              "      <td>272.0</td>\n",
              "      <td>42</td>\n",
              "      <td>1</td>\n",
              "      <td>1</td>\n",
              "      <td>0.0</td>\n",
              "      <td>0.0</td>\n",
              "      <td>0.0</td>\n",
              "      <td>0.0</td>\n",
              "      <td>0.0</td>\n",
              "      <td>0.0</td>\n",
              "      <td>0.0</td>\n",
              "      <td>0.0</td>\n",
              "      <td>1.0</td>\n",
              "      <td>0.0</td>\n",
              "    </tr>\n",
              "    <tr>\n",
              "      <th>228</th>\n",
              "      <td>0</td>\n",
              "      <td>137</td>\n",
              "      <td>68</td>\n",
              "      <td>14</td>\n",
              "      <td>148</td>\n",
              "      <td>24.8</td>\n",
              "      <td>143.0</td>\n",
              "      <td>21</td>\n",
              "      <td>3</td>\n",
              "      <td>0</td>\n",
              "      <td>0.0</td>\n",
              "      <td>0.0</td>\n",
              "      <td>0.0</td>\n",
              "      <td>0.0</td>\n",
              "      <td>1.0</td>\n",
              "      <td>0.0</td>\n",
              "      <td>0.0</td>\n",
              "      <td>0.0</td>\n",
              "      <td>0.0</td>\n",
              "      <td>0.0</td>\n",
              "    </tr>\n",
              "    <tr>\n",
              "      <th>558</th>\n",
              "      <td>3</td>\n",
              "      <td>108</td>\n",
              "      <td>62</td>\n",
              "      <td>24</td>\n",
              "      <td>0</td>\n",
              "      <td>26.0</td>\n",
              "      <td>223.0</td>\n",
              "      <td>25</td>\n",
              "      <td>0</td>\n",
              "      <td>0</td>\n",
              "      <td>0.0</td>\n",
              "      <td>0.0</td>\n",
              "      <td>0.0</td>\n",
              "      <td>0.0</td>\n",
              "      <td>1.0</td>\n",
              "      <td>0.0</td>\n",
              "      <td>0.0</td>\n",
              "      <td>0.0</td>\n",
              "      <td>0.0</td>\n",
              "      <td>0.0</td>\n",
              "    </tr>\n",
              "    <tr>\n",
              "      <th>523</th>\n",
              "      <td>5</td>\n",
              "      <td>126</td>\n",
              "      <td>78</td>\n",
              "      <td>27</td>\n",
              "      <td>22</td>\n",
              "      <td>29.6</td>\n",
              "      <td>439.0</td>\n",
              "      <td>40</td>\n",
              "      <td>2</td>\n",
              "      <td>0</td>\n",
              "      <td>0.0</td>\n",
              "      <td>0.0</td>\n",
              "      <td>0.0</td>\n",
              "      <td>0.0</td>\n",
              "      <td>0.0</td>\n",
              "      <td>1.0</td>\n",
              "      <td>0.0</td>\n",
              "      <td>0.0</td>\n",
              "      <td>0.0</td>\n",
              "      <td>0.0</td>\n",
              "    </tr>\n",
              "    <tr>\n",
              "      <th>387</th>\n",
              "      <td>9</td>\n",
              "      <td>130</td>\n",
              "      <td>70</td>\n",
              "      <td>0</td>\n",
              "      <td>0</td>\n",
              "      <td>34.2</td>\n",
              "      <td>652.0</td>\n",
              "      <td>45</td>\n",
              "      <td>1</td>\n",
              "      <td>1</td>\n",
              "      <td>0.0</td>\n",
              "      <td>0.0</td>\n",
              "      <td>0.0</td>\n",
              "      <td>0.0</td>\n",
              "      <td>0.0</td>\n",
              "      <td>0.0</td>\n",
              "      <td>0.0</td>\n",
              "      <td>1.0</td>\n",
              "      <td>0.0</td>\n",
              "      <td>0.0</td>\n",
              "    </tr>\n",
              "  </tbody>\n",
              "</table>\n",
              "</div>"
            ],
            "text/plain": [
              "     Pregnancies  Glucose  BloodPressure  SkinThickness  Insulin   BMI  \\\n",
              "109           10      108             66              0        0  32.4   \n",
              "228            0      137             68             14      148  24.8   \n",
              "558            3      108             62             24        0  26.0   \n",
              "523            5      126             78             27       22  29.6   \n",
              "387            9      130             70              0        0  34.2   \n",
              "\n",
              "     DiabetesPedigreeFunction  Age  Satisfaction  Outcome  \\\n",
              "109                     272.0   42             1        1   \n",
              "228                     143.0   21             3        0   \n",
              "558                     223.0   25             0        0   \n",
              "523                     439.0   40             2        0   \n",
              "387                     652.0   45             1        1   \n",
              "\n",
              "     Job_Database Administrator  Job_Epidemiologist  Job_Financial Analyst  \\\n",
              "109                         0.0                 0.0                    0.0   \n",
              "228                         0.0                 0.0                    0.0   \n",
              "558                         0.0                 0.0                    0.0   \n",
              "523                         0.0                 0.0                    0.0   \n",
              "387                         0.0                 0.0                    0.0   \n",
              "\n",
              "     Job_Firefighter  Job_High School Teacher  Job_Human Resources  \\\n",
              "109              0.0                      0.0                  0.0   \n",
              "228              0.0                      1.0                  0.0   \n",
              "558              0.0                      1.0                  0.0   \n",
              "523              0.0                      0.0                  1.0   \n",
              "387              0.0                      0.0                  0.0   \n",
              "\n",
              "     Job_Legislator  Job_Market Research Analyst  Job_Physicians  \\\n",
              "109             0.0                          0.0             1.0   \n",
              "228             0.0                          0.0             0.0   \n",
              "558             0.0                          0.0             0.0   \n",
              "523             0.0                          0.0             0.0   \n",
              "387             0.0                          1.0             0.0   \n",
              "\n",
              "     Job_Statistician  \n",
              "109               0.0  \n",
              "228               0.0  \n",
              "558               0.0  \n",
              "523               0.0  \n",
              "387               0.0  "
            ]
          },
          "execution_count": 62,
          "metadata": {},
          "output_type": "execute_result"
        }
      ],
      "source": [
        "# Tu código\n",
        "from sklearn.preprocessing import OneHotEncoder\n",
        "\n",
        "OneHot = OneHotEncoder()\n",
        "aux = OneHot.fit_transform(df2[['Job']])\n",
        "\n",
        "df2_one_hot = pd.DataFrame(aux.toarray(),columns=OneHot.get_feature_names_out(['Job']))\n",
        "df2.reset_index(drop=True,inplace=True)\n",
        "df2_one_hot.reset_index(drop=True,inplace=True)\n",
        "df2=pd.concat([df2,df2_one_hot],axis=1)\n",
        "df2.drop(columns='Job',inplace=True)\n",
        "df2.sample(5)"
      ]
    },
    {
      "cell_type": "code",
      "execution_count": 63,
      "metadata": {
        "id": "CJYia9pz0YwA"
      },
      "outputs": [],
      "source": [
        "# Guardamos el codificador"
      ]
    },
    {
      "cell_type": "markdown",
      "metadata": {
        "id": "X_Z2GFhsbz_u"
      },
      "source": [
        "# REGRESIÓN LOGÍSTICA. Usamos la estandarización"
      ]
    },
    {
      "cell_type": "markdown",
      "metadata": {
        "id": "N_pSzgROQ6kO"
      },
      "source": [
        "## 0. Separar la variable a predecir y las predictoras"
      ]
    },
    {
      "cell_type": "code",
      "execution_count": 64,
      "metadata": {
        "id": "C0NHPPAAVaHT"
      },
      "outputs": [],
      "source": [
        "# Tu código aquí debajo\n",
        "X = df2.drop(columns=[\"Outcome\"],inplace=False)\n",
        "y = df2[\"Outcome\"]"
      ]
    },
    {
      "cell_type": "code",
      "execution_count": 65,
      "metadata": {
        "id": "mpiH6HxB3UFd"
      },
      "outputs": [
        {
          "data": {
            "text/plain": [
              "(570, 19)"
            ]
          },
          "execution_count": 65,
          "metadata": {},
          "output_type": "execute_result"
        }
      ],
      "source": [
        "# Imprime la dimensión de los datos que vayas creando\n",
        "# Tu código aquí debajo\n",
        "\n",
        "X.shape"
      ]
    },
    {
      "cell_type": "markdown",
      "metadata": {
        "id": "tA0UrXKgVbDH"
      },
      "source": [
        "## 1. Split. Separar los datos en conjunto de entrenamiento (train) y conjunto de evaluación o test(test)"
      ]
    },
    {
      "cell_type": "code",
      "execution_count": 66,
      "metadata": {
        "id": "AVzJWAXIhxoC"
      },
      "outputs": [],
      "source": [
        "# Tu código aquí debajo\n",
        "\n",
        "from sklearn.model_selection import train_test_split\n",
        "\n",
        "X_train, X_test, y_train, y_test = train_test_split(X, y, test_size=0.2, random_state=42)"
      ]
    },
    {
      "cell_type": "code",
      "execution_count": 67,
      "metadata": {
        "id": "EAQrgSJx3EEv"
      },
      "outputs": [
        {
          "name": "stdout",
          "output_type": "stream",
          "text": [
            "(456, 19)\n",
            "(114, 19)\n",
            "(456,)\n",
            "(114,)\n"
          ]
        }
      ],
      "source": [
        "# Imprime la dimensión de los datos que vayas creando\n",
        "# Tu código aquí debajo\n",
        "print(X_train.shape)\n",
        "print(X_test.shape)\n",
        "print(y_train.shape)\n",
        "print(y_test.shape)\n"
      ]
    },
    {
      "cell_type": "markdown",
      "metadata": {
        "id": "YQ1xMWy76B1c"
      },
      "source": [
        "## 2. Estandarización controlada.\n",
        "\n",
        "* Fit en el train\n",
        "* Transform en el train\n",
        "* Transform en el test"
      ]
    },
    {
      "cell_type": "code",
      "execution_count": 68,
      "metadata": {
        "id": "Ewg_wFVS6Yg6"
      },
      "outputs": [],
      "source": [
        "# Imprime la dimensión de los datos que vayas creando\n",
        "# Tu código aquí debajo\n",
        "\n",
        "from sklearn.preprocessing import StandardScaler\n",
        "\n",
        "scaler = StandardScaler()\n",
        "\n",
        "X_train_std = scaler.fit_transform(X_train)\n",
        "X_test_std = scaler.transform(X_test)\n",
        "\n"
      ]
    },
    {
      "cell_type": "code",
      "execution_count": 69,
      "metadata": {
        "id": "cxFU-J657KrA"
      },
      "outputs": [
        {
          "name": "stdout",
          "output_type": "stream",
          "text": [
            "(456, 19)\n",
            "(114, 19)\n"
          ]
        }
      ],
      "source": [
        "# Imprime la dimensión de los datos que vayas creando\n",
        "# Tu código aquí debajo\n",
        "\n",
        "print(X_train_std.shape)\n",
        "print(X_test_std.shape)"
      ]
    },
    {
      "cell_type": "markdown",
      "metadata": {
        "id": "f6LM6Ya2b59c"
      },
      "source": [
        "## 3. Fit. Entrenar el modelo\n",
        "\n",
        "* Creamos el modelo\n",
        "* Entrenamos el modelo sobre los datos de train y obtenemos el modelo entrenado"
      ]
    },
    {
      "cell_type": "code",
      "execution_count": 70,
      "metadata": {
        "id": "zru2fNx5b90Y"
      },
      "outputs": [
        {
          "data": {
            "text/plain": [
              "LogisticRegression()"
            ]
          },
          "execution_count": 70,
          "metadata": {},
          "output_type": "execute_result"
        }
      ],
      "source": [
        "# Cargamos el modelo y lo creamos\n",
        "# Imprime la dimensión de los datos que vayas creando\n",
        "# Tu código aquí debajo\n",
        "\n",
        "from sklearn.linear_model import LogisticRegression\n",
        "LR = LogisticRegression()\n",
        "\n",
        "LR.fit(X_train_std,y_train)\n",
        "\n",
        "# Ahora LR ya es un modelo que se puede entrenar (fit)"
      ]
    },
    {
      "cell_type": "code",
      "execution_count": 71,
      "metadata": {
        "id": "Lvvqw_D8b-ua"
      },
      "outputs": [
        {
          "data": {
            "text/plain": [
              "DecisionTreeClassifier()"
            ]
          },
          "execution_count": 71,
          "metadata": {},
          "output_type": "execute_result"
        }
      ],
      "source": [
        "# Entrenamos el modelo dtree\n",
        "# Imprime la dimensión de los datos que vayas creando\n",
        "# Tu código aquí debajo\n",
        "\n",
        "from sklearn.tree import DecisionTreeClassifier\n",
        "dt = DecisionTreeClassifier()\n",
        "\n",
        "dt.fit(X_train_std,y_train)\n",
        "\n",
        "# Ahora LR es un modelo entrenado capaz de hacer predicciones"
      ]
    },
    {
      "cell_type": "markdown",
      "metadata": {
        "id": "MZGIoGlyclGh"
      },
      "source": [
        "## 4. Evaluar el Modelo\n",
        "\n",
        "* Hacemos predicciones sobre el conjunto de test\n",
        "* Comparamos esas predicciones con los valores reales. Calculamos la precisión (accuracy)"
      ]
    },
    {
      "cell_type": "code",
      "execution_count": 72,
      "metadata": {
        "id": "AEAHvNMEcmu-"
      },
      "outputs": [
        {
          "data": {
            "text/plain": [
              "0.7982456140350878"
            ]
          },
          "execution_count": 72,
          "metadata": {},
          "output_type": "execute_result"
        }
      ],
      "source": [
        "# Hacemos predicciones sobre el conjunto de test y la guardamos en predictions\n",
        "# Tu código aquí debajo\n",
        "\n",
        "predicciones = LR.predict(X_test_std)\n",
        "\n",
        "from sklearn.metrics import accuracy_score\n",
        "\n",
        "accuracy_score(y_test,predicciones)"
      ]
    },
    {
      "cell_type": "code",
      "execution_count": 73,
      "metadata": {
        "id": "EuT8lfA5-yBH"
      },
      "outputs": [
        {
          "data": {
            "text/plain": [
              "<AxesSubplot:>"
            ]
          },
          "execution_count": 73,
          "metadata": {},
          "output_type": "execute_result"
        },
        {
          "data": {
            "image/png": "[encoded data removed]",
            "text/plain": [
              "<Figure size 640x480 with 2 Axes>"
            ]
          },
          "metadata": {},
          "output_type": "display_data"
        }
      ],
      "source": [
        "# Calculamos la matriz de confusión. Si quieres es absoluto y en porcentaje\n",
        "# Tu código aquí debajo\n",
        "\n",
        "from sklearn.metrics import confusion_matrix\n",
        "from seaborn import heatmap\n",
        "\n",
        "confusion_matrix(y_test,predicciones)\n",
        "\n",
        "heatmap(confusion_matrix(y_test,predicciones),annot=True)"
      ]
    },
    {
      "cell_type": "markdown",
      "metadata": {
        "id": "keSHMQsU3g6E"
      },
      "source": [
        "Completa esta información a partir de la matriz de confusión:\n",
        "\n",
        "* Hay ?? Verdaderos positivos\n",
        "* Hay ?? Falsos negativos\n",
        "* Hay ?? Falsos positivos\n",
        "* Hay ?? Verdaderos positivos"
      ]
    },
    {
      "cell_type": "markdown",
      "metadata": {
        "id": "1u3EeJXI3g6F"
      },
      "source": [
        "Conceptos importantes en modelos supervisados de clasificación\n",
        "\n",
        "![image.png](data:image/png;base64,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)"
      ]
    },
    {
      "cell_type": "code",
      "execution_count": 74,
      "metadata": {},
      "outputs": [],
      "source": [
        "# Specificity = TN / TN + FP\n",
        "# https://iq.opengenus.org/precision-recall-sensitivity-specificity/#google_vignette"
      ]
    },
    {
      "cell_type": "code",
      "execution_count": 75,
      "metadata": {
        "id": "1Pf9dY9l-rAs"
      },
      "outputs": [
        {
          "data": {
            "text/plain": [
              "0.798"
            ]
          },
          "execution_count": 75,
          "metadata": {},
          "output_type": "execute_result"
        }
      ],
      "source": [
        "# Calculamos la Accuracy\n",
        "# Tu código aquí debajo\n",
        "from sklearn.metrics import accuracy_score\n",
        "predictions = LR.predict(X_test_std)\n",
        "accuracy_score(y_test, predictions).round(3)\n"
      ]
    },
    {
      "cell_type": "code",
      "execution_count": 76,
      "metadata": {},
      "outputs": [
        {
          "data": {
            "text/plain": [
              "0.549"
            ]
          },
          "execution_count": 76,
          "metadata": {},
          "output_type": "execute_result"
        }
      ],
      "source": [
        "# Calculamos la F-Measure\n",
        "# Tu código aquí debajo\n",
        "from sklearn.metrics import f1_score\n",
        "\n",
        "predictions = LR.predict(X_test_std)\n",
        "f1_score(y_test, predictions).round(3)"
      ]
    },
    {
      "cell_type": "code",
      "execution_count": 77,
      "metadata": {},
      "outputs": [
        {
          "data": {
            "text/plain": [
              "0.438"
            ]
          },
          "execution_count": 77,
          "metadata": {},
          "output_type": "execute_result"
        }
      ],
      "source": [
        "# Calculamos la Recall\n",
        "# Tu código aquí debajo\n",
        "from sklearn.metrics import recall_score\n",
        "\n",
        "predictions = LR.predict(X_test_std)\n",
        "recall_score(y_test, predictions).round(3)\n"
      ]
    },
    {
      "cell_type": "code",
      "execution_count": 78,
      "metadata": {},
      "outputs": [
        {
          "data": {
            "text/plain": [
              "0.737"
            ]
          },
          "execution_count": 78,
          "metadata": {},
          "output_type": "execute_result"
        }
      ],
      "source": [
        "# Calculamos la Precision\n",
        "# Tu código aquí debajo\n",
        "from sklearn.metrics import precision_score\n",
        "\n",
        "predictions = LR.predict(X_test_std)\n",
        "precision_score(y_test, predictions).round(3)"
      ]
    },
    {
      "cell_type": "markdown",
      "metadata": {
        "id": "qt0iUei6BOOk"
      },
      "source": [
        "## 5. Creamos el modelo final\n",
        "\n",
        "* Creamos una nueva estandarización con todos los datos\n",
        "* Creamos el modelo con todos los datos\n",
        "* Guardamos el estandarizador y el modelo"
      ]
    },
    {
      "cell_type": "code",
      "execution_count": 94,
      "metadata": {
        "id": "I-eZnyxaBdFH"
      },
      "outputs": [
        {
          "data": {
            "text/plain": [
              "['LR_final.std']"
            ]
          },
          "execution_count": 94,
          "metadata": {},
          "output_type": "execute_result"
        }
      ],
      "source": [
        "# Creamos una nueva estandarización con todos los datos\n",
        "# Tu código aquí debajo\n",
        "\n",
        "estandarizer_final = StandardScaler()\n",
        "X_final = estandarizer_final.fit_transform(X)\n",
        "\n",
        "LR_final = LogisticRegression()\n",
        "LR_final.fit(X_final, y)\n",
        "\n",
        "# Guardamos el estandarizador y el modelo\n",
        "\n",
        "dump(estandarizer_final,'standard_final.std')\n",
        "dump(OneHot, 'one_hot_final.std')\n",
        "dump(ordinal_encoder, \"ordinal_final.std\")\n",
        "dump(LR_final, 'LR_final.std')\n",
        "\n",
        "#Creamos /fitamos el modelo con todos los datos\n",
        "# Tu código aquí debajo"
      ]
    },
    {
      "cell_type": "markdown",
      "metadata": {
        "id": "jCrk9YDC4TFr"
      },
      "source": [
        "## 6. Usamos el modelo\n",
        "\n",
        "* Volvemos a cargar el estandarizador y el modelo simulando que lo recuperamos\n",
        "* Creamos los nuevos datos sobre los que queremos usar / hacer predicciones\n",
        "* Los estandarizamos con el estandarizador recuperado\n",
        "* Predecimos la variable 'Purchased' para esos nuevos datos"
      ]
    },
    {
      "cell_type": "code",
      "execution_count": 108,
      "metadata": {
        "id": "UX6tFLo2CXw8"
      },
      "outputs": [],
      "source": [
        "# Recuperamos los codificadores, el estandarizador y el modelo\n",
        "# Tu código aquí debajo\n",
        "\n",
        "model = load('LR_final.std')\n",
        "ohf = load('one_hot_final.std')\n",
        "odf = load('ordinal_final.std')\n",
        "stf = load('standard_final.std')"
      ]
    },
    {
      "cell_type": "code",
      "execution_count": 109,
      "metadata": {},
      "outputs": [
        {
          "data": {
            "text/plain": [
              "OneHotEncoder()"
            ]
          },
          "execution_count": 109,
          "metadata": {},
          "output_type": "execute_result"
        }
      ],
      "source": [
        "ohf"
      ]
    },
    {
      "cell_type": "code",
      "execution_count": 110,
      "metadata": {
        "id": "Znt7Viav44L3"
      },
      "outputs": [
        {
          "data": {
            "text/html": [
              "<div>\n",
              "<style scoped>\n",
              "    .dataframe tbody tr th:only-of-type {\n",
              "        vertical-align: middle;\n",
              "    }\n",
              "\n",
              "    .dataframe tbody tr th {\n",
              "        vertical-align: top;\n",
              "    }\n",
              "\n",
              "    .dataframe thead th {\n",
              "        text-align: right;\n",
              "    }\n",
              "</style>\n",
              "<table border=\"1\" class=\"dataframe\">\n",
              "  <thead>\n",
              "    <tr style=\"text-align: right;\">\n",
              "      <th></th>\n",
              "      <th>Pregnancies</th>\n",
              "      <th>Glucose</th>\n",
              "      <th>BloodPressure</th>\n",
              "      <th>SkinThickness</th>\n",
              "      <th>Insulin</th>\n",
              "      <th>BMI</th>\n",
              "      <th>DiabetesPedigreeFunction</th>\n",
              "      <th>Age</th>\n",
              "      <th>Satisfaction</th>\n",
              "      <th>Job</th>\n",
              "    </tr>\n",
              "  </thead>\n",
              "  <tbody>\n",
              "    <tr>\n",
              "      <th>0</th>\n",
              "      <td>10</td>\n",
              "      <td>100</td>\n",
              "      <td>72</td>\n",
              "      <td>35</td>\n",
              "      <td>0</td>\n",
              "      <td>33.6</td>\n",
              "      <td>627</td>\n",
              "      <td>50</td>\n",
              "      <td>Extremely unsatisfied</td>\n",
              "      <td>Human Resources</td>\n",
              "    </tr>\n",
              "    <tr>\n",
              "      <th>1</th>\n",
              "      <td>1</td>\n",
              "      <td>85</td>\n",
              "      <td>70</td>\n",
              "      <td>29</td>\n",
              "      <td>0</td>\n",
              "      <td>26.6</td>\n",
              "      <td>351</td>\n",
              "      <td>31</td>\n",
              "      <td>Unsatisfied</td>\n",
              "      <td>Financial Analyst</td>\n",
              "    </tr>\n",
              "    <tr>\n",
              "      <th>2</th>\n",
              "      <td>0</td>\n",
              "      <td>183</td>\n",
              "      <td>64</td>\n",
              "      <td>5</td>\n",
              "      <td>10</td>\n",
              "      <td>30.0</td>\n",
              "      <td>672</td>\n",
              "      <td>32</td>\n",
              "      <td>Satisfied</td>\n",
              "      <td>High School Teacher</td>\n",
              "    </tr>\n",
              "    <tr>\n",
              "      <th>3</th>\n",
              "      <td>3</td>\n",
              "      <td>89</td>\n",
              "      <td>66</td>\n",
              "      <td>23</td>\n",
              "      <td>94</td>\n",
              "      <td>28.1</td>\n",
              "      <td>167</td>\n",
              "      <td>21</td>\n",
              "      <td>Extremely satisfied</td>\n",
              "      <td>Legislator</td>\n",
              "    </tr>\n",
              "  </tbody>\n",
              "</table>\n",
              "</div>"
            ],
            "text/plain": [
              "   Pregnancies  Glucose  BloodPressure  SkinThickness  Insulin   BMI  \\\n",
              "0           10      100             72             35        0  33.6   \n",
              "1            1       85             70             29        0  26.6   \n",
              "2            0      183             64              5       10  30.0   \n",
              "3            3       89             66             23       94  28.1   \n",
              "\n",
              "   DiabetesPedigreeFunction  Age           Satisfaction                  Job  \n",
              "0                       627   50  Extremely unsatisfied      Human Resources  \n",
              "1                       351   31            Unsatisfied    Financial Analyst  \n",
              "2                       672   32              Satisfied  High School Teacher  \n",
              "3                       167   21    Extremely satisfied           Legislator  "
            ]
          },
          "execution_count": 110,
          "metadata": {},
          "output_type": "execute_result"
        }
      ],
      "source": [
        "# Tomamos los nuevos datos \"diabetes_new_data.xlsx\"\n",
        "# Tu código aquí debajo\n",
        "\n",
        "new_data = pd.read_excel('diabetes_new_data.xlsx')\n",
        "new_data"
      ]
    },
    {
      "cell_type": "code",
      "execution_count": 111,
      "metadata": {
        "id": "erJ3QvOK5Q0r"
      },
      "outputs": [],
      "source": [
        "# Aplicamos las codificaciones a nuestros nuevos datos\n",
        "\n",
        "a = ohf.transform(new_data[[\"Job\"]])\n",
        "\n",
        "one_hot_new = pd.DataFrame(a.toarray(),columns=ohf.get_feature_names_out(['Job']))\n",
        "new_data.reset_index(drop=True,inplace=True)\n",
        "one_hot_new.reset_index(drop=True,inplace=True)\n",
        "new_data=pd.concat([new_data,one_hot_new],axis=1)\n",
        "new_data.drop(columns='Job',inplace=True)"
      ]
    },
    {
      "cell_type": "code",
      "execution_count": 112,
      "metadata": {
        "id": "zzn611HS5wFe"
      },
      "outputs": [],
      "source": [
        "# Ordinal\n",
        "\n",
        "new_data[\"Satisfaction\"] = odf.transform(new_data[[\"Satisfaction\"]])"
      ]
    },
    {
      "cell_type": "code",
      "execution_count": 113,
      "metadata": {
        "id": "kd0Tr9w5DvRS"
      },
      "outputs": [],
      "source": [
        "# Estandarizamos los nuevos datos\n",
        "# Tu código aquí debajo\n",
        "\n",
        "new_data_std = stf.transform(new_data)"
      ]
    },
    {
      "cell_type": "code",
      "execution_count": 114,
      "metadata": {
        "id": "kMlqmmB1D0ET"
      },
      "outputs": [],
      "source": [
        "# Predecimos la variable 'Outcome' para esos valores y los mostramos.\n",
        "# Tu código aquí debajo\n",
        "\n",
        "new_data[\"Predictions\"] = model.predict(new_data_std)"
      ]
    },
    {
      "cell_type": "code",
      "execution_count": 117,
      "metadata": {},
      "outputs": [
        {
          "data": {
            "text/html": [
              "<div>\n",
              "<style scoped>\n",
              "    .dataframe tbody tr th:only-of-type {\n",
              "        vertical-align: middle;\n",
              "    }\n",
              "\n",
              "    .dataframe tbody tr th {\n",
              "        vertical-align: top;\n",
              "    }\n",
              "\n",
              "    .dataframe thead th {\n",
              "        text-align: right;\n",
              "    }\n",
              "</style>\n",
              "<table border=\"1\" class=\"dataframe\">\n",
              "  <thead>\n",
              "    <tr style=\"text-align: right;\">\n",
              "      <th></th>\n",
              "      <th>Pregnancies</th>\n",
              "      <th>Glucose</th>\n",
              "      <th>BloodPressure</th>\n",
              "      <th>SkinThickness</th>\n",
              "      <th>Insulin</th>\n",
              "      <th>BMI</th>\n",
              "      <th>DiabetesPedigreeFunction</th>\n",
              "      <th>Age</th>\n",
              "      <th>Satisfaction</th>\n",
              "      <th>Job_Database Administrator</th>\n",
              "      <th>Job_Epidemiologist</th>\n",
              "      <th>Job_Financial Analyst</th>\n",
              "      <th>Job_Firefighter</th>\n",
              "      <th>Job_High School Teacher</th>\n",
              "      <th>Job_Human Resources</th>\n",
              "      <th>Job_Legislator</th>\n",
              "      <th>Job_Market Research Analyst</th>\n",
              "      <th>Job_Physicians</th>\n",
              "      <th>Job_Statistician</th>\n",
              "      <th>Predictions</th>\n",
              "    </tr>\n",
              "  </thead>\n",
              "  <tbody>\n",
              "    <tr>\n",
              "      <th>0</th>\n",
              "      <td>10</td>\n",
              "      <td>100</td>\n",
              "      <td>72</td>\n",
              "      <td>35</td>\n",
              "      <td>0</td>\n",
              "      <td>33.6</td>\n",
              "      <td>627</td>\n",
              "      <td>50</td>\n",
              "      <td>0</td>\n",
              "      <td>0.0</td>\n",
              "      <td>0.0</td>\n",
              "      <td>0.0</td>\n",
              "      <td>0.0</td>\n",
              "      <td>0.0</td>\n",
              "      <td>1.0</td>\n",
              "      <td>0.0</td>\n",
              "      <td>0.0</td>\n",
              "      <td>0.0</td>\n",
              "      <td>0.0</td>\n",
              "      <td>0</td>\n",
              "    </tr>\n",
              "    <tr>\n",
              "      <th>1</th>\n",
              "      <td>1</td>\n",
              "      <td>85</td>\n",
              "      <td>70</td>\n",
              "      <td>29</td>\n",
              "      <td>0</td>\n",
              "      <td>26.6</td>\n",
              "      <td>351</td>\n",
              "      <td>31</td>\n",
              "      <td>1</td>\n",
              "      <td>0.0</td>\n",
              "      <td>0.0</td>\n",
              "      <td>1.0</td>\n",
              "      <td>0.0</td>\n",
              "      <td>0.0</td>\n",
              "      <td>0.0</td>\n",
              "      <td>0.0</td>\n",
              "      <td>0.0</td>\n",
              "      <td>0.0</td>\n",
              "      <td>0.0</td>\n",
              "      <td>0</td>\n",
              "    </tr>\n",
              "    <tr>\n",
              "      <th>2</th>\n",
              "      <td>0</td>\n",
              "      <td>183</td>\n",
              "      <td>64</td>\n",
              "      <td>5</td>\n",
              "      <td>10</td>\n",
              "      <td>30.0</td>\n",
              "      <td>672</td>\n",
              "      <td>32</td>\n",
              "      <td>2</td>\n",
              "      <td>0.0</td>\n",
              "      <td>0.0</td>\n",
              "      <td>0.0</td>\n",
              "      <td>0.0</td>\n",
              "      <td>1.0</td>\n",
              "      <td>0.0</td>\n",
              "      <td>0.0</td>\n",
              "      <td>0.0</td>\n",
              "      <td>0.0</td>\n",
              "      <td>0.0</td>\n",
              "      <td>1</td>\n",
              "    </tr>\n",
              "    <tr>\n",
              "      <th>3</th>\n",
              "      <td>3</td>\n",
              "      <td>89</td>\n",
              "      <td>66</td>\n",
              "      <td>23</td>\n",
              "      <td>94</td>\n",
              "      <td>28.1</td>\n",
              "      <td>167</td>\n",
              "      <td>21</td>\n",
              "      <td>3</td>\n",
              "      <td>0.0</td>\n",
              "      <td>0.0</td>\n",
              "      <td>0.0</td>\n",
              "      <td>0.0</td>\n",
              "      <td>0.0</td>\n",
              "      <td>0.0</td>\n",
              "      <td>1.0</td>\n",
              "      <td>0.0</td>\n",
              "      <td>0.0</td>\n",
              "      <td>0.0</td>\n",
              "      <td>0</td>\n",
              "    </tr>\n",
              "  </tbody>\n",
              "</table>\n",
              "</div>"
            ],
            "text/plain": [
              "   Pregnancies  Glucose  BloodPressure  SkinThickness  Insulin   BMI  \\\n",
              "0           10      100             72             35        0  33.6   \n",
              "1            1       85             70             29        0  26.6   \n",
              "2            0      183             64              5       10  30.0   \n",
              "3            3       89             66             23       94  28.1   \n",
              "\n",
              "   DiabetesPedigreeFunction  Age  Satisfaction  Job_Database Administrator  \\\n",
              "0                       627   50             0                         0.0   \n",
              "1                       351   31             1                         0.0   \n",
              "2                       672   32             2                         0.0   \n",
              "3                       167   21             3                         0.0   \n",
              "\n",
              "   Job_Epidemiologist  Job_Financial Analyst  Job_Firefighter  \\\n",
              "0                 0.0                    0.0              0.0   \n",
              "1                 0.0                    1.0              0.0   \n",
              "2                 0.0                    0.0              0.0   \n",
              "3                 0.0                    0.0              0.0   \n",
              "\n",
              "   Job_High School Teacher  Job_Human Resources  Job_Legislator  \\\n",
              "0                      0.0                  1.0             0.0   \n",
              "1                      0.0                  0.0             0.0   \n",
              "2                      1.0                  0.0             0.0   \n",
              "3                      0.0                  0.0             1.0   \n",
              "\n",
              "   Job_Market Research Analyst  Job_Physicians  Job_Statistician  Predictions  \n",
              "0                          0.0             0.0               0.0            0  \n",
              "1                          0.0             0.0               0.0            0  \n",
              "2                          0.0             0.0               0.0            1  \n",
              "3                          0.0             0.0               0.0            0  "
            ]
          },
          "execution_count": 117,
          "metadata": {},
          "output_type": "execute_result"
        }
      ],
      "source": [
        "new_data"
      ]
    },
    {
      "cell_type": "code",
      "execution_count": 116,
      "metadata": {},
      "outputs": [],
      "source": [
        "new_data.to_excel(\"Resultados_Predicciones_diabetes.xlsx\")"
      ]
    }
  ],
  "metadata": {
    "colab": {
      "machine_shape": "hm",
      "provenance": []
    },
    "kernelspec": {
      "display_name": "base",
      "language": "python",
      "name": "python3"
    },
    "language_info": {
      "codemirror_mode": {
        "name": "ipython",
        "version": 3
      },
      "file_extension": ".py",
      "mimetype": "text/x-python",
      "name": "python",
      "nbconvert_exporter": "python",
      "pygments_lexer": "ipython3",
      "version": "3.9.13"
    }
  },
  "nbformat": 4,
  "nbformat_minor": 0
}
