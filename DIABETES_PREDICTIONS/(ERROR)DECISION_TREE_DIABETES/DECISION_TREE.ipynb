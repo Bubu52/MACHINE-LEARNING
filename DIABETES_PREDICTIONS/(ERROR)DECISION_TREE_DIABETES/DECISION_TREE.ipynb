{
  "cells": [
    {
      "cell_type": "markdown",
      "metadata": {
        "id": "0MRC0e0KhQ0S"
      },
      "source": [
        "# Clase Supervised Classification ML"
      ]
    },
    {
      "cell_type": "markdown",
      "metadata": {
        "id": "LWd1UlMnhT2s"
      },
      "source": [
        "## Importar librerías"
      ]
    },
    {
      "cell_type": "code",
      "execution_count": 2,
      "metadata": {
        "id": "YvGPUQaHhXfL"
      },
      "outputs": [],
      "source": [
        "# Recuerda importar:\n",
        "# 1. Las librerías típicas como pandas\n",
        "# 2. Las que necesites para las transformaciones\n",
        "# 3. Las que necesites para los modelos\n",
        "# 4. Las que necesites para guardar y recuperar modelos\n",
        "\n",
        "# Ves añadiéndolas conforme las necesites\n",
        "\n",
        "# Tu código aquí debajo\n",
        "import pandas as pd\n",
        "import sklearn as sk\n",
        "from joblib import dump \n",
        "from joblib import load\n",
        "from sklearn.preprocessing import OrdinalEncoder\n",
        "from sklearn.preprocessing import OneHotEncoder\n",
        "from sklearn.preprocessing import StandardScaler\n",
        "from sklearn.linear_model import LogisticRegression\n",
        "\n",
        "from sklearn.tree import DecisionTreeClassifier\n",
        "from sklearn.ensemble import RandomForestClassifier\n",
        "\n",
        "from sklearn.metrics import confusion_matrix\n",
        "from seaborn import heatmap\n",
        "from sklearn.metrics import accuracy_score\n",
        "from sklearn.metrics import f1_score\n",
        "from sklearn.metrics import recall_score\n",
        "from sklearn.metrics import precision_score\n",
        "\n"
      ]
    },
    {
      "cell_type": "markdown",
      "metadata": {
        "id": "K1VMqkGvhc3-"
      },
      "source": [
        "## Importar los datos"
      ]
    },
    {
      "cell_type": "code",
      "execution_count": 3,
      "metadata": {
        "id": "M52QDmyzhh9s"
      },
      "outputs": [],
      "source": [
        "# Tu código aquí debajo\n",
        "df = pd.read_excel('diabetes_clean.xlsx')\n",
        "df2 = df.copy()"
      ]
    },
    {
      "cell_type": "markdown",
      "metadata": {
        "id": "iroiFw6tWlvk"
      },
      "source": [
        "## Detectar y tratar duplicados"
      ]
    },
    {
      "cell_type": "code",
      "execution_count": 4,
      "metadata": {
        "id": "FnP5kVoFWqk6"
      },
      "outputs": [
        {
          "data": {
            "text/plain": [
              "0"
            ]
          },
          "execution_count": 4,
          "metadata": {},
          "output_type": "execute_result"
        }
      ],
      "source": [
        "# Tu código aquí debajo\n",
        "\n",
        "df.duplicated().sum()"
      ]
    },
    {
      "cell_type": "markdown",
      "metadata": {
        "id": "TJ8Ez2gWW2AP"
      },
      "source": [
        "## Detectar y tratar valores nulos"
      ]
    },
    {
      "cell_type": "code",
      "execution_count": 5,
      "metadata": {
        "id": "am5scFI1W7nZ"
      },
      "outputs": [
        {
          "data": {
            "text/plain": [
              "Pregnancies                 0\n",
              "Glucose                     0\n",
              "BloodPressure               0\n",
              "SkinThickness               0\n",
              "Insulin                     0\n",
              "BMI                         0\n",
              "DiabetesPedigreeFunction    0\n",
              "Age                         0\n",
              "Satisfaction                0\n",
              "Job                         0\n",
              "Outcome                     0\n",
              "dtype: int64"
            ]
          },
          "execution_count": 5,
          "metadata": {},
          "output_type": "execute_result"
        }
      ],
      "source": [
        "# Tu código aquí debajo\n",
        "\n",
        "df.isnull().sum()"
      ]
    },
    {
      "cell_type": "markdown",
      "metadata": {
        "id": "tEk7IFdiXXcG"
      },
      "source": [
        "## Detectar y tratar valores atípicos (ouliers)"
      ]
    },
    {
      "cell_type": "code",
      "execution_count": 6,
      "metadata": {
        "id": "nU3m_EyCXcrQ"
      },
      "outputs": [],
      "source": [
        "# Tu código aquí debajo\n",
        "def outliers(d,v):\n",
        "    import numpy as np\n",
        "    q3=np.quantile(d[v],0.75)\n",
        "    q1=np.quantile(d[v],0.25)\n",
        "    ric=q3-q1\n",
        "    df_outliers=d.loc[(d[v]>=q3+1.5*ric) | (d[v]<=q1-1.5*ric), : ]\n",
        "    df_limpio= d.loc[(d[v]<q3+1.5*ric) & (d[v]>q1-1.5*ric), : ]\n",
        "    return df_outliers,df_limpio"
      ]
    },
    {
      "cell_type": "code",
      "execution_count": 7,
      "metadata": {},
      "outputs": [],
      "source": [
        "num = [\"Pregnancies\",\"Glucose\",\"BloodPressure\",\"SkinThickness\",\"Insulin\",\"BMI\",\"DiabetesPedigreeFunction\",\"Age\"]\n",
        "for i in num:\n",
        "    a,b=outliers(df2,i)\n",
        "    df2 = b"
      ]
    },
    {
      "cell_type": "code",
      "execution_count": 8,
      "metadata": {},
      "outputs": [
        {
          "data": {
            "text/html": [
              "<div>\n",
              "<style scoped>\n",
              "    .dataframe tbody tr th:only-of-type {\n",
              "        vertical-align: middle;\n",
              "    }\n",
              "\n",
              "    .dataframe tbody tr th {\n",
              "        vertical-align: top;\n",
              "    }\n",
              "\n",
              "    .dataframe thead th {\n",
              "        text-align: right;\n",
              "    }\n",
              "</style>\n",
              "<table border=\"1\" class=\"dataframe\">\n",
              "  <thead>\n",
              "    <tr style=\"text-align: right;\">\n",
              "      <th></th>\n",
              "      <th>Pregnancies</th>\n",
              "      <th>Glucose</th>\n",
              "      <th>BloodPressure</th>\n",
              "      <th>SkinThickness</th>\n",
              "      <th>Insulin</th>\n",
              "      <th>BMI</th>\n",
              "      <th>DiabetesPedigreeFunction</th>\n",
              "      <th>Age</th>\n",
              "      <th>Satisfaction</th>\n",
              "      <th>Job</th>\n",
              "      <th>Outcome</th>\n",
              "    </tr>\n",
              "  </thead>\n",
              "  <tbody>\n",
              "    <tr>\n",
              "      <th>496</th>\n",
              "      <td>2</td>\n",
              "      <td>68</td>\n",
              "      <td>62</td>\n",
              "      <td>13</td>\n",
              "      <td>15</td>\n",
              "      <td>20.1</td>\n",
              "      <td>257.0</td>\n",
              "      <td>23</td>\n",
              "      <td>Unsatisfied</td>\n",
              "      <td>High School Teacher</td>\n",
              "      <td>0</td>\n",
              "    </tr>\n",
              "    <tr>\n",
              "      <th>88</th>\n",
              "      <td>0</td>\n",
              "      <td>95</td>\n",
              "      <td>85</td>\n",
              "      <td>25</td>\n",
              "      <td>36</td>\n",
              "      <td>37.4</td>\n",
              "      <td>247.0</td>\n",
              "      <td>24</td>\n",
              "      <td>Extremely satisfied</td>\n",
              "      <td>High School Teacher</td>\n",
              "      <td>1</td>\n",
              "    </tr>\n",
              "    <tr>\n",
              "      <th>235</th>\n",
              "      <td>0</td>\n",
              "      <td>107</td>\n",
              "      <td>62</td>\n",
              "      <td>30</td>\n",
              "      <td>74</td>\n",
              "      <td>36.6</td>\n",
              "      <td>757.0</td>\n",
              "      <td>25</td>\n",
              "      <td>Extremely satisfied</td>\n",
              "      <td>High School Teacher</td>\n",
              "      <td>1</td>\n",
              "    </tr>\n",
              "    <tr>\n",
              "      <th>25</th>\n",
              "      <td>3</td>\n",
              "      <td>88</td>\n",
              "      <td>58</td>\n",
              "      <td>11</td>\n",
              "      <td>54</td>\n",
              "      <td>24.8</td>\n",
              "      <td>267.0</td>\n",
              "      <td>22</td>\n",
              "      <td>Extremely unsatisfied</td>\n",
              "      <td>Human Resources</td>\n",
              "      <td>0</td>\n",
              "    </tr>\n",
              "    <tr>\n",
              "      <th>345</th>\n",
              "      <td>1</td>\n",
              "      <td>95</td>\n",
              "      <td>82</td>\n",
              "      <td>25</td>\n",
              "      <td>180</td>\n",
              "      <td>35.0</td>\n",
              "      <td>233.0</td>\n",
              "      <td>43</td>\n",
              "      <td>Extremely satisfied</td>\n",
              "      <td>High School Teacher</td>\n",
              "      <td>1</td>\n",
              "    </tr>\n",
              "  </tbody>\n",
              "</table>\n",
              "</div>"
            ],
            "text/plain": [
              "     Pregnancies  Glucose  BloodPressure  SkinThickness  Insulin   BMI  \\\n",
              "496            2       68             62             13       15  20.1   \n",
              "88             0       95             85             25       36  37.4   \n",
              "235            0      107             62             30       74  36.6   \n",
              "25             3       88             58             11       54  24.8   \n",
              "345            1       95             82             25      180  35.0   \n",
              "\n",
              "     DiabetesPedigreeFunction  Age           Satisfaction  \\\n",
              "496                     257.0   23            Unsatisfied   \n",
              "88                      247.0   24    Extremely satisfied   \n",
              "235                     757.0   25    Extremely satisfied   \n",
              "25                      267.0   22  Extremely unsatisfied   \n",
              "345                     233.0   43    Extremely satisfied   \n",
              "\n",
              "                     Job  Outcome  \n",
              "496  High School Teacher        0  \n",
              "88   High School Teacher        1  \n",
              "235  High School Teacher        1  \n",
              "25       Human Resources        0  \n",
              "345  High School Teacher        1  "
            ]
          },
          "execution_count": 8,
          "metadata": {},
          "output_type": "execute_result"
        }
      ],
      "source": [
        "df2.sample(5)"
      ]
    },
    {
      "cell_type": "markdown",
      "metadata": {
        "id": "WzDdemyBn_Yb"
      },
      "source": [
        "# Preparamos los datos\n",
        "\n"
      ]
    },
    {
      "cell_type": "markdown",
      "metadata": {
        "id": "7z_VYt1u2jHJ"
      },
      "source": [
        "## Transformar variables ordinales en numéricas\n",
        "\n",
        "Como vemos tenemos la variable Satisfaction que es una variable ordinal y podemos suponer que el impacto que podrá tener sobre la variable a predecir (diabetes si/no) permanecerá constante al pasar de una categoría a la siguiente. por eso, la codificaremos como variable ordinal"
      ]
    },
    {
      "cell_type": "code",
      "execution_count": 9,
      "metadata": {},
      "outputs": [
        {
          "data": {
            "text/plain": [
              "Unsatisfied              175\n",
              "Extremely unsatisfied    149\n",
              "Extremely satisfied      141\n",
              "Satisfied                105\n",
              "Name: Satisfaction, dtype: int64"
            ]
          },
          "execution_count": 9,
          "metadata": {},
          "output_type": "execute_result"
        }
      ],
      "source": [
        "df2[\"Satisfaction\"].value_counts()"
      ]
    },
    {
      "cell_type": "code",
      "execution_count": 10,
      "metadata": {
        "id": "YiQl7BDI3IZc"
      },
      "outputs": [],
      "source": [
        "# Creamos el objeto que realizará la transformación dándole el orden en una lista con doble corchete\n",
        "# Tu código aquí debajo\n",
        "\n",
        "# Particularizamos el codificador en nuestros datos\n",
        "# Tu código\n",
        "\n",
        "# Aplicamos el codificador ya particularizado a nuestros datos y lo guardamos machacando la misma variable\n",
        "# Tu código aquí debajo\n",
        "\n",
        "# Imprime la dimensión de los datos y un sample\n",
        "# Tu código aquí debajo\n",
        "\n",
        "ordinal_encoder = OrdinalEncoder(categories = [['Extremely unsatisfied','Unsatisfied','Satisfied','Extremely satisfied']],dtype= 'int')\n",
        "\n",
        "df2['Satisfaction'] = ordinal_encoder.fit_transform(df2[[\"Satisfaction\"]])\n"
      ]
    },
    {
      "cell_type": "code",
      "execution_count": 11,
      "metadata": {
        "id": "VpVBzcaQzlP2"
      },
      "outputs": [],
      "source": [
        "# Guardamos el codificador\n",
        "# Tu código aquí debajo"
      ]
    },
    {
      "cell_type": "markdown",
      "metadata": {
        "id": "ri15I4Bo4Zl9"
      },
      "source": [
        "## Transformar variables nominales en numéricas\n",
        "\n",
        "Como vemos tenemos la variable Job que es una variable nominal (sin orden) y debenmos codificarla mediante el One-Hot encoder"
      ]
    },
    {
      "cell_type": "code",
      "execution_count": 12,
      "metadata": {
        "id": "q5h9DNSEeQ2w"
      },
      "outputs": [
        {
          "data": {
            "text/html": [
              "<div>\n",
              "<style scoped>\n",
              "    .dataframe tbody tr th:only-of-type {\n",
              "        vertical-align: middle;\n",
              "    }\n",
              "\n",
              "    .dataframe tbody tr th {\n",
              "        vertical-align: top;\n",
              "    }\n",
              "\n",
              "    .dataframe thead th {\n",
              "        text-align: right;\n",
              "    }\n",
              "</style>\n",
              "<table border=\"1\" class=\"dataframe\">\n",
              "  <thead>\n",
              "    <tr style=\"text-align: right;\">\n",
              "      <th></th>\n",
              "      <th>Pregnancies</th>\n",
              "      <th>Glucose</th>\n",
              "      <th>BloodPressure</th>\n",
              "      <th>SkinThickness</th>\n",
              "      <th>Insulin</th>\n",
              "      <th>BMI</th>\n",
              "      <th>DiabetesPedigreeFunction</th>\n",
              "      <th>Age</th>\n",
              "      <th>Satisfaction</th>\n",
              "      <th>Outcome</th>\n",
              "      <th>Job_Database Administrator</th>\n",
              "      <th>Job_Epidemiologist</th>\n",
              "      <th>Job_Financial Analyst</th>\n",
              "      <th>Job_Firefighter</th>\n",
              "      <th>Job_High School Teacher</th>\n",
              "      <th>Job_Human Resources</th>\n",
              "      <th>Job_Legislator</th>\n",
              "      <th>Job_Market Research Analyst</th>\n",
              "      <th>Job_Physicians</th>\n",
              "      <th>Job_Statistician</th>\n",
              "    </tr>\n",
              "  </thead>\n",
              "  <tbody>\n",
              "    <tr>\n",
              "      <th>560</th>\n",
              "      <td>1</td>\n",
              "      <td>128</td>\n",
              "      <td>88</td>\n",
              "      <td>39</td>\n",
              "      <td>110</td>\n",
              "      <td>36.5</td>\n",
              "      <td>1057.0</td>\n",
              "      <td>37</td>\n",
              "      <td>3</td>\n",
              "      <td>1</td>\n",
              "      <td>0.0</td>\n",
              "      <td>0.0</td>\n",
              "      <td>0.0</td>\n",
              "      <td>0.0</td>\n",
              "      <td>1.0</td>\n",
              "      <td>0.0</td>\n",
              "      <td>0.0</td>\n",
              "      <td>0.0</td>\n",
              "      <td>0.0</td>\n",
              "      <td>0.0</td>\n",
              "    </tr>\n",
              "    <tr>\n",
              "      <th>388</th>\n",
              "      <td>3</td>\n",
              "      <td>125</td>\n",
              "      <td>58</td>\n",
              "      <td>0</td>\n",
              "      <td>0</td>\n",
              "      <td>31.6</td>\n",
              "      <td>151.0</td>\n",
              "      <td>24</td>\n",
              "      <td>1</td>\n",
              "      <td>0</td>\n",
              "      <td>0.0</td>\n",
              "      <td>0.0</td>\n",
              "      <td>0.0</td>\n",
              "      <td>0.0</td>\n",
              "      <td>0.0</td>\n",
              "      <td>0.0</td>\n",
              "      <td>0.0</td>\n",
              "      <td>0.0</td>\n",
              "      <td>0.0</td>\n",
              "      <td>1.0</td>\n",
              "    </tr>\n",
              "    <tr>\n",
              "      <th>419</th>\n",
              "      <td>0</td>\n",
              "      <td>91</td>\n",
              "      <td>80</td>\n",
              "      <td>0</td>\n",
              "      <td>0</td>\n",
              "      <td>32.4</td>\n",
              "      <td>601.0</td>\n",
              "      <td>27</td>\n",
              "      <td>0</td>\n",
              "      <td>0</td>\n",
              "      <td>0.0</td>\n",
              "      <td>0.0</td>\n",
              "      <td>0.0</td>\n",
              "      <td>0.0</td>\n",
              "      <td>0.0</td>\n",
              "      <td>0.0</td>\n",
              "      <td>1.0</td>\n",
              "      <td>0.0</td>\n",
              "      <td>0.0</td>\n",
              "      <td>0.0</td>\n",
              "    </tr>\n",
              "    <tr>\n",
              "      <th>138</th>\n",
              "      <td>0</td>\n",
              "      <td>119</td>\n",
              "      <td>64</td>\n",
              "      <td>18</td>\n",
              "      <td>92</td>\n",
              "      <td>34.9</td>\n",
              "      <td>725.0</td>\n",
              "      <td>23</td>\n",
              "      <td>0</td>\n",
              "      <td>0</td>\n",
              "      <td>0.0</td>\n",
              "      <td>0.0</td>\n",
              "      <td>0.0</td>\n",
              "      <td>1.0</td>\n",
              "      <td>0.0</td>\n",
              "      <td>0.0</td>\n",
              "      <td>0.0</td>\n",
              "      <td>0.0</td>\n",
              "      <td>0.0</td>\n",
              "      <td>0.0</td>\n",
              "    </tr>\n",
              "    <tr>\n",
              "      <th>386</th>\n",
              "      <td>3</td>\n",
              "      <td>124</td>\n",
              "      <td>80</td>\n",
              "      <td>33</td>\n",
              "      <td>130</td>\n",
              "      <td>33.2</td>\n",
              "      <td>305.0</td>\n",
              "      <td>26</td>\n",
              "      <td>1</td>\n",
              "      <td>0</td>\n",
              "      <td>0.0</td>\n",
              "      <td>1.0</td>\n",
              "      <td>0.0</td>\n",
              "      <td>0.0</td>\n",
              "      <td>0.0</td>\n",
              "      <td>0.0</td>\n",
              "      <td>0.0</td>\n",
              "      <td>0.0</td>\n",
              "      <td>0.0</td>\n",
              "      <td>0.0</td>\n",
              "    </tr>\n",
              "  </tbody>\n",
              "</table>\n",
              "</div>"
            ],
            "text/plain": [
              "     Pregnancies  Glucose  BloodPressure  SkinThickness  Insulin   BMI  \\\n",
              "560            1      128             88             39      110  36.5   \n",
              "388            3      125             58              0        0  31.6   \n",
              "419            0       91             80              0        0  32.4   \n",
              "138            0      119             64             18       92  34.9   \n",
              "386            3      124             80             33      130  33.2   \n",
              "\n",
              "     DiabetesPedigreeFunction  Age  Satisfaction  Outcome  \\\n",
              "560                    1057.0   37             3        1   \n",
              "388                     151.0   24             1        0   \n",
              "419                     601.0   27             0        0   \n",
              "138                     725.0   23             0        0   \n",
              "386                     305.0   26             1        0   \n",
              "\n",
              "     Job_Database Administrator  Job_Epidemiologist  Job_Financial Analyst  \\\n",
              "560                         0.0                 0.0                    0.0   \n",
              "388                         0.0                 0.0                    0.0   \n",
              "419                         0.0                 0.0                    0.0   \n",
              "138                         0.0                 0.0                    0.0   \n",
              "386                         0.0                 1.0                    0.0   \n",
              "\n",
              "     Job_Firefighter  Job_High School Teacher  Job_Human Resources  \\\n",
              "560              0.0                      1.0                  0.0   \n",
              "388              0.0                      0.0                  0.0   \n",
              "419              0.0                      0.0                  0.0   \n",
              "138              1.0                      0.0                  0.0   \n",
              "386              0.0                      0.0                  0.0   \n",
              "\n",
              "     Job_Legislator  Job_Market Research Analyst  Job_Physicians  \\\n",
              "560             0.0                          0.0             0.0   \n",
              "388             0.0                          0.0             0.0   \n",
              "419             1.0                          0.0             0.0   \n",
              "138             0.0                          0.0             0.0   \n",
              "386             0.0                          0.0             0.0   \n",
              "\n",
              "     Job_Statistician  \n",
              "560               0.0  \n",
              "388               1.0  \n",
              "419               0.0  \n",
              "138               0.0  \n",
              "386               0.0  "
            ]
          },
          "execution_count": 12,
          "metadata": {},
          "output_type": "execute_result"
        }
      ],
      "source": [
        "# Tu código\n",
        "\n",
        "OneHot = OneHotEncoder()\n",
        "aux = OneHot.fit_transform(df2[['Job']])\n",
        "\n",
        "df2_one_hot = pd.DataFrame(aux.toarray(),columns=OneHot.get_feature_names_out(['Job']))\n",
        "df2.reset_index(drop=True,inplace=True)\n",
        "df2_one_hot.reset_index(drop=True,inplace=True)\n",
        "df2=pd.concat([df2,df2_one_hot],axis=1)\n",
        "df2.drop(columns='Job',inplace=True)\n",
        "df2.sample(5)"
      ]
    },
    {
      "cell_type": "code",
      "execution_count": 13,
      "metadata": {
        "id": "CJYia9pz0YwA"
      },
      "outputs": [],
      "source": [
        "# Guardamos el codificador"
      ]
    },
    {
      "cell_type": "markdown",
      "metadata": {
        "id": "X_Z2GFhsbz_u"
      },
      "source": [
        "# REGRESIÓN LOGÍSTICA. Usamos la estandarización"
      ]
    },
    {
      "cell_type": "markdown",
      "metadata": {
        "id": "N_pSzgROQ6kO"
      },
      "source": [
        "## 0. Separar la variable a predecir y las predictoras"
      ]
    },
    {
      "cell_type": "code",
      "execution_count": 14,
      "metadata": {
        "id": "C0NHPPAAVaHT"
      },
      "outputs": [],
      "source": [
        "# Tu código aquí debajo\n",
        "X = df2.drop(columns=[\"Outcome\"],inplace=False)\n",
        "y = df2[\"Outcome\"]"
      ]
    },
    {
      "cell_type": "code",
      "execution_count": 15,
      "metadata": {
        "id": "mpiH6HxB3UFd"
      },
      "outputs": [
        {
          "data": {
            "text/plain": [
              "(570, 19)"
            ]
          },
          "execution_count": 15,
          "metadata": {},
          "output_type": "execute_result"
        }
      ],
      "source": [
        "# Imprime la dimensión de los datos que vayas creando\n",
        "# Tu código aquí debajo\n",
        "\n",
        "X.shape"
      ]
    },
    {
      "cell_type": "markdown",
      "metadata": {
        "id": "tA0UrXKgVbDH"
      },
      "source": [
        "## 1. Split. Separar los datos en conjunto de entrenamiento (train) y conjunto de evaluación o test(test)"
      ]
    },
    {
      "cell_type": "code",
      "execution_count": 16,
      "metadata": {
        "id": "AVzJWAXIhxoC"
      },
      "outputs": [],
      "source": [
        "# Tu código aquí debajo\n",
        "\n",
        "from sklearn.model_selection import train_test_split\n",
        "\n",
        "X_train, X_test, y_train, y_test = train_test_split(X, y, test_size=0.2, random_state=42)"
      ]
    },
    {
      "cell_type": "code",
      "execution_count": 17,
      "metadata": {
        "id": "EAQrgSJx3EEv"
      },
      "outputs": [
        {
          "name": "stdout",
          "output_type": "stream",
          "text": [
            "(456, 19)\n",
            "(114, 19)\n",
            "(456,)\n",
            "(114,)\n"
          ]
        }
      ],
      "source": [
        "# Imprime la dimensión de los datos que vayas creando\n",
        "# Tu código aquí debajo\n",
        "print(X_train.shape)\n",
        "print(X_test.shape)\n",
        "print(y_train.shape)\n",
        "print(y_test.shape)\n"
      ]
    },
    {
      "cell_type": "markdown",
      "metadata": {
        "id": "YQ1xMWy76B1c"
      },
      "source": [
        "## 2. Estandarización controlada.\n",
        "\n",
        "* Fit en el train\n",
        "* Transform en el train\n",
        "* Transform en el test"
      ]
    },
    {
      "cell_type": "code",
      "execution_count": 18,
      "metadata": {
        "id": "Ewg_wFVS6Yg6"
      },
      "outputs": [],
      "source": [
        "# Imprime la dimensión de los datos que vayas creando\n",
        "# Tu código aquí debajo\n",
        "\n",
        "scaler = StandardScaler()\n",
        "\n",
        "X_train_std = scaler.fit_transform(X_train)\n",
        "X_test_std = scaler.transform(X_test)\n",
        "\n"
      ]
    },
    {
      "cell_type": "code",
      "execution_count": 19,
      "metadata": {
        "id": "cxFU-J657KrA"
      },
      "outputs": [
        {
          "name": "stdout",
          "output_type": "stream",
          "text": [
            "(456, 19)\n",
            "(114, 19)\n"
          ]
        }
      ],
      "source": [
        "# Imprime la dimensión de los datos que vayas creando\n",
        "# Tu código aquí debajo\n",
        "\n",
        "print(X_train_std.shape)\n",
        "print(X_test_std.shape)"
      ]
    },
    {
      "cell_type": "markdown",
      "metadata": {
        "id": "f6LM6Ya2b59c"
      },
      "source": [
        "## 3. Fit. Entrenar el modelo\n",
        "\n",
        "* Creamos el modelo\n",
        "* Entrenamos el modelo sobre los datos de train y obtenemos el modelo entrenado"
      ]
    },
    {
      "cell_type": "code",
      "execution_count": 20,
      "metadata": {
        "id": "zru2fNx5b90Y"
      },
      "outputs": [
        {
          "data": {
            "text/plain": [
              "DecisionTreeClassifier()"
            ]
          },
          "execution_count": 20,
          "metadata": {},
          "output_type": "execute_result"
        }
      ],
      "source": [
        "# Cargamos el modelo y lo creamos\n",
        "# Imprime la dimensión de los datos que vayas creando\n",
        "# Tu código aquí debajo\n",
        "\n",
        "LR = DecisionTreeClassifier()\n",
        "\n",
        "LR.fit(X_train_std,y_train)\n",
        "\n",
        "# Ahora LR ya es un modelo que se puede entrenar (fit)"
      ]
    },
    {
      "cell_type": "markdown",
      "metadata": {
        "id": "MZGIoGlyclGh"
      },
      "source": [
        "## 4. Evaluar el Modelo\n",
        "\n",
        "* Hacemos predicciones sobre el conjunto de test\n",
        "* Comparamos esas predicciones con los valores reales. Calculamos la precisión (accuracy)"
      ]
    },
    {
      "cell_type": "code",
      "execution_count": 21,
      "metadata": {
        "id": "AEAHvNMEcmu-"
      },
      "outputs": [
        {
          "data": {
            "text/plain": [
              "0.7543859649122807"
            ]
          },
          "execution_count": 21,
          "metadata": {},
          "output_type": "execute_result"
        }
      ],
      "source": [
        "# Hacemos predicciones sobre el conjunto de test y la guardamos en predictions\n",
        "# Tu código aquí debajo\n",
        "\n",
        "predicciones = LR.predict(X_test_std)\n",
        "\n",
        "accuracy_score(y_test,predicciones)"
      ]
    },
    {
      "cell_type": "code",
      "execution_count": 22,
      "metadata": {
        "id": "1Pf9dY9l-rAs"
      },
      "outputs": [],
      "source": [
        "# Calculamos la Accuracy\n",
        "# Tu código aquí debajo\n",
        "metricas_LR = []\n",
        "\n",
        "metricas_LR.append(accuracy_score(y_test, predicciones))\n",
        "metricas_LR.append(precision_score(y_test, predicciones))\n",
        "metricas_LR.append(recall_score(y_test, predicciones))\n",
        "metricas_LR.append(f1_score(y_test, predicciones))"
      ]
    },
    {
      "cell_type": "markdown",
      "metadata": {
        "id": "qt0iUei6BOOk"
      },
      "source": [
        "## 5. DECISION TREE\n",
        "\n",
        "* Iniciamos libreria \"Decision Tree\"\n",
        "* Creamos codigo"
      ]
    },
    {
      "cell_type": "code",
      "execution_count": 23,
      "metadata": {},
      "outputs": [
        {
          "data": {
            "text/plain": [
              "[0.8070175438596491, 0.7272727272727273, 0.5, 0.5925925925925926]"
            ]
          },
          "execution_count": 23,
          "metadata": {},
          "output_type": "execute_result"
        }
      ],
      "source": [
        "DT = DecisionTreeClassifier()\n",
        "DT.fit(X_train, y_train)\n",
        "\n",
        "prediction_tree = DT.predict(X_test)\n",
        "metricas_DT = []\n",
        "\n",
        "metricas_DT.append(accuracy_score(y_test, prediction_tree))\n",
        "\n",
        "metricas_DT.append(precision_score(y_test, prediction_tree))\n",
        "\n",
        "metricas_DT.append(recall_score(y_test, prediction_tree))\n",
        "\n",
        "metricas_DT.append(f1_score(y_test, prediction_tree))\n",
        "\n",
        "metricas_DT"
      ]
    },
    {
      "cell_type": "code",
      "execution_count": 24,
      "metadata": {},
      "outputs": [
        {
          "data": {
            "text/plain": [
              "DecisionTreeClassifier()"
            ]
          },
          "execution_count": 24,
          "metadata": {},
          "output_type": "execute_result"
        }
      ],
      "source": [
        "est_final = StandardScaler()\n",
        "est_final.fit(X)\n",
        "\n",
        "X_std = est_final.transform(X)\n",
        "\n",
        "DT_final = DecisionTreeClassifier()\n",
        "DT_final.fit(X_std, y)"
      ]
    },
    {
      "cell_type": "code",
      "execution_count": 25,
      "metadata": {},
      "outputs": [
        {
          "data": {
            "text/plain": [
              "['DT_final.std']"
            ]
          },
          "execution_count": 25,
          "metadata": {},
          "output_type": "execute_result"
        }
      ],
      "source": [
        "dump(est_final,'standard_final.std')\n",
        "dump(OneHot, 'one_hot_final.std')\n",
        "dump(ordinal_encoder, \"ordinal_final.std\")\n",
        "dump(DT_final, 'DT_final.std')"
      ]
    },
    {
      "cell_type": "code",
      "execution_count": 26,
      "metadata": {},
      "outputs": [],
      "source": [
        "model = load('DT_final.std')\n",
        "ohf = load('one_hot_final.std')\n",
        "odf = load('ordinal_final.std')\n",
        "stf = load('standard_final.std')"
      ]
    },
    {
      "cell_type": "code",
      "execution_count": 27,
      "metadata": {},
      "outputs": [],
      "source": [
        "new_dat = pd.read_excel('diabetes_new_data.xlsx')"
      ]
    },
    {
      "cell_type": "code",
      "execution_count": 28,
      "metadata": {},
      "outputs": [],
      "source": [
        "# Ordinal encoder\n",
        "\n",
        "new_dat[\"Satisfaction\"] = odf.transform(new_dat[[\"Satisfaction\"]])"
      ]
    },
    {
      "cell_type": "code",
      "execution_count": 29,
      "metadata": {},
      "outputs": [
        {
          "name": "stderr",
          "output_type": "stream",
          "text": [
            "c:\\ProgramData\\Anaconda3\\lib\\site-packages\\sklearn\\utils\\deprecation.py:87: FutureWarning: Function get_feature_names is deprecated; get_feature_names is deprecated in 1.0 and will be removed in 1.2. Please use get_feature_names_out instead.\n",
            "  warnings.warn(msg, category=FutureWarning)\n"
          ]
        }
      ],
      "source": [
        "# One Hot Encoder\n",
        "\n",
        "OneHot = OneHotEncoder()\n",
        "aux = ohf.transform(new_dat[[\"Job\"]])\n",
        "encoded_df = pd.DataFrame(aux.toarray(), columns = ohf.get_feature_names([\"Job\"]))\n",
        "new_dat.reset_index(drop = True, inplace = True)\n",
        "encoded_df.reset_index(drop = True, inplace = True)\n",
        "\n",
        "new_dat = pd.concat([new_dat, encoded_df], axis = 1)\n",
        "new_dat.drop(columns= \"Job\", inplace = True)"
      ]
    },
    {
      "cell_type": "code",
      "execution_count": 30,
      "metadata": {},
      "outputs": [
        {
          "data": {
            "text/html": [
              "<div>\n",
              "<style scoped>\n",
              "    .dataframe tbody tr th:only-of-type {\n",
              "        vertical-align: middle;\n",
              "    }\n",
              "\n",
              "    .dataframe tbody tr th {\n",
              "        vertical-align: top;\n",
              "    }\n",
              "\n",
              "    .dataframe thead th {\n",
              "        text-align: right;\n",
              "    }\n",
              "</style>\n",
              "<table border=\"1\" class=\"dataframe\">\n",
              "  <thead>\n",
              "    <tr style=\"text-align: right;\">\n",
              "      <th></th>\n",
              "      <th>Pregnancies</th>\n",
              "      <th>Glucose</th>\n",
              "      <th>BloodPressure</th>\n",
              "      <th>SkinThickness</th>\n",
              "      <th>Insulin</th>\n",
              "      <th>BMI</th>\n",
              "      <th>DiabetesPedigreeFunction</th>\n",
              "      <th>Age</th>\n",
              "      <th>Satisfaction</th>\n",
              "      <th>Job_Database Administrator</th>\n",
              "      <th>Job_Epidemiologist</th>\n",
              "      <th>Job_Financial Analyst</th>\n",
              "      <th>Job_Firefighter</th>\n",
              "      <th>Job_High School Teacher</th>\n",
              "      <th>Job_Human Resources</th>\n",
              "      <th>Job_Legislator</th>\n",
              "      <th>Job_Market Research Analyst</th>\n",
              "      <th>Job_Physicians</th>\n",
              "      <th>Job_Statistician</th>\n",
              "    </tr>\n",
              "  </thead>\n",
              "  <tbody>\n",
              "    <tr>\n",
              "      <th>0</th>\n",
              "      <td>10</td>\n",
              "      <td>100</td>\n",
              "      <td>72</td>\n",
              "      <td>35</td>\n",
              "      <td>0</td>\n",
              "      <td>33.6</td>\n",
              "      <td>627</td>\n",
              "      <td>50</td>\n",
              "      <td>0</td>\n",
              "      <td>0.0</td>\n",
              "      <td>0.0</td>\n",
              "      <td>0.0</td>\n",
              "      <td>0.0</td>\n",
              "      <td>0.0</td>\n",
              "      <td>1.0</td>\n",
              "      <td>0.0</td>\n",
              "      <td>0.0</td>\n",
              "      <td>0.0</td>\n",
              "      <td>0.0</td>\n",
              "    </tr>\n",
              "    <tr>\n",
              "      <th>1</th>\n",
              "      <td>1</td>\n",
              "      <td>85</td>\n",
              "      <td>70</td>\n",
              "      <td>29</td>\n",
              "      <td>0</td>\n",
              "      <td>26.6</td>\n",
              "      <td>351</td>\n",
              "      <td>31</td>\n",
              "      <td>1</td>\n",
              "      <td>0.0</td>\n",
              "      <td>0.0</td>\n",
              "      <td>1.0</td>\n",
              "      <td>0.0</td>\n",
              "      <td>0.0</td>\n",
              "      <td>0.0</td>\n",
              "      <td>0.0</td>\n",
              "      <td>0.0</td>\n",
              "      <td>0.0</td>\n",
              "      <td>0.0</td>\n",
              "    </tr>\n",
              "    <tr>\n",
              "      <th>2</th>\n",
              "      <td>0</td>\n",
              "      <td>183</td>\n",
              "      <td>64</td>\n",
              "      <td>5</td>\n",
              "      <td>10</td>\n",
              "      <td>30.0</td>\n",
              "      <td>672</td>\n",
              "      <td>32</td>\n",
              "      <td>2</td>\n",
              "      <td>0.0</td>\n",
              "      <td>0.0</td>\n",
              "      <td>0.0</td>\n",
              "      <td>0.0</td>\n",
              "      <td>1.0</td>\n",
              "      <td>0.0</td>\n",
              "      <td>0.0</td>\n",
              "      <td>0.0</td>\n",
              "      <td>0.0</td>\n",
              "      <td>0.0</td>\n",
              "    </tr>\n",
              "    <tr>\n",
              "      <th>3</th>\n",
              "      <td>3</td>\n",
              "      <td>89</td>\n",
              "      <td>66</td>\n",
              "      <td>23</td>\n",
              "      <td>94</td>\n",
              "      <td>28.1</td>\n",
              "      <td>167</td>\n",
              "      <td>21</td>\n",
              "      <td>3</td>\n",
              "      <td>0.0</td>\n",
              "      <td>0.0</td>\n",
              "      <td>0.0</td>\n",
              "      <td>0.0</td>\n",
              "      <td>0.0</td>\n",
              "      <td>0.0</td>\n",
              "      <td>1.0</td>\n",
              "      <td>0.0</td>\n",
              "      <td>0.0</td>\n",
              "      <td>0.0</td>\n",
              "    </tr>\n",
              "  </tbody>\n",
              "</table>\n",
              "</div>"
            ],
            "text/plain": [
              "   Pregnancies  Glucose  BloodPressure  SkinThickness  Insulin   BMI  \\\n",
              "0           10      100             72             35        0  33.6   \n",
              "1            1       85             70             29        0  26.6   \n",
              "2            0      183             64              5       10  30.0   \n",
              "3            3       89             66             23       94  28.1   \n",
              "\n",
              "   DiabetesPedigreeFunction  Age  Satisfaction  Job_Database Administrator  \\\n",
              "0                       627   50             0                         0.0   \n",
              "1                       351   31             1                         0.0   \n",
              "2                       672   32             2                         0.0   \n",
              "3                       167   21             3                         0.0   \n",
              "\n",
              "   Job_Epidemiologist  Job_Financial Analyst  Job_Firefighter  \\\n",
              "0                 0.0                    0.0              0.0   \n",
              "1                 0.0                    1.0              0.0   \n",
              "2                 0.0                    0.0              0.0   \n",
              "3                 0.0                    0.0              0.0   \n",
              "\n",
              "   Job_High School Teacher  Job_Human Resources  Job_Legislator  \\\n",
              "0                      0.0                  1.0             0.0   \n",
              "1                      0.0                  0.0             0.0   \n",
              "2                      1.0                  0.0             0.0   \n",
              "3                      0.0                  0.0             1.0   \n",
              "\n",
              "   Job_Market Research Analyst  Job_Physicians  Job_Statistician  \n",
              "0                          0.0             0.0               0.0  \n",
              "1                          0.0             0.0               0.0  \n",
              "2                          0.0             0.0               0.0  \n",
              "3                          0.0             0.0               0.0  "
            ]
          },
          "execution_count": 30,
          "metadata": {},
          "output_type": "execute_result"
        }
      ],
      "source": [
        "new_dat"
      ]
    },
    {
      "cell_type": "code",
      "execution_count": 31,
      "metadata": {},
      "outputs": [],
      "source": [
        "dict = {\"Logistic Regression\": metricas_LR, \"Decision Tree\": metricas_DT}\n",
        "results = pd.DataFrame(dict,index = [\"Acuracy\",\"Precision\",\"Recall\",\"F1\"])"
      ]
    },
    {
      "cell_type": "code",
      "execution_count": 32,
      "metadata": {},
      "outputs": [
        {
          "data": {
            "text/html": [
              "<div>\n",
              "<style scoped>\n",
              "    .dataframe tbody tr th:only-of-type {\n",
              "        vertical-align: middle;\n",
              "    }\n",
              "\n",
              "    .dataframe tbody tr th {\n",
              "        vertical-align: top;\n",
              "    }\n",
              "\n",
              "    .dataframe thead th {\n",
              "        text-align: right;\n",
              "    }\n",
              "</style>\n",
              "<table border=\"1\" class=\"dataframe\">\n",
              "  <thead>\n",
              "    <tr style=\"text-align: right;\">\n",
              "      <th></th>\n",
              "      <th>Logistic Regression</th>\n",
              "      <th>Decision Tree</th>\n",
              "    </tr>\n",
              "  </thead>\n",
              "  <tbody>\n",
              "    <tr>\n",
              "      <th>Acuracy</th>\n",
              "      <td>0.754386</td>\n",
              "      <td>0.807018</td>\n",
              "    </tr>\n",
              "    <tr>\n",
              "      <th>Precision</th>\n",
              "      <td>0.590909</td>\n",
              "      <td>0.727273</td>\n",
              "    </tr>\n",
              "    <tr>\n",
              "      <th>Recall</th>\n",
              "      <td>0.406250</td>\n",
              "      <td>0.500000</td>\n",
              "    </tr>\n",
              "    <tr>\n",
              "      <th>F1</th>\n",
              "      <td>0.481481</td>\n",
              "      <td>0.592593</td>\n",
              "    </tr>\n",
              "  </tbody>\n",
              "</table>\n",
              "</div>"
            ],
            "text/plain": [
              "           Logistic Regression  Decision Tree\n",
              "Acuracy               0.754386       0.807018\n",
              "Precision             0.590909       0.727273\n",
              "Recall                0.406250       0.500000\n",
              "F1                    0.481481       0.592593"
            ]
          },
          "execution_count": 32,
          "metadata": {},
          "output_type": "execute_result"
        }
      ],
      "source": [
        "results"
      ]
    },
    {
      "cell_type": "markdown",
      "metadata": {},
      "source": [
        "* Mostramos el decision tree graficamente:"
      ]
    },
    {
      "cell_type": "code",
      "execution_count": 33,
      "metadata": {},
      "outputs": [
        {
          "ename": "NameError",
          "evalue": "name 'new_data' is not defined",
          "output_type": "error",
          "traceback": [
            "\u001b[1;31m---------------------------------------------------------------------------\u001b[0m",
            "\u001b[1;31mNameError\u001b[0m                                 Traceback (most recent call last)",
            "\u001b[1;32m~\\AppData\\Local\\Temp\\ipykernel_17580\\1541445655.py\u001b[0m in \u001b[0;36m<module>\u001b[1;34m\u001b[0m\n\u001b[0;32m      3\u001b[0m \u001b[1;33m\u001b[0m\u001b[0m\n\u001b[0;32m      4\u001b[0m \u001b[0mfig\u001b[0m \u001b[1;33m=\u001b[0m \u001b[0mplt\u001b[0m\u001b[1;33m.\u001b[0m\u001b[0mfigure\u001b[0m\u001b[1;33m(\u001b[0m\u001b[0mfigsize\u001b[0m\u001b[1;33m=\u001b[0m\u001b[1;33m(\u001b[0m\u001b[1;36m16\u001b[0m\u001b[1;33m,\u001b[0m\u001b[1;36m12\u001b[0m\u001b[1;33m)\u001b[0m\u001b[1;33m)\u001b[0m\u001b[1;33m\u001b[0m\u001b[1;33m\u001b[0m\u001b[0m\n\u001b[1;32m----> 5\u001b[1;33m plot_tree(DT, feature_names=new_data.columns, fontsize=12, filled=True,\n\u001b[0m\u001b[0;32m      6\u001b[0m class_names=['NO','SI'])\n",
            "\u001b[1;31mNameError\u001b[0m: name 'new_data' is not defined"
          ]
        },
        {
          "data": {
            "text/plain": [
              "<Figure size 1600x1200 with 0 Axes>"
            ]
          },
          "metadata": {},
          "output_type": "display_data"
        }
      ],
      "source": [
        "from sklearn.tree import plot_tree\n",
        "import matplotlib.pyplot as plt\n",
        "\n",
        "fig = plt.figure(figsize=(16,12))\n",
        "plot_tree(DT, feature_names=new_data.columns, fontsize=12, filled=True,\n",
        "class_names=['NO','SI'])"
      ]
    },
    {
      "cell_type": "markdown",
      "metadata": {},
      "source": [
        "## 6. RANDOM FOREST"
      ]
    },
    {
      "cell_type": "code",
      "execution_count": null,
      "metadata": {},
      "outputs": [],
      "source": [
        "# Importamos libreria \"Random Forest\"\n",
        "\n",
        "from sklearn.ensemble import RandomForestClassifier\n",
        "\n",
        "RF = RandomForestClassifier()\n",
        "\n",
        "RF.fit(X_train, y_train)\n",
        "\n",
        "prediction_RF = RF.predict(X_test)\n",
        "\n",
        "metricas_RF = []\n",
        "\n",
        "metricas_RF.append(accuracy_score(y_test, prediction_RF))\n",
        "\n",
        "metricas_RF.append(precision_score(y_test, prediction_RF))\n",
        "\n",
        "metricas_RF.append(recall_score(y_test, prediction_RF))\n",
        "\n",
        "metricas_RF.append(f1_score(y_test, prediction_RF))\n",
        "\n",
        "metricas_RF\n",
        "\n",
        "dict = {\"Logistic Regression\": metricas_LR, \"Decision Tree\": metricas_DT, \"Random Forest\": metricas_RF}\n",
        "\n",
        "results = pd.DataFrame(dict,index = [\"Acuracy\",\"Precision\",\"Recall\",\"F1\"])\n",
        "\n",
        "results"
      ]
    }
  ],
  "metadata": {
    "colab": {
      "machine_shape": "hm",
      "provenance": []
    },
    "kernelspec": {
      "display_name": "base",
      "language": "python",
      "name": "python3"
    },
    "language_info": {
      "codemirror_mode": {
        "name": "ipython",
        "version": 3
      },
      "file_extension": ".py",
      "mimetype": "text/x-python",
      "name": "python",
      "nbconvert_exporter": "python",
      "pygments_lexer": "ipython3",
      "version": "3.9.13"
    }
  },
  "nbformat": 4,
  "nbformat_minor": 0
}
